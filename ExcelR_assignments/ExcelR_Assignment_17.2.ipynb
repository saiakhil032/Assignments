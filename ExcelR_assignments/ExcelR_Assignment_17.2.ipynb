{
 "cells": [
  {
   "cell_type": "markdown",
   "metadata": {},
   "source": [
    "# Support Vector Machines (SVM) (2)\n",
    "\n",
    "Name: SAI AKHIL SN | Batch Date: 27 Jan 2021"
   ]
  },
  {
   "cell_type": "markdown",
   "metadata": {},
   "source": [
    "#### Business Problem:\n",
    "classify the Size_Categorie using SVM"
   ]
  },
  {
   "cell_type": "code",
   "execution_count": 1,
   "metadata": {
    "ExecuteTime": {
     "end_time": "2021-04-12T11:56:56.778704Z",
     "start_time": "2021-04-12T11:56:44.432439Z"
    }
   },
   "outputs": [],
   "source": [
    "import numpy as np\n",
    "import pandas as pd\n",
    "import matplotlib.pyplot as plt\n",
    "%matplotlib inline\n",
    "from sklearn import svm\n",
    "from sklearn.svm import SVC\n",
    "from sklearn.model_selection import GridSearchCV\n",
    "from sklearn.metrics import classification_report\n",
    "\n",
    "from sklearn.preprocessing import StandardScaler\n",
    "\n",
    "from sklearn.metrics import accuracy_score, confusion_matrix\n",
    "from sklearn.model_selection import train_test_split, cross_val_score\n",
    "from sklearn import preprocessing\n"
   ]
  },
  {
   "cell_type": "code",
   "execution_count": 2,
   "metadata": {
    "ExecuteTime": {
     "end_time": "2021-04-12T11:56:58.137007Z",
     "start_time": "2021-04-12T11:56:58.115929Z"
    }
   },
   "outputs": [],
   "source": [
    "df=pd.read_csv('C:/ExcelrPy/Assignment-17/forestfires.csv')"
   ]
  },
  {
   "cell_type": "code",
   "execution_count": 3,
   "metadata": {
    "ExecuteTime": {
     "end_time": "2021-04-12T11:56:58.948155Z",
     "start_time": "2021-04-12T11:56:58.778747Z"
    }
   },
   "outputs": [
    {
     "data": {
      "text/html": [
       "<div>\n",
       "<style scoped>\n",
       "    .dataframe tbody tr th:only-of-type {\n",
       "        vertical-align: middle;\n",
       "    }\n",
       "\n",
       "    .dataframe tbody tr th {\n",
       "        vertical-align: top;\n",
       "    }\n",
       "\n",
       "    .dataframe thead th {\n",
       "        text-align: right;\n",
       "    }\n",
       "</style>\n",
       "<table border=\"1\" class=\"dataframe\">\n",
       "  <thead>\n",
       "    <tr style=\"text-align: right;\">\n",
       "      <th></th>\n",
       "      <th>month</th>\n",
       "      <th>day</th>\n",
       "      <th>FFMC</th>\n",
       "      <th>DMC</th>\n",
       "      <th>DC</th>\n",
       "      <th>ISI</th>\n",
       "      <th>temp</th>\n",
       "      <th>RH</th>\n",
       "      <th>wind</th>\n",
       "      <th>rain</th>\n",
       "      <th>...</th>\n",
       "      <th>monthfeb</th>\n",
       "      <th>monthjan</th>\n",
       "      <th>monthjul</th>\n",
       "      <th>monthjun</th>\n",
       "      <th>monthmar</th>\n",
       "      <th>monthmay</th>\n",
       "      <th>monthnov</th>\n",
       "      <th>monthoct</th>\n",
       "      <th>monthsep</th>\n",
       "      <th>size_category</th>\n",
       "    </tr>\n",
       "  </thead>\n",
       "  <tbody>\n",
       "    <tr>\n",
       "      <th>0</th>\n",
       "      <td>mar</td>\n",
       "      <td>fri</td>\n",
       "      <td>86.2</td>\n",
       "      <td>26.2</td>\n",
       "      <td>94.3</td>\n",
       "      <td>5.1</td>\n",
       "      <td>8.2</td>\n",
       "      <td>51</td>\n",
       "      <td>6.7</td>\n",
       "      <td>0.0</td>\n",
       "      <td>...</td>\n",
       "      <td>0</td>\n",
       "      <td>0</td>\n",
       "      <td>0</td>\n",
       "      <td>0</td>\n",
       "      <td>1</td>\n",
       "      <td>0</td>\n",
       "      <td>0</td>\n",
       "      <td>0</td>\n",
       "      <td>0</td>\n",
       "      <td>small</td>\n",
       "    </tr>\n",
       "    <tr>\n",
       "      <th>1</th>\n",
       "      <td>oct</td>\n",
       "      <td>tue</td>\n",
       "      <td>90.6</td>\n",
       "      <td>35.4</td>\n",
       "      <td>669.1</td>\n",
       "      <td>6.7</td>\n",
       "      <td>18.0</td>\n",
       "      <td>33</td>\n",
       "      <td>0.9</td>\n",
       "      <td>0.0</td>\n",
       "      <td>...</td>\n",
       "      <td>0</td>\n",
       "      <td>0</td>\n",
       "      <td>0</td>\n",
       "      <td>0</td>\n",
       "      <td>0</td>\n",
       "      <td>0</td>\n",
       "      <td>0</td>\n",
       "      <td>1</td>\n",
       "      <td>0</td>\n",
       "      <td>small</td>\n",
       "    </tr>\n",
       "    <tr>\n",
       "      <th>2</th>\n",
       "      <td>oct</td>\n",
       "      <td>sat</td>\n",
       "      <td>90.6</td>\n",
       "      <td>43.7</td>\n",
       "      <td>686.9</td>\n",
       "      <td>6.7</td>\n",
       "      <td>14.6</td>\n",
       "      <td>33</td>\n",
       "      <td>1.3</td>\n",
       "      <td>0.0</td>\n",
       "      <td>...</td>\n",
       "      <td>0</td>\n",
       "      <td>0</td>\n",
       "      <td>0</td>\n",
       "      <td>0</td>\n",
       "      <td>0</td>\n",
       "      <td>0</td>\n",
       "      <td>0</td>\n",
       "      <td>1</td>\n",
       "      <td>0</td>\n",
       "      <td>small</td>\n",
       "    </tr>\n",
       "    <tr>\n",
       "      <th>3</th>\n",
       "      <td>mar</td>\n",
       "      <td>fri</td>\n",
       "      <td>91.7</td>\n",
       "      <td>33.3</td>\n",
       "      <td>77.5</td>\n",
       "      <td>9.0</td>\n",
       "      <td>8.3</td>\n",
       "      <td>97</td>\n",
       "      <td>4.0</td>\n",
       "      <td>0.2</td>\n",
       "      <td>...</td>\n",
       "      <td>0</td>\n",
       "      <td>0</td>\n",
       "      <td>0</td>\n",
       "      <td>0</td>\n",
       "      <td>1</td>\n",
       "      <td>0</td>\n",
       "      <td>0</td>\n",
       "      <td>0</td>\n",
       "      <td>0</td>\n",
       "      <td>small</td>\n",
       "    </tr>\n",
       "    <tr>\n",
       "      <th>4</th>\n",
       "      <td>mar</td>\n",
       "      <td>sun</td>\n",
       "      <td>89.3</td>\n",
       "      <td>51.3</td>\n",
       "      <td>102.2</td>\n",
       "      <td>9.6</td>\n",
       "      <td>11.4</td>\n",
       "      <td>99</td>\n",
       "      <td>1.8</td>\n",
       "      <td>0.0</td>\n",
       "      <td>...</td>\n",
       "      <td>0</td>\n",
       "      <td>0</td>\n",
       "      <td>0</td>\n",
       "      <td>0</td>\n",
       "      <td>1</td>\n",
       "      <td>0</td>\n",
       "      <td>0</td>\n",
       "      <td>0</td>\n",
       "      <td>0</td>\n",
       "      <td>small</td>\n",
       "    </tr>\n",
       "  </tbody>\n",
       "</table>\n",
       "<p>5 rows × 31 columns</p>\n",
       "</div>"
      ],
      "text/plain": [
       "  month  day  FFMC   DMC     DC  ISI  temp  RH  wind  rain  ...  monthfeb  \\\n",
       "0   mar  fri  86.2  26.2   94.3  5.1   8.2  51   6.7   0.0  ...         0   \n",
       "1   oct  tue  90.6  35.4  669.1  6.7  18.0  33   0.9   0.0  ...         0   \n",
       "2   oct  sat  90.6  43.7  686.9  6.7  14.6  33   1.3   0.0  ...         0   \n",
       "3   mar  fri  91.7  33.3   77.5  9.0   8.3  97   4.0   0.2  ...         0   \n",
       "4   mar  sun  89.3  51.3  102.2  9.6  11.4  99   1.8   0.0  ...         0   \n",
       "\n",
       "   monthjan  monthjul  monthjun  monthmar  monthmay  monthnov  monthoct  \\\n",
       "0         0         0         0         1         0         0         0   \n",
       "1         0         0         0         0         0         0         1   \n",
       "2         0         0         0         0         0         0         1   \n",
       "3         0         0         0         1         0         0         0   \n",
       "4         0         0         0         1         0         0         0   \n",
       "\n",
       "   monthsep  size_category  \n",
       "0         0          small  \n",
       "1         0          small  \n",
       "2         0          small  \n",
       "3         0          small  \n",
       "4         0          small  \n",
       "\n",
       "[5 rows x 31 columns]"
      ]
     },
     "execution_count": 3,
     "metadata": {},
     "output_type": "execute_result"
    }
   ],
   "source": [
    "df.head()"
   ]
  },
  {
   "cell_type": "code",
   "execution_count": 4,
   "metadata": {
    "ExecuteTime": {
     "end_time": "2021-04-12T11:56:59.672362Z",
     "start_time": "2021-04-12T11:56:59.443854Z"
    }
   },
   "outputs": [
    {
     "data": {
      "text/plain": [
       "Index(['month', 'day', 'FFMC', 'DMC', 'DC', 'ISI', 'temp', 'RH', 'wind',\n",
       "       'rain', 'area', 'dayfri', 'daymon', 'daysat', 'daysun', 'daythu',\n",
       "       'daytue', 'daywed', 'monthapr', 'monthaug', 'monthdec', 'monthfeb',\n",
       "       'monthjan', 'monthjul', 'monthjun', 'monthmar', 'monthmay', 'monthnov',\n",
       "       'monthoct', 'monthsep', 'size_category'],\n",
       "      dtype='object')"
      ]
     },
     "execution_count": 4,
     "metadata": {},
     "output_type": "execute_result"
    }
   ],
   "source": [
    "df.columns"
   ]
  },
  {
   "cell_type": "code",
   "execution_count": 5,
   "metadata": {
    "ExecuteTime": {
     "end_time": "2021-04-12T11:57:00.338462Z",
     "start_time": "2021-04-12T11:57:00.325178Z"
    }
   },
   "outputs": [],
   "source": [
    "data=df.copy()"
   ]
  },
  {
   "cell_type": "code",
   "execution_count": 6,
   "metadata": {
    "ExecuteTime": {
     "end_time": "2021-04-12T11:57:01.232457Z",
     "start_time": "2021-04-12T11:57:01.218632Z"
    }
   },
   "outputs": [],
   "source": [
    "data.drop(['month','day'],axis=1,inplace=True)"
   ]
  },
  {
   "cell_type": "code",
   "execution_count": 7,
   "metadata": {
    "ExecuteTime": {
     "end_time": "2021-04-12T11:57:02.317067Z",
     "start_time": "2021-04-12T11:57:02.266428Z"
    }
   },
   "outputs": [
    {
     "data": {
      "text/html": [
       "<div>\n",
       "<style scoped>\n",
       "    .dataframe tbody tr th:only-of-type {\n",
       "        vertical-align: middle;\n",
       "    }\n",
       "\n",
       "    .dataframe tbody tr th {\n",
       "        vertical-align: top;\n",
       "    }\n",
       "\n",
       "    .dataframe thead th {\n",
       "        text-align: right;\n",
       "    }\n",
       "</style>\n",
       "<table border=\"1\" class=\"dataframe\">\n",
       "  <thead>\n",
       "    <tr style=\"text-align: right;\">\n",
       "      <th></th>\n",
       "      <th>FFMC</th>\n",
       "      <th>DMC</th>\n",
       "      <th>DC</th>\n",
       "      <th>ISI</th>\n",
       "      <th>temp</th>\n",
       "      <th>RH</th>\n",
       "      <th>wind</th>\n",
       "      <th>rain</th>\n",
       "      <th>area</th>\n",
       "      <th>dayfri</th>\n",
       "      <th>...</th>\n",
       "      <th>monthfeb</th>\n",
       "      <th>monthjan</th>\n",
       "      <th>monthjul</th>\n",
       "      <th>monthjun</th>\n",
       "      <th>monthmar</th>\n",
       "      <th>monthmay</th>\n",
       "      <th>monthnov</th>\n",
       "      <th>monthoct</th>\n",
       "      <th>monthsep</th>\n",
       "      <th>size_category</th>\n",
       "    </tr>\n",
       "  </thead>\n",
       "  <tbody>\n",
       "    <tr>\n",
       "      <th>0</th>\n",
       "      <td>86.2</td>\n",
       "      <td>26.2</td>\n",
       "      <td>94.3</td>\n",
       "      <td>5.1</td>\n",
       "      <td>8.2</td>\n",
       "      <td>51</td>\n",
       "      <td>6.7</td>\n",
       "      <td>0.0</td>\n",
       "      <td>0.0</td>\n",
       "      <td>1</td>\n",
       "      <td>...</td>\n",
       "      <td>0</td>\n",
       "      <td>0</td>\n",
       "      <td>0</td>\n",
       "      <td>0</td>\n",
       "      <td>1</td>\n",
       "      <td>0</td>\n",
       "      <td>0</td>\n",
       "      <td>0</td>\n",
       "      <td>0</td>\n",
       "      <td>small</td>\n",
       "    </tr>\n",
       "    <tr>\n",
       "      <th>1</th>\n",
       "      <td>90.6</td>\n",
       "      <td>35.4</td>\n",
       "      <td>669.1</td>\n",
       "      <td>6.7</td>\n",
       "      <td>18.0</td>\n",
       "      <td>33</td>\n",
       "      <td>0.9</td>\n",
       "      <td>0.0</td>\n",
       "      <td>0.0</td>\n",
       "      <td>0</td>\n",
       "      <td>...</td>\n",
       "      <td>0</td>\n",
       "      <td>0</td>\n",
       "      <td>0</td>\n",
       "      <td>0</td>\n",
       "      <td>0</td>\n",
       "      <td>0</td>\n",
       "      <td>0</td>\n",
       "      <td>1</td>\n",
       "      <td>0</td>\n",
       "      <td>small</td>\n",
       "    </tr>\n",
       "    <tr>\n",
       "      <th>2</th>\n",
       "      <td>90.6</td>\n",
       "      <td>43.7</td>\n",
       "      <td>686.9</td>\n",
       "      <td>6.7</td>\n",
       "      <td>14.6</td>\n",
       "      <td>33</td>\n",
       "      <td>1.3</td>\n",
       "      <td>0.0</td>\n",
       "      <td>0.0</td>\n",
       "      <td>0</td>\n",
       "      <td>...</td>\n",
       "      <td>0</td>\n",
       "      <td>0</td>\n",
       "      <td>0</td>\n",
       "      <td>0</td>\n",
       "      <td>0</td>\n",
       "      <td>0</td>\n",
       "      <td>0</td>\n",
       "      <td>1</td>\n",
       "      <td>0</td>\n",
       "      <td>small</td>\n",
       "    </tr>\n",
       "    <tr>\n",
       "      <th>3</th>\n",
       "      <td>91.7</td>\n",
       "      <td>33.3</td>\n",
       "      <td>77.5</td>\n",
       "      <td>9.0</td>\n",
       "      <td>8.3</td>\n",
       "      <td>97</td>\n",
       "      <td>4.0</td>\n",
       "      <td>0.2</td>\n",
       "      <td>0.0</td>\n",
       "      <td>1</td>\n",
       "      <td>...</td>\n",
       "      <td>0</td>\n",
       "      <td>0</td>\n",
       "      <td>0</td>\n",
       "      <td>0</td>\n",
       "      <td>1</td>\n",
       "      <td>0</td>\n",
       "      <td>0</td>\n",
       "      <td>0</td>\n",
       "      <td>0</td>\n",
       "      <td>small</td>\n",
       "    </tr>\n",
       "    <tr>\n",
       "      <th>4</th>\n",
       "      <td>89.3</td>\n",
       "      <td>51.3</td>\n",
       "      <td>102.2</td>\n",
       "      <td>9.6</td>\n",
       "      <td>11.4</td>\n",
       "      <td>99</td>\n",
       "      <td>1.8</td>\n",
       "      <td>0.0</td>\n",
       "      <td>0.0</td>\n",
       "      <td>0</td>\n",
       "      <td>...</td>\n",
       "      <td>0</td>\n",
       "      <td>0</td>\n",
       "      <td>0</td>\n",
       "      <td>0</td>\n",
       "      <td>1</td>\n",
       "      <td>0</td>\n",
       "      <td>0</td>\n",
       "      <td>0</td>\n",
       "      <td>0</td>\n",
       "      <td>small</td>\n",
       "    </tr>\n",
       "  </tbody>\n",
       "</table>\n",
       "<p>5 rows × 29 columns</p>\n",
       "</div>"
      ],
      "text/plain": [
       "   FFMC   DMC     DC  ISI  temp  RH  wind  rain  area  dayfri  ...  monthfeb  \\\n",
       "0  86.2  26.2   94.3  5.1   8.2  51   6.7   0.0   0.0       1  ...         0   \n",
       "1  90.6  35.4  669.1  6.7  18.0  33   0.9   0.0   0.0       0  ...         0   \n",
       "2  90.6  43.7  686.9  6.7  14.6  33   1.3   0.0   0.0       0  ...         0   \n",
       "3  91.7  33.3   77.5  9.0   8.3  97   4.0   0.2   0.0       1  ...         0   \n",
       "4  89.3  51.3  102.2  9.6  11.4  99   1.8   0.0   0.0       0  ...         0   \n",
       "\n",
       "   monthjan  monthjul  monthjun  monthmar  monthmay  monthnov  monthoct  \\\n",
       "0         0         0         0         1         0         0         0   \n",
       "1         0         0         0         0         0         0         1   \n",
       "2         0         0         0         0         0         0         1   \n",
       "3         0         0         0         1         0         0         0   \n",
       "4         0         0         0         1         0         0         0   \n",
       "\n",
       "   monthsep  size_category  \n",
       "0         0          small  \n",
       "1         0          small  \n",
       "2         0          small  \n",
       "3         0          small  \n",
       "4         0          small  \n",
       "\n",
       "[5 rows x 29 columns]"
      ]
     },
     "execution_count": 7,
     "metadata": {},
     "output_type": "execute_result"
    }
   ],
   "source": [
    "data.head()"
   ]
  },
  {
   "cell_type": "code",
   "execution_count": 14,
   "metadata": {
    "ExecuteTime": {
     "end_time": "2021-04-12T07:09:13.624259Z",
     "start_time": "2021-04-12T07:09:10.453916Z"
    },
    "scrolled": false
   },
   "outputs": [
    {
     "data": {
      "image/png": "[encoded data removed]",
      "text/plain": [
       "<Figure size 1440x1440 with 30 Axes>"
      ]
     },
     "metadata": {
      "needs_background": "light"
     },
     "output_type": "display_data"
    }
   ],
   "source": [
    "import seaborn as sns\n",
    "data.hist(edgecolor='black',figsize=(20,20),linewidth=1) \n",
    "plt.show()"
   ]
  },
  {
   "cell_type": "markdown",
   "metadata": {},
   "source": [
    "### Standardisation"
   ]
  },
  {
   "cell_type": "code",
   "execution_count": 8,
   "metadata": {
    "ExecuteTime": {
     "end_time": "2021-04-12T11:57:07.077822Z",
     "start_time": "2021-04-12T11:57:07.052583Z"
    }
   },
   "outputs": [],
   "source": [
    "data.iloc[:,0:9]=StandardScaler().fit_transform(data.iloc[:,0:9])"
   ]
  },
  {
   "cell_type": "code",
   "execution_count": 9,
   "metadata": {
    "ExecuteTime": {
     "end_time": "2021-04-12T11:57:09.247121Z",
     "start_time": "2021-04-12T11:57:09.182078Z"
    },
    "scrolled": true
   },
   "outputs": [
    {
     "data": {
      "text/html": [
       "<div>\n",
       "<style scoped>\n",
       "    .dataframe tbody tr th:only-of-type {\n",
       "        vertical-align: middle;\n",
       "    }\n",
       "\n",
       "    .dataframe tbody tr th {\n",
       "        vertical-align: top;\n",
       "    }\n",
       "\n",
       "    .dataframe thead th {\n",
       "        text-align: right;\n",
       "    }\n",
       "</style>\n",
       "<table border=\"1\" class=\"dataframe\">\n",
       "  <thead>\n",
       "    <tr style=\"text-align: right;\">\n",
       "      <th></th>\n",
       "      <th>FFMC</th>\n",
       "      <th>DMC</th>\n",
       "      <th>DC</th>\n",
       "      <th>ISI</th>\n",
       "      <th>temp</th>\n",
       "      <th>RH</th>\n",
       "      <th>wind</th>\n",
       "      <th>rain</th>\n",
       "      <th>area</th>\n",
       "      <th>dayfri</th>\n",
       "      <th>...</th>\n",
       "      <th>monthfeb</th>\n",
       "      <th>monthjan</th>\n",
       "      <th>monthjul</th>\n",
       "      <th>monthjun</th>\n",
       "      <th>monthmar</th>\n",
       "      <th>monthmay</th>\n",
       "      <th>monthnov</th>\n",
       "      <th>monthoct</th>\n",
       "      <th>monthsep</th>\n",
       "      <th>size_category</th>\n",
       "    </tr>\n",
       "  </thead>\n",
       "  <tbody>\n",
       "    <tr>\n",
       "      <th>0</th>\n",
       "      <td>-0.805959</td>\n",
       "      <td>-1.323326</td>\n",
       "      <td>-1.830477</td>\n",
       "      <td>-0.860946</td>\n",
       "      <td>-1.842640</td>\n",
       "      <td>0.411724</td>\n",
       "      <td>1.498614</td>\n",
       "      <td>-0.073268</td>\n",
       "      <td>-0.20202</td>\n",
       "      <td>1</td>\n",
       "      <td>...</td>\n",
       "      <td>0</td>\n",
       "      <td>0</td>\n",
       "      <td>0</td>\n",
       "      <td>0</td>\n",
       "      <td>1</td>\n",
       "      <td>0</td>\n",
       "      <td>0</td>\n",
       "      <td>0</td>\n",
       "      <td>0</td>\n",
       "      <td>small</td>\n",
       "    </tr>\n",
       "    <tr>\n",
       "      <th>1</th>\n",
       "      <td>-0.008102</td>\n",
       "      <td>-1.179541</td>\n",
       "      <td>0.488891</td>\n",
       "      <td>-0.509688</td>\n",
       "      <td>-0.153278</td>\n",
       "      <td>-0.692456</td>\n",
       "      <td>-1.741756</td>\n",
       "      <td>-0.073268</td>\n",
       "      <td>-0.20202</td>\n",
       "      <td>0</td>\n",
       "      <td>...</td>\n",
       "      <td>0</td>\n",
       "      <td>0</td>\n",
       "      <td>0</td>\n",
       "      <td>0</td>\n",
       "      <td>0</td>\n",
       "      <td>0</td>\n",
       "      <td>0</td>\n",
       "      <td>1</td>\n",
       "      <td>0</td>\n",
       "      <td>small</td>\n",
       "    </tr>\n",
       "    <tr>\n",
       "      <th>2</th>\n",
       "      <td>-0.008102</td>\n",
       "      <td>-1.049822</td>\n",
       "      <td>0.560715</td>\n",
       "      <td>-0.509688</td>\n",
       "      <td>-0.739383</td>\n",
       "      <td>-0.692456</td>\n",
       "      <td>-1.518282</td>\n",
       "      <td>-0.073268</td>\n",
       "      <td>-0.20202</td>\n",
       "      <td>0</td>\n",
       "      <td>...</td>\n",
       "      <td>0</td>\n",
       "      <td>0</td>\n",
       "      <td>0</td>\n",
       "      <td>0</td>\n",
       "      <td>0</td>\n",
       "      <td>0</td>\n",
       "      <td>0</td>\n",
       "      <td>1</td>\n",
       "      <td>0</td>\n",
       "      <td>small</td>\n",
       "    </tr>\n",
       "    <tr>\n",
       "      <th>3</th>\n",
       "      <td>0.191362</td>\n",
       "      <td>-1.212361</td>\n",
       "      <td>-1.898266</td>\n",
       "      <td>-0.004756</td>\n",
       "      <td>-1.825402</td>\n",
       "      <td>3.233519</td>\n",
       "      <td>-0.009834</td>\n",
       "      <td>0.603155</td>\n",
       "      <td>-0.20202</td>\n",
       "      <td>1</td>\n",
       "      <td>...</td>\n",
       "      <td>0</td>\n",
       "      <td>0</td>\n",
       "      <td>0</td>\n",
       "      <td>0</td>\n",
       "      <td>1</td>\n",
       "      <td>0</td>\n",
       "      <td>0</td>\n",
       "      <td>0</td>\n",
       "      <td>0</td>\n",
       "      <td>small</td>\n",
       "    </tr>\n",
       "    <tr>\n",
       "      <th>4</th>\n",
       "      <td>-0.243833</td>\n",
       "      <td>-0.931043</td>\n",
       "      <td>-1.798600</td>\n",
       "      <td>0.126966</td>\n",
       "      <td>-1.291012</td>\n",
       "      <td>3.356206</td>\n",
       "      <td>-1.238940</td>\n",
       "      <td>-0.073268</td>\n",
       "      <td>-0.20202</td>\n",
       "      <td>0</td>\n",
       "      <td>...</td>\n",
       "      <td>0</td>\n",
       "      <td>0</td>\n",
       "      <td>0</td>\n",
       "      <td>0</td>\n",
       "      <td>1</td>\n",
       "      <td>0</td>\n",
       "      <td>0</td>\n",
       "      <td>0</td>\n",
       "      <td>0</td>\n",
       "      <td>small</td>\n",
       "    </tr>\n",
       "  </tbody>\n",
       "</table>\n",
       "<p>5 rows × 29 columns</p>\n",
       "</div>"
      ],
      "text/plain": [
       "       FFMC       DMC        DC       ISI      temp        RH      wind  \\\n",
       "0 -0.805959 -1.323326 -1.830477 -0.860946 -1.842640  0.411724  1.498614   \n",
       "1 -0.008102 -1.179541  0.488891 -0.509688 -0.153278 -0.692456 -1.741756   \n",
       "2 -0.008102 -1.049822  0.560715 -0.509688 -0.739383 -0.692456 -1.518282   \n",
       "3  0.191362 -1.212361 -1.898266 -0.004756 -1.825402  3.233519 -0.009834   \n",
       "4 -0.243833 -0.931043 -1.798600  0.126966 -1.291012  3.356206 -1.238940   \n",
       "\n",
       "       rain     area  dayfri  ...  monthfeb  monthjan  monthjul  monthjun  \\\n",
       "0 -0.073268 -0.20202       1  ...         0         0         0         0   \n",
       "1 -0.073268 -0.20202       0  ...         0         0         0         0   \n",
       "2 -0.073268 -0.20202       0  ...         0         0         0         0   \n",
       "3  0.603155 -0.20202       1  ...         0         0         0         0   \n",
       "4 -0.073268 -0.20202       0  ...         0         0         0         0   \n",
       "\n",
       "   monthmar  monthmay  monthnov  monthoct  monthsep  size_category  \n",
       "0         1         0         0         0         0          small  \n",
       "1         0         0         0         1         0          small  \n",
       "2         0         0         0         1         0          small  \n",
       "3         1         0         0         0         0          small  \n",
       "4         1         0         0         0         0          small  \n",
       "\n",
       "[5 rows x 29 columns]"
      ]
     },
     "execution_count": 9,
     "metadata": {},
     "output_type": "execute_result"
    }
   ],
   "source": [
    "data.head()"
   ]
  },
  {
   "cell_type": "code",
   "execution_count": 10,
   "metadata": {
    "ExecuteTime": {
     "end_time": "2021-04-12T11:57:44.438671Z",
     "start_time": "2021-04-12T11:57:44.424011Z"
    },
    "scrolled": true
   },
   "outputs": [
    {
     "data": {
      "text/plain": [
       "small    378\n",
       "large    139\n",
       "Name: size_category, dtype: int64"
      ]
     },
     "execution_count": 10,
     "metadata": {},
     "output_type": "execute_result"
    }
   ],
   "source": [
    "data.size_category.value_counts()"
   ]
  },
  {
   "cell_type": "code",
   "execution_count": null,
   "metadata": {},
   "outputs": [],
   "source": []
  },
  {
   "cell_type": "code",
   "execution_count": 11,
   "metadata": {
    "ExecuteTime": {
     "end_time": "2021-04-12T11:57:47.547246Z",
     "start_time": "2021-04-12T11:57:47.534464Z"
    }
   },
   "outputs": [],
   "source": [
    "le = preprocessing.LabelEncoder()\n",
    "data['size_category']= le.fit_transform(data['size_category'])"
   ]
  },
  {
   "cell_type": "code",
   "execution_count": 12,
   "metadata": {
    "ExecuteTime": {
     "end_time": "2021-04-12T11:57:48.878115Z",
     "start_time": "2021-04-12T11:57:48.835441Z"
    },
    "scrolled": true
   },
   "outputs": [
    {
     "data": {
      "text/html": [
       "<div>\n",
       "<style scoped>\n",
       "    .dataframe tbody tr th:only-of-type {\n",
       "        vertical-align: middle;\n",
       "    }\n",
       "\n",
       "    .dataframe tbody tr th {\n",
       "        vertical-align: top;\n",
       "    }\n",
       "\n",
       "    .dataframe thead th {\n",
       "        text-align: right;\n",
       "    }\n",
       "</style>\n",
       "<table border=\"1\" class=\"dataframe\">\n",
       "  <thead>\n",
       "    <tr style=\"text-align: right;\">\n",
       "      <th></th>\n",
       "      <th>FFMC</th>\n",
       "      <th>DMC</th>\n",
       "      <th>DC</th>\n",
       "      <th>ISI</th>\n",
       "      <th>temp</th>\n",
       "      <th>RH</th>\n",
       "      <th>wind</th>\n",
       "      <th>rain</th>\n",
       "      <th>area</th>\n",
       "      <th>dayfri</th>\n",
       "      <th>...</th>\n",
       "      <th>monthfeb</th>\n",
       "      <th>monthjan</th>\n",
       "      <th>monthjul</th>\n",
       "      <th>monthjun</th>\n",
       "      <th>monthmar</th>\n",
       "      <th>monthmay</th>\n",
       "      <th>monthnov</th>\n",
       "      <th>monthoct</th>\n",
       "      <th>monthsep</th>\n",
       "      <th>size_category</th>\n",
       "    </tr>\n",
       "  </thead>\n",
       "  <tbody>\n",
       "    <tr>\n",
       "      <th>0</th>\n",
       "      <td>-0.805959</td>\n",
       "      <td>-1.323326</td>\n",
       "      <td>-1.830477</td>\n",
       "      <td>-0.860946</td>\n",
       "      <td>-1.842640</td>\n",
       "      <td>0.411724</td>\n",
       "      <td>1.498614</td>\n",
       "      <td>-0.073268</td>\n",
       "      <td>-0.20202</td>\n",
       "      <td>1</td>\n",
       "      <td>...</td>\n",
       "      <td>0</td>\n",
       "      <td>0</td>\n",
       "      <td>0</td>\n",
       "      <td>0</td>\n",
       "      <td>1</td>\n",
       "      <td>0</td>\n",
       "      <td>0</td>\n",
       "      <td>0</td>\n",
       "      <td>0</td>\n",
       "      <td>1</td>\n",
       "    </tr>\n",
       "    <tr>\n",
       "      <th>1</th>\n",
       "      <td>-0.008102</td>\n",
       "      <td>-1.179541</td>\n",
       "      <td>0.488891</td>\n",
       "      <td>-0.509688</td>\n",
       "      <td>-0.153278</td>\n",
       "      <td>-0.692456</td>\n",
       "      <td>-1.741756</td>\n",
       "      <td>-0.073268</td>\n",
       "      <td>-0.20202</td>\n",
       "      <td>0</td>\n",
       "      <td>...</td>\n",
       "      <td>0</td>\n",
       "      <td>0</td>\n",
       "      <td>0</td>\n",
       "      <td>0</td>\n",
       "      <td>0</td>\n",
       "      <td>0</td>\n",
       "      <td>0</td>\n",
       "      <td>1</td>\n",
       "      <td>0</td>\n",
       "      <td>1</td>\n",
       "    </tr>\n",
       "    <tr>\n",
       "      <th>2</th>\n",
       "      <td>-0.008102</td>\n",
       "      <td>-1.049822</td>\n",
       "      <td>0.560715</td>\n",
       "      <td>-0.509688</td>\n",
       "      <td>-0.739383</td>\n",
       "      <td>-0.692456</td>\n",
       "      <td>-1.518282</td>\n",
       "      <td>-0.073268</td>\n",
       "      <td>-0.20202</td>\n",
       "      <td>0</td>\n",
       "      <td>...</td>\n",
       "      <td>0</td>\n",
       "      <td>0</td>\n",
       "      <td>0</td>\n",
       "      <td>0</td>\n",
       "      <td>0</td>\n",
       "      <td>0</td>\n",
       "      <td>0</td>\n",
       "      <td>1</td>\n",
       "      <td>0</td>\n",
       "      <td>1</td>\n",
       "    </tr>\n",
       "    <tr>\n",
       "      <th>3</th>\n",
       "      <td>0.191362</td>\n",
       "      <td>-1.212361</td>\n",
       "      <td>-1.898266</td>\n",
       "      <td>-0.004756</td>\n",
       "      <td>-1.825402</td>\n",
       "      <td>3.233519</td>\n",
       "      <td>-0.009834</td>\n",
       "      <td>0.603155</td>\n",
       "      <td>-0.20202</td>\n",
       "      <td>1</td>\n",
       "      <td>...</td>\n",
       "      <td>0</td>\n",
       "      <td>0</td>\n",
       "      <td>0</td>\n",
       "      <td>0</td>\n",
       "      <td>1</td>\n",
       "      <td>0</td>\n",
       "      <td>0</td>\n",
       "      <td>0</td>\n",
       "      <td>0</td>\n",
       "      <td>1</td>\n",
       "    </tr>\n",
       "    <tr>\n",
       "      <th>4</th>\n",
       "      <td>-0.243833</td>\n",
       "      <td>-0.931043</td>\n",
       "      <td>-1.798600</td>\n",
       "      <td>0.126966</td>\n",
       "      <td>-1.291012</td>\n",
       "      <td>3.356206</td>\n",
       "      <td>-1.238940</td>\n",
       "      <td>-0.073268</td>\n",
       "      <td>-0.20202</td>\n",
       "      <td>0</td>\n",
       "      <td>...</td>\n",
       "      <td>0</td>\n",
       "      <td>0</td>\n",
       "      <td>0</td>\n",
       "      <td>0</td>\n",
       "      <td>1</td>\n",
       "      <td>0</td>\n",
       "      <td>0</td>\n",
       "      <td>0</td>\n",
       "      <td>0</td>\n",
       "      <td>1</td>\n",
       "    </tr>\n",
       "  </tbody>\n",
       "</table>\n",
       "<p>5 rows × 29 columns</p>\n",
       "</div>"
      ],
      "text/plain": [
       "       FFMC       DMC        DC       ISI      temp        RH      wind  \\\n",
       "0 -0.805959 -1.323326 -1.830477 -0.860946 -1.842640  0.411724  1.498614   \n",
       "1 -0.008102 -1.179541  0.488891 -0.509688 -0.153278 -0.692456 -1.741756   \n",
       "2 -0.008102 -1.049822  0.560715 -0.509688 -0.739383 -0.692456 -1.518282   \n",
       "3  0.191362 -1.212361 -1.898266 -0.004756 -1.825402  3.233519 -0.009834   \n",
       "4 -0.243833 -0.931043 -1.798600  0.126966 -1.291012  3.356206 -1.238940   \n",
       "\n",
       "       rain     area  dayfri  ...  monthfeb  monthjan  monthjul  monthjun  \\\n",
       "0 -0.073268 -0.20202       1  ...         0         0         0         0   \n",
       "1 -0.073268 -0.20202       0  ...         0         0         0         0   \n",
       "2 -0.073268 -0.20202       0  ...         0         0         0         0   \n",
       "3  0.603155 -0.20202       1  ...         0         0         0         0   \n",
       "4 -0.073268 -0.20202       0  ...         0         0         0         0   \n",
       "\n",
       "   monthmar  monthmay  monthnov  monthoct  monthsep  size_category  \n",
       "0         1         0         0         0         0              1  \n",
       "1         0         0         0         1         0              1  \n",
       "2         0         0         0         1         0              1  \n",
       "3         1         0         0         0         0              1  \n",
       "4         1         0         0         0         0              1  \n",
       "\n",
       "[5 rows x 29 columns]"
      ]
     },
     "execution_count": 12,
     "metadata": {},
     "output_type": "execute_result"
    }
   ],
   "source": [
    "data.head()"
   ]
  },
  {
   "cell_type": "markdown",
   "metadata": {},
   "source": [
    "### Splitting the data to train and test"
   ]
  },
  {
   "cell_type": "code",
   "execution_count": 13,
   "metadata": {
    "ExecuteTime": {
     "end_time": "2021-04-12T11:57:54.707725Z",
     "start_time": "2021-04-12T11:57:54.692567Z"
    }
   },
   "outputs": [],
   "source": [
    "x=data.iloc[:,0:-1]\n",
    "y=data.iloc[:,-1]\n"
   ]
  },
  {
   "cell_type": "code",
   "execution_count": 14,
   "metadata": {
    "ExecuteTime": {
     "end_time": "2021-04-12T11:57:55.224726Z",
     "start_time": "2021-04-12T11:57:55.209523Z"
    },
    "scrolled": true
   },
   "outputs": [
    {
     "data": {
      "text/plain": [
       "1    378\n",
       "0    139\n",
       "Name: size_category, dtype: int64"
      ]
     },
     "execution_count": 14,
     "metadata": {},
     "output_type": "execute_result"
    }
   ],
   "source": [
    "y.value_counts()"
   ]
  },
  {
   "cell_type": "code",
   "execution_count": 23,
   "metadata": {
    "ExecuteTime": {
     "end_time": "2021-04-12T09:46:04.169403Z",
     "start_time": "2021-04-12T09:45:51.484292Z"
    },
    "scrolled": true
   },
   "outputs": [
    {
     "name": "stdout",
     "output_type": "stream",
     "text": [
      "Collecting imblearn\n",
      "  Using cached imblearn-0.0-py2.py3-none-any.whl (1.9 kB)\n",
      "Collecting imbalanced-learn\n",
      "  Using cached imbalanced_learn-0.8.0-py3-none-any.whl (206 kB)\n",
      "Requirement already satisfied: scipy>=0.19.1 in c:\\users\\public\\anacon\\lib\\site-packages (from imbalanced-learn->imblearn) (1.5.0)\n",
      "Requirement already satisfied: numpy>=1.13.3 in c:\\users\\public\\anacon\\lib\\site-packages (from imbalanced-learn->imblearn) (1.18.5)\n",
      "Requirement already satisfied: scikit-learn>=0.24 in c:\\users\\public\\anacon\\lib\\site-packages (from imbalanced-learn->imblearn) (0.24.1)\n",
      "Requirement already satisfied: joblib>=0.11 in c:\\users\\public\\anacon\\lib\\site-packages (from imbalanced-learn->imblearn) (0.16.0)\n",
      "Requirement already satisfied: threadpoolctl>=2.0.0 in c:\\users\\public\\anacon\\lib\\site-packages (from scikit-learn>=0.24->imbalanced-learn->imblearn) (2.1.0)\n",
      "Installing collected packages: imbalanced-learn, imblearn\n",
      "Successfully installed imbalanced-learn-0.8.0 imblearn-0.0\n"
     ]
    }
   ],
   "source": [
    "!pip install imblearn"
   ]
  },
  {
   "cell_type": "code",
   "execution_count": 17,
   "metadata": {
    "ExecuteTime": {
     "end_time": "2021-04-12T11:58:26.309431Z",
     "start_time": "2021-04-12T11:58:26.258778Z"
    },
    "scrolled": true
   },
   "outputs": [
    {
     "data": {
      "text/html": [
       "<div>\n",
       "<style scoped>\n",
       "    .dataframe tbody tr th:only-of-type {\n",
       "        vertical-align: middle;\n",
       "    }\n",
       "\n",
       "    .dataframe tbody tr th {\n",
       "        vertical-align: top;\n",
       "    }\n",
       "\n",
       "    .dataframe thead th {\n",
       "        text-align: right;\n",
       "    }\n",
       "</style>\n",
       "<table border=\"1\" class=\"dataframe\">\n",
       "  <thead>\n",
       "    <tr style=\"text-align: right;\">\n",
       "      <th></th>\n",
       "      <th>size_category</th>\n",
       "    </tr>\n",
       "  </thead>\n",
       "  <tbody>\n",
       "    <tr>\n",
       "      <th>0</th>\n",
       "      <td>1</td>\n",
       "    </tr>\n",
       "    <tr>\n",
       "      <th>1</th>\n",
       "      <td>1</td>\n",
       "    </tr>\n",
       "    <tr>\n",
       "      <th>2</th>\n",
       "      <td>1</td>\n",
       "    </tr>\n",
       "    <tr>\n",
       "      <th>3</th>\n",
       "      <td>1</td>\n",
       "    </tr>\n",
       "    <tr>\n",
       "      <th>4</th>\n",
       "      <td>1</td>\n",
       "    </tr>\n",
       "    <tr>\n",
       "      <th>...</th>\n",
       "      <td>...</td>\n",
       "    </tr>\n",
       "    <tr>\n",
       "      <th>751</th>\n",
       "      <td>0</td>\n",
       "    </tr>\n",
       "    <tr>\n",
       "      <th>752</th>\n",
       "      <td>0</td>\n",
       "    </tr>\n",
       "    <tr>\n",
       "      <th>753</th>\n",
       "      <td>0</td>\n",
       "    </tr>\n",
       "    <tr>\n",
       "      <th>754</th>\n",
       "      <td>0</td>\n",
       "    </tr>\n",
       "    <tr>\n",
       "      <th>755</th>\n",
       "      <td>0</td>\n",
       "    </tr>\n",
       "  </tbody>\n",
       "</table>\n",
       "<p>756 rows × 1 columns</p>\n",
       "</div>"
      ],
      "text/plain": [
       "     size_category\n",
       "0                1\n",
       "1                1\n",
       "2                1\n",
       "3                1\n",
       "4                1\n",
       "..             ...\n",
       "751              0\n",
       "752              0\n",
       "753              0\n",
       "754              0\n",
       "755              0\n",
       "\n",
       "[756 rows x 1 columns]"
      ]
     },
     "execution_count": 17,
     "metadata": {},
     "output_type": "execute_result"
    }
   ],
   "source": [
    "from imblearn.over_sampling import SMOTE\n",
    "sm = SMOTE(sampling_strategy = 'auto', random_state = 42)\n",
    "x_resample, y_resample = sm.fit_resample(x, y)\n",
    "y_df = pd.DataFrame(y_resample)\n",
    "y_df"
   ]
  },
  {
   "cell_type": "code",
   "execution_count": 18,
   "metadata": {
    "ExecuteTime": {
     "end_time": "2021-04-12T11:58:56.224538Z",
     "start_time": "2021-04-12T11:58:56.210385Z"
    }
   },
   "outputs": [
    {
     "data": {
      "text/plain": [
       "1    378\n",
       "0    378\n",
       "Name: size_category, dtype: int64"
      ]
     },
     "execution_count": 18,
     "metadata": {},
     "output_type": "execute_result"
    }
   ],
   "source": [
    "y_df.size_category.value_counts()"
   ]
  },
  {
   "cell_type": "code",
   "execution_count": 20,
   "metadata": {
    "ExecuteTime": {
     "end_time": "2021-04-12T12:05:57.819600Z",
     "start_time": "2021-04-12T12:05:57.797470Z"
    }
   },
   "outputs": [],
   "source": [
    "from sklearn.linear_model import LinearRegression\n",
    "from sklearn.model_selection import train_test_split  \n",
    "x_train, x_test, y_train, y_test = train_test_split(x_resample,y_resample,test_size=0.2, random_state=42) "
   ]
  },
  {
   "cell_type": "code",
   "execution_count": 21,
   "metadata": {
    "ExecuteTime": {
     "end_time": "2021-04-12T12:06:58.316098Z",
     "start_time": "2021-04-12T12:06:40.113940Z"
    }
   },
   "outputs": [
    {
     "data": {
      "text/plain": [
       "GridSearchCV(cv=10, estimator=SVC(),\n",
       "             param_grid=[{'C': [15, 14, 13, 12, 11, 10, 0.1, 0.001],\n",
       "                          'gamma': [50, 5, 10, 0.5], 'kernel': ['rbf']}])"
      ]
     },
     "execution_count": 21,
     "metadata": {},
     "output_type": "execute_result"
    }
   ],
   "source": [
    "clf = SVC()\n",
    "param_grid = [{'kernel':['rbf'],'gamma':[50,5,10,0.5],'C':[15,14,13,12,11,10,0.1,0.001] }]\n",
    "gsv = GridSearchCV(clf,param_grid,cv=10)\n",
    "gsv.fit(x_train,y_train)"
   ]
  },
  {
   "cell_type": "code",
   "execution_count": 22,
   "metadata": {
    "ExecuteTime": {
     "end_time": "2021-04-12T12:07:06.238879Z",
     "start_time": "2021-04-12T12:07:06.223140Z"
    }
   },
   "outputs": [
    {
     "data": {
      "text/plain": [
       "({'C': 14, 'gamma': 0.5, 'kernel': 'rbf'}, 0.8659016393442622)"
      ]
     },
     "execution_count": 22,
     "metadata": {},
     "output_type": "execute_result"
    }
   ],
   "source": [
    "gsv.best_params_ , gsv.best_score_"
   ]
  },
  {
   "cell_type": "code",
   "execution_count": 23,
   "metadata": {
    "ExecuteTime": {
     "end_time": "2021-04-12T12:07:22.572773Z",
     "start_time": "2021-04-12T12:07:22.478031Z"
    },
    "scrolled": true
   },
   "outputs": [
    {
     "name": "stdout",
     "output_type": "stream",
     "text": [
      "Accuracy = 84.86842105263158\n"
     ]
    },
    {
     "data": {
      "text/plain": [
       "array([[61, 13],\n",
       "       [10, 68]], dtype=int64)"
      ]
     },
     "execution_count": 23,
     "metadata": {},
     "output_type": "execute_result"
    }
   ],
   "source": [
    "clf = SVC(C= 14,gamma = 0.5,kernel='rbf')\n",
    "clf.fit(x_train , y_train)\n",
    "y_pred = clf.predict(x_test)\n",
    "acc = accuracy_score(y_test, y_pred) * 100\n",
    "print(\"Accuracy =\", acc)\n",
    "confusion_matrix(y_test, y_pred)"
   ]
  },
  {
   "cell_type": "markdown",
   "metadata": {},
   "source": []
  },
  {
   "cell_type": "code",
   "execution_count": 24,
   "metadata": {
    "ExecuteTime": {
     "end_time": "2021-04-12T12:08:11.286232Z",
     "start_time": "2021-04-12T12:08:11.144108Z"
    }
   },
   "outputs": [
    {
     "name": "stdout",
     "output_type": "stream",
     "text": [
      "Accuracy = 99.33774834437085\n"
     ]
    },
    {
     "data": {
      "text/plain": [
       "array([[301,   3],\n",
       "       [  1, 299]], dtype=int64)"
      ]
     },
     "execution_count": 24,
     "metadata": {},
     "output_type": "execute_result"
    }
   ],
   "source": [
    "# Training accuracy\n",
    "clf = SVC(C= 14,gamma = 0.5,kernel='rbf')\n",
    "clf.fit(x_train , y_train)\n",
    "y_pred = clf.predict(x_train)\n",
    "acc = accuracy_score(y_train, y_pred) * 100\n",
    "print(\"Accuracy =\", acc)\n",
    "confusion_matrix(y_train, y_pred)"
   ]
  },
  {
   "cell_type": "code",
   "execution_count": null,
   "metadata": {},
   "outputs": [],
   "source": [
    "print(classification_report(y_test,y_pred))"
   ]
  },
  {
   "cell_type": "markdown",
   "metadata": {},
   "source": [
    "### Applying PCA"
   ]
  },
  {
   "cell_type": "code",
   "execution_count": 25,
   "metadata": {
    "ExecuteTime": {
     "end_time": "2021-04-12T12:08:40.560596Z",
     "start_time": "2021-04-12T12:08:40.553083Z"
    }
   },
   "outputs": [],
   "source": [
    "pdata=data.copy()"
   ]
  },
  {
   "cell_type": "code",
   "execution_count": 26,
   "metadata": {
    "ExecuteTime": {
     "end_time": "2021-04-12T12:08:41.165375Z",
     "start_time": "2021-04-12T12:08:41.129356Z"
    },
    "scrolled": false
   },
   "outputs": [
    {
     "data": {
      "text/html": [
       "<div>\n",
       "<style scoped>\n",
       "    .dataframe tbody tr th:only-of-type {\n",
       "        vertical-align: middle;\n",
       "    }\n",
       "\n",
       "    .dataframe tbody tr th {\n",
       "        vertical-align: top;\n",
       "    }\n",
       "\n",
       "    .dataframe thead th {\n",
       "        text-align: right;\n",
       "    }\n",
       "</style>\n",
       "<table border=\"1\" class=\"dataframe\">\n",
       "  <thead>\n",
       "    <tr style=\"text-align: right;\">\n",
       "      <th></th>\n",
       "      <th>FFMC</th>\n",
       "      <th>DMC</th>\n",
       "      <th>DC</th>\n",
       "      <th>ISI</th>\n",
       "      <th>temp</th>\n",
       "      <th>RH</th>\n",
       "      <th>wind</th>\n",
       "      <th>rain</th>\n",
       "      <th>area</th>\n",
       "      <th>dayfri</th>\n",
       "      <th>...</th>\n",
       "      <th>monthfeb</th>\n",
       "      <th>monthjan</th>\n",
       "      <th>monthjul</th>\n",
       "      <th>monthjun</th>\n",
       "      <th>monthmar</th>\n",
       "      <th>monthmay</th>\n",
       "      <th>monthnov</th>\n",
       "      <th>monthoct</th>\n",
       "      <th>monthsep</th>\n",
       "      <th>size_category</th>\n",
       "    </tr>\n",
       "  </thead>\n",
       "  <tbody>\n",
       "    <tr>\n",
       "      <th>0</th>\n",
       "      <td>-0.805959</td>\n",
       "      <td>-1.323326</td>\n",
       "      <td>-1.830477</td>\n",
       "      <td>-0.860946</td>\n",
       "      <td>-1.842640</td>\n",
       "      <td>0.411724</td>\n",
       "      <td>1.498614</td>\n",
       "      <td>-0.073268</td>\n",
       "      <td>-0.20202</td>\n",
       "      <td>1</td>\n",
       "      <td>...</td>\n",
       "      <td>0</td>\n",
       "      <td>0</td>\n",
       "      <td>0</td>\n",
       "      <td>0</td>\n",
       "      <td>1</td>\n",
       "      <td>0</td>\n",
       "      <td>0</td>\n",
       "      <td>0</td>\n",
       "      <td>0</td>\n",
       "      <td>1</td>\n",
       "    </tr>\n",
       "    <tr>\n",
       "      <th>1</th>\n",
       "      <td>-0.008102</td>\n",
       "      <td>-1.179541</td>\n",
       "      <td>0.488891</td>\n",
       "      <td>-0.509688</td>\n",
       "      <td>-0.153278</td>\n",
       "      <td>-0.692456</td>\n",
       "      <td>-1.741756</td>\n",
       "      <td>-0.073268</td>\n",
       "      <td>-0.20202</td>\n",
       "      <td>0</td>\n",
       "      <td>...</td>\n",
       "      <td>0</td>\n",
       "      <td>0</td>\n",
       "      <td>0</td>\n",
       "      <td>0</td>\n",
       "      <td>0</td>\n",
       "      <td>0</td>\n",
       "      <td>0</td>\n",
       "      <td>1</td>\n",
       "      <td>0</td>\n",
       "      <td>1</td>\n",
       "    </tr>\n",
       "    <tr>\n",
       "      <th>2</th>\n",
       "      <td>-0.008102</td>\n",
       "      <td>-1.049822</td>\n",
       "      <td>0.560715</td>\n",
       "      <td>-0.509688</td>\n",
       "      <td>-0.739383</td>\n",
       "      <td>-0.692456</td>\n",
       "      <td>-1.518282</td>\n",
       "      <td>-0.073268</td>\n",
       "      <td>-0.20202</td>\n",
       "      <td>0</td>\n",
       "      <td>...</td>\n",
       "      <td>0</td>\n",
       "      <td>0</td>\n",
       "      <td>0</td>\n",
       "      <td>0</td>\n",
       "      <td>0</td>\n",
       "      <td>0</td>\n",
       "      <td>0</td>\n",
       "      <td>1</td>\n",
       "      <td>0</td>\n",
       "      <td>1</td>\n",
       "    </tr>\n",
       "    <tr>\n",
       "      <th>3</th>\n",
       "      <td>0.191362</td>\n",
       "      <td>-1.212361</td>\n",
       "      <td>-1.898266</td>\n",
       "      <td>-0.004756</td>\n",
       "      <td>-1.825402</td>\n",
       "      <td>3.233519</td>\n",
       "      <td>-0.009834</td>\n",
       "      <td>0.603155</td>\n",
       "      <td>-0.20202</td>\n",
       "      <td>1</td>\n",
       "      <td>...</td>\n",
       "      <td>0</td>\n",
       "      <td>0</td>\n",
       "      <td>0</td>\n",
       "      <td>0</td>\n",
       "      <td>1</td>\n",
       "      <td>0</td>\n",
       "      <td>0</td>\n",
       "      <td>0</td>\n",
       "      <td>0</td>\n",
       "      <td>1</td>\n",
       "    </tr>\n",
       "    <tr>\n",
       "      <th>4</th>\n",
       "      <td>-0.243833</td>\n",
       "      <td>-0.931043</td>\n",
       "      <td>-1.798600</td>\n",
       "      <td>0.126966</td>\n",
       "      <td>-1.291012</td>\n",
       "      <td>3.356206</td>\n",
       "      <td>-1.238940</td>\n",
       "      <td>-0.073268</td>\n",
       "      <td>-0.20202</td>\n",
       "      <td>0</td>\n",
       "      <td>...</td>\n",
       "      <td>0</td>\n",
       "      <td>0</td>\n",
       "      <td>0</td>\n",
       "      <td>0</td>\n",
       "      <td>1</td>\n",
       "      <td>0</td>\n",
       "      <td>0</td>\n",
       "      <td>0</td>\n",
       "      <td>0</td>\n",
       "      <td>1</td>\n",
       "    </tr>\n",
       "  </tbody>\n",
       "</table>\n",
       "<p>5 rows × 29 columns</p>\n",
       "</div>"
      ],
      "text/plain": [
       "       FFMC       DMC        DC       ISI      temp        RH      wind  \\\n",
       "0 -0.805959 -1.323326 -1.830477 -0.860946 -1.842640  0.411724  1.498614   \n",
       "1 -0.008102 -1.179541  0.488891 -0.509688 -0.153278 -0.692456 -1.741756   \n",
       "2 -0.008102 -1.049822  0.560715 -0.509688 -0.739383 -0.692456 -1.518282   \n",
       "3  0.191362 -1.212361 -1.898266 -0.004756 -1.825402  3.233519 -0.009834   \n",
       "4 -0.243833 -0.931043 -1.798600  0.126966 -1.291012  3.356206 -1.238940   \n",
       "\n",
       "       rain     area  dayfri  ...  monthfeb  monthjan  monthjul  monthjun  \\\n",
       "0 -0.073268 -0.20202       1  ...         0         0         0         0   \n",
       "1 -0.073268 -0.20202       0  ...         0         0         0         0   \n",
       "2 -0.073268 -0.20202       0  ...         0         0         0         0   \n",
       "3  0.603155 -0.20202       1  ...         0         0         0         0   \n",
       "4 -0.073268 -0.20202       0  ...         0         0         0         0   \n",
       "\n",
       "   monthmar  monthmay  monthnov  monthoct  monthsep  size_category  \n",
       "0         1         0         0         0         0              1  \n",
       "1         0         0         0         1         0              1  \n",
       "2         0         0         0         1         0              1  \n",
       "3         1         0         0         0         0              1  \n",
       "4         1         0         0         0         0              1  \n",
       "\n",
       "[5 rows x 29 columns]"
      ]
     },
     "execution_count": 26,
     "metadata": {},
     "output_type": "execute_result"
    }
   ],
   "source": [
    "pdata.head()"
   ]
  },
  {
   "cell_type": "code",
   "execution_count": 27,
   "metadata": {
    "ExecuteTime": {
     "end_time": "2021-04-12T12:08:57.310002Z",
     "start_time": "2021-04-12T12:08:57.113084Z"
    }
   },
   "outputs": [],
   "source": [
    "from sklearn.decomposition import PCA\n",
    "pca=PCA(random_state=0)\n",
    "pca_values=pca.fit_transform(x_resample)"
   ]
  },
  {
   "cell_type": "code",
   "execution_count": 28,
   "metadata": {
    "ExecuteTime": {
     "end_time": "2021-04-12T12:09:02.455635Z",
     "start_time": "2021-04-12T12:09:02.444704Z"
    }
   },
   "outputs": [
    {
     "data": {
      "text/plain": [
       "array([28.71, 41.57, 53.21, 63.97, 73.47, 79.75, 84.15, 87.7 , 89.76,\n",
       "       91.41, 92.78, 93.97, 95.06, 96.04, 96.91, 97.67, 98.31, 98.79,\n",
       "       99.08, 99.31, 99.52, 99.67, 99.8 , 99.88, 99.93, 99.95, 99.97,\n",
       "       99.98])"
      ]
     },
     "execution_count": 28,
     "metadata": {},
     "output_type": "execute_result"
    }
   ],
   "source": [
    "var1=np.cumsum(np.round(pca.explained_variance_ratio_,decimals=4)*100)\n",
    "var1"
   ]
  },
  {
   "cell_type": "code",
   "execution_count": 30,
   "metadata": {
    "ExecuteTime": {
     "end_time": "2021-04-12T12:09:54.352493Z",
     "start_time": "2021-04-12T12:09:54.301669Z"
    },
    "scrolled": false
   },
   "outputs": [
    {
     "data": {
      "text/html": [
       "<div>\n",
       "<style scoped>\n",
       "    .dataframe tbody tr th:only-of-type {\n",
       "        vertical-align: middle;\n",
       "    }\n",
       "\n",
       "    .dataframe tbody tr th {\n",
       "        vertical-align: top;\n",
       "    }\n",
       "\n",
       "    .dataframe thead th {\n",
       "        text-align: right;\n",
       "    }\n",
       "</style>\n",
       "<table border=\"1\" class=\"dataframe\">\n",
       "  <thead>\n",
       "    <tr style=\"text-align: right;\">\n",
       "      <th></th>\n",
       "      <th>0</th>\n",
       "      <th>1</th>\n",
       "      <th>2</th>\n",
       "      <th>3</th>\n",
       "      <th>4</th>\n",
       "      <th>5</th>\n",
       "      <th>6</th>\n",
       "      <th>7</th>\n",
       "      <th>8</th>\n",
       "      <th>9</th>\n",
       "      <th>10</th>\n",
       "      <th>11</th>\n",
       "      <th>12</th>\n",
       "      <th>13</th>\n",
       "      <th>14</th>\n",
       "    </tr>\n",
       "  </thead>\n",
       "  <tbody>\n",
       "    <tr>\n",
       "      <th>0</th>\n",
       "      <td>3.400711</td>\n",
       "      <td>0.358027</td>\n",
       "      <td>-0.911600</td>\n",
       "      <td>0.177564</td>\n",
       "      <td>-0.454447</td>\n",
       "      <td>-0.247524</td>\n",
       "      <td>-0.060133</td>\n",
       "      <td>-0.389523</td>\n",
       "      <td>0.068977</td>\n",
       "      <td>0.494481</td>\n",
       "      <td>-0.206403</td>\n",
       "      <td>-0.530228</td>\n",
       "      <td>-0.479629</td>\n",
       "      <td>-0.179611</td>\n",
       "      <td>-0.194805</td>\n",
       "    </tr>\n",
       "    <tr>\n",
       "      <th>1</th>\n",
       "      <td>0.228017</td>\n",
       "      <td>-1.132709</td>\n",
       "      <td>0.604415</td>\n",
       "      <td>-0.753955</td>\n",
       "      <td>1.334714</td>\n",
       "      <td>0.457056</td>\n",
       "      <td>-0.678834</td>\n",
       "      <td>0.408845</td>\n",
       "      <td>0.140864</td>\n",
       "      <td>-0.988343</td>\n",
       "      <td>-0.074809</td>\n",
       "      <td>-0.173254</td>\n",
       "      <td>-0.162095</td>\n",
       "      <td>0.650847</td>\n",
       "      <td>-0.534382</td>\n",
       "    </tr>\n",
       "    <tr>\n",
       "      <th>2</th>\n",
       "      <td>0.481489</td>\n",
       "      <td>-0.942444</td>\n",
       "      <td>0.649604</td>\n",
       "      <td>-0.659894</td>\n",
       "      <td>1.065319</td>\n",
       "      <td>0.391034</td>\n",
       "      <td>-0.877553</td>\n",
       "      <td>0.180870</td>\n",
       "      <td>0.423052</td>\n",
       "      <td>-0.914843</td>\n",
       "      <td>-0.408616</td>\n",
       "      <td>0.706434</td>\n",
       "      <td>-0.527214</td>\n",
       "      <td>-0.301065</td>\n",
       "      <td>-0.211889</td>\n",
       "    </tr>\n",
       "    <tr>\n",
       "      <th>3</th>\n",
       "      <td>2.972740</td>\n",
       "      <td>2.069694</td>\n",
       "      <td>0.134629</td>\n",
       "      <td>0.271887</td>\n",
       "      <td>-0.324948</td>\n",
       "      <td>2.299599</td>\n",
       "      <td>-0.622570</td>\n",
       "      <td>-0.081158</td>\n",
       "      <td>-0.924636</td>\n",
       "      <td>0.564827</td>\n",
       "      <td>-0.444355</td>\n",
       "      <td>-0.683236</td>\n",
       "      <td>-0.236848</td>\n",
       "      <td>-0.134076</td>\n",
       "      <td>-0.011795</td>\n",
       "    </tr>\n",
       "    <tr>\n",
       "      <th>4</th>\n",
       "      <td>2.533181</td>\n",
       "      <td>1.386553</td>\n",
       "      <td>1.095384</td>\n",
       "      <td>-0.140963</td>\n",
       "      <td>-0.147163</td>\n",
       "      <td>2.989457</td>\n",
       "      <td>0.018743</td>\n",
       "      <td>0.255862</td>\n",
       "      <td>-1.061376</td>\n",
       "      <td>0.481381</td>\n",
       "      <td>0.525865</td>\n",
       "      <td>0.081912</td>\n",
       "      <td>0.172012</td>\n",
       "      <td>0.048572</td>\n",
       "      <td>0.055545</td>\n",
       "    </tr>\n",
       "    <tr>\n",
       "      <th>...</th>\n",
       "      <td>...</td>\n",
       "      <td>...</td>\n",
       "      <td>...</td>\n",
       "      <td>...</td>\n",
       "      <td>...</td>\n",
       "      <td>...</td>\n",
       "      <td>...</td>\n",
       "      <td>...</td>\n",
       "      <td>...</td>\n",
       "      <td>...</td>\n",
       "      <td>...</td>\n",
       "      <td>...</td>\n",
       "      <td>...</td>\n",
       "      <td>...</td>\n",
       "      <td>...</td>\n",
       "    </tr>\n",
       "    <tr>\n",
       "      <th>751</th>\n",
       "      <td>-0.893004</td>\n",
       "      <td>-0.390423</td>\n",
       "      <td>0.722535</td>\n",
       "      <td>-0.364536</td>\n",
       "      <td>0.386485</td>\n",
       "      <td>0.030508</td>\n",
       "      <td>-0.818504</td>\n",
       "      <td>0.489748</td>\n",
       "      <td>-0.001949</td>\n",
       "      <td>0.341903</td>\n",
       "      <td>-0.164487</td>\n",
       "      <td>-0.530215</td>\n",
       "      <td>-0.464924</td>\n",
       "      <td>-0.253296</td>\n",
       "      <td>-0.174629</td>\n",
       "    </tr>\n",
       "    <tr>\n",
       "      <th>752</th>\n",
       "      <td>-0.053082</td>\n",
       "      <td>2.475472</td>\n",
       "      <td>-0.560877</td>\n",
       "      <td>0.668072</td>\n",
       "      <td>-2.510985</td>\n",
       "      <td>1.357530</td>\n",
       "      <td>-0.241332</td>\n",
       "      <td>0.671977</td>\n",
       "      <td>0.023507</td>\n",
       "      <td>-0.369747</td>\n",
       "      <td>-0.117701</td>\n",
       "      <td>0.034864</td>\n",
       "      <td>0.136247</td>\n",
       "      <td>-0.024957</td>\n",
       "      <td>0.167222</td>\n",
       "    </tr>\n",
       "    <tr>\n",
       "      <th>753</th>\n",
       "      <td>0.223745</td>\n",
       "      <td>2.145602</td>\n",
       "      <td>0.054211</td>\n",
       "      <td>0.249623</td>\n",
       "      <td>-1.850480</td>\n",
       "      <td>1.637849</td>\n",
       "      <td>-0.444033</td>\n",
       "      <td>0.426483</td>\n",
       "      <td>0.236066</td>\n",
       "      <td>-0.557041</td>\n",
       "      <td>-0.050423</td>\n",
       "      <td>0.015722</td>\n",
       "      <td>0.007483</td>\n",
       "      <td>-0.036016</td>\n",
       "      <td>0.090347</td>\n",
       "    </tr>\n",
       "    <tr>\n",
       "      <th>754</th>\n",
       "      <td>-1.806938</td>\n",
       "      <td>0.868578</td>\n",
       "      <td>0.987447</td>\n",
       "      <td>0.008604</td>\n",
       "      <td>-0.743031</td>\n",
       "      <td>-0.679311</td>\n",
       "      <td>0.842868</td>\n",
       "      <td>-1.091898</td>\n",
       "      <td>0.530877</td>\n",
       "      <td>0.052730</td>\n",
       "      <td>0.026900</td>\n",
       "      <td>-0.023888</td>\n",
       "      <td>0.009721</td>\n",
       "      <td>0.000699</td>\n",
       "      <td>-0.102587</td>\n",
       "    </tr>\n",
       "    <tr>\n",
       "      <th>755</th>\n",
       "      <td>-2.441574</td>\n",
       "      <td>-0.883880</td>\n",
       "      <td>-1.247492</td>\n",
       "      <td>-0.349363</td>\n",
       "      <td>0.257320</td>\n",
       "      <td>0.144156</td>\n",
       "      <td>1.016071</td>\n",
       "      <td>0.247255</td>\n",
       "      <td>-0.470640</td>\n",
       "      <td>-0.095530</td>\n",
       "      <td>-0.171043</td>\n",
       "      <td>-0.204591</td>\n",
       "      <td>0.110321</td>\n",
       "      <td>-0.092604</td>\n",
       "      <td>0.042696</td>\n",
       "    </tr>\n",
       "  </tbody>\n",
       "</table>\n",
       "<p>756 rows × 15 columns</p>\n",
       "</div>"
      ],
      "text/plain": [
       "            0         1         2         3         4         5         6  \\\n",
       "0    3.400711  0.358027 -0.911600  0.177564 -0.454447 -0.247524 -0.060133   \n",
       "1    0.228017 -1.132709  0.604415 -0.753955  1.334714  0.457056 -0.678834   \n",
       "2    0.481489 -0.942444  0.649604 -0.659894  1.065319  0.391034 -0.877553   \n",
       "3    2.972740  2.069694  0.134629  0.271887 -0.324948  2.299599 -0.622570   \n",
       "4    2.533181  1.386553  1.095384 -0.140963 -0.147163  2.989457  0.018743   \n",
       "..        ...       ...       ...       ...       ...       ...       ...   \n",
       "751 -0.893004 -0.390423  0.722535 -0.364536  0.386485  0.030508 -0.818504   \n",
       "752 -0.053082  2.475472 -0.560877  0.668072 -2.510985  1.357530 -0.241332   \n",
       "753  0.223745  2.145602  0.054211  0.249623 -1.850480  1.637849 -0.444033   \n",
       "754 -1.806938  0.868578  0.987447  0.008604 -0.743031 -0.679311  0.842868   \n",
       "755 -2.441574 -0.883880 -1.247492 -0.349363  0.257320  0.144156  1.016071   \n",
       "\n",
       "            7         8         9        10        11        12        13  \\\n",
       "0   -0.389523  0.068977  0.494481 -0.206403 -0.530228 -0.479629 -0.179611   \n",
       "1    0.408845  0.140864 -0.988343 -0.074809 -0.173254 -0.162095  0.650847   \n",
       "2    0.180870  0.423052 -0.914843 -0.408616  0.706434 -0.527214 -0.301065   \n",
       "3   -0.081158 -0.924636  0.564827 -0.444355 -0.683236 -0.236848 -0.134076   \n",
       "4    0.255862 -1.061376  0.481381  0.525865  0.081912  0.172012  0.048572   \n",
       "..        ...       ...       ...       ...       ...       ...       ...   \n",
       "751  0.489748 -0.001949  0.341903 -0.164487 -0.530215 -0.464924 -0.253296   \n",
       "752  0.671977  0.023507 -0.369747 -0.117701  0.034864  0.136247 -0.024957   \n",
       "753  0.426483  0.236066 -0.557041 -0.050423  0.015722  0.007483 -0.036016   \n",
       "754 -1.091898  0.530877  0.052730  0.026900 -0.023888  0.009721  0.000699   \n",
       "755  0.247255 -0.470640 -0.095530 -0.171043 -0.204591  0.110321 -0.092604   \n",
       "\n",
       "           14  \n",
       "0   -0.194805  \n",
       "1   -0.534382  \n",
       "2   -0.211889  \n",
       "3   -0.011795  \n",
       "4    0.055545  \n",
       "..        ...  \n",
       "751 -0.174629  \n",
       "752  0.167222  \n",
       "753  0.090347  \n",
       "754 -0.102587  \n",
       "755  0.042696  \n",
       "\n",
       "[756 rows x 15 columns]"
      ]
     },
     "execution_count": 30,
     "metadata": {},
     "output_type": "execute_result"
    }
   ],
   "source": [
    "x=pd.DataFrame(pca_values[:,0:15])\n",
    "x"
   ]
  },
  {
   "cell_type": "code",
   "execution_count": 31,
   "metadata": {
    "ExecuteTime": {
     "end_time": "2021-04-12T12:10:02.763463Z",
     "start_time": "2021-04-12T12:10:02.743791Z"
    }
   },
   "outputs": [],
   "source": [
    "x_train, x_test, y_train, y_test = train_test_split(x,y_resample,test_size=0.2, random_state=0) "
   ]
  },
  {
   "cell_type": "code",
   "execution_count": 48,
   "metadata": {
    "ExecuteTime": {
     "end_time": "2021-04-12T12:14:54.212964Z",
     "start_time": "2021-04-12T12:14:39.281485Z"
    },
    "scrolled": true
   },
   "outputs": [
    {
     "data": {
      "text/plain": [
       "GridSearchCV(cv=10, estimator=SVC(),\n",
       "             param_grid=[{'C': [15, 14, 13, 12, 11, 10, 0.1, 0.001],\n",
       "                          'gamma': [50, 5, 10, 0.5, 0.1, 0.01],\n",
       "                          'kernel': ['rbf']}])"
      ]
     },
     "execution_count": 48,
     "metadata": {},
     "output_type": "execute_result"
    }
   ],
   "source": [
    "clf = SVC()\n",
    "param_grid = [{'kernel':['rbf'],'gamma':[50,5,10,0.5,0.1,0.01],'C':[15,14,13,12,11,10,0.1,0.001] }]\n",
    "gsv = GridSearchCV(clf,param_grid,cv=10)\n",
    "gsv.fit(x_train,y_train)"
   ]
  },
  {
   "cell_type": "code",
   "execution_count": 49,
   "metadata": {
    "ExecuteTime": {
     "end_time": "2021-04-12T12:14:56.441329Z",
     "start_time": "2021-04-12T12:14:56.432386Z"
    }
   },
   "outputs": [
    {
     "data": {
      "text/plain": [
       "({'C': 15, 'gamma': 0.1, 'kernel': 'rbf'}, 0.9436612021857924)"
      ]
     },
     "execution_count": 49,
     "metadata": {},
     "output_type": "execute_result"
    }
   ],
   "source": [
    "gsv.best_params_ , gsv.best_score_ "
   ]
  },
  {
   "cell_type": "code",
   "execution_count": 45,
   "metadata": {
    "ExecuteTime": {
     "end_time": "2021-04-12T12:12:38.341782Z",
     "start_time": "2021-04-12T12:12:38.266643Z"
    }
   },
   "outputs": [
    {
     "name": "stdout",
     "output_type": "stream",
     "text": [
      "Accuracy = 93.42105263157895\n"
     ]
    },
    {
     "data": {
      "text/plain": [
       "array([[75,  6],\n",
       "       [ 4, 67]], dtype=int64)"
      ]
     },
     "execution_count": 45,
     "metadata": {},
     "output_type": "execute_result"
    }
   ],
   "source": [
    "clf = SVC(C= 15,gamma = 0.1,kernel='rbf')\n",
    "clf.fit(x_train , y_train)\n",
    "y_pred = clf.predict(x_test)\n",
    "acc = accuracy_score(y_test, y_pred) * 100\n",
    "print(\"Accuracy =\", acc)\n",
    "confusion_matrix(y_test, y_pred)"
   ]
  },
  {
   "cell_type": "code",
   "execution_count": 35,
   "metadata": {
    "ExecuteTime": {
     "end_time": "2021-04-12T12:10:58.286460Z",
     "start_time": "2021-04-12T12:10:58.151043Z"
    }
   },
   "outputs": [
    {
     "name": "stdout",
     "output_type": "stream",
     "text": [
      "Accuracy = 99.00662251655629\n"
     ]
    },
    {
     "data": {
      "text/plain": [
       "array([[293,   4],\n",
       "       [  2, 305]], dtype=int64)"
      ]
     },
     "execution_count": 35,
     "metadata": {},
     "output_type": "execute_result"
    }
   ],
   "source": [
    "clf = SVC(C= 15,gamma = 0.5,kernel='rbf')\n",
    "clf.fit(x_train , y_train)\n",
    "y_pred = clf.predict(x_train)\n",
    "acc = accuracy_score(y_train, y_pred) * 100\n",
    "print(\"Accuracy =\", acc)\n",
    "confusion_matrix(y_train, y_pred)"
   ]
  },
  {
   "cell_type": "code",
   "execution_count": 50,
   "metadata": {
    "ExecuteTime": {
     "end_time": "2021-04-12T12:22:57.753439Z",
     "start_time": "2021-04-12T12:22:57.745165Z"
    }
   },
   "outputs": [],
   "source": [
    "from sklearn.metrics import classification_report, confusion_matrix"
   ]
  },
  {
   "cell_type": "code",
   "execution_count": 51,
   "metadata": {
    "ExecuteTime": {
     "end_time": "2021-04-12T12:23:49.251209Z",
     "start_time": "2021-04-12T12:23:49.223599Z"
    },
    "scrolled": true
   },
   "outputs": [
    {
     "name": "stdout",
     "output_type": "stream",
     "text": [
      "              precision    recall  f1-score   support\n",
      "\n",
      "           0       0.95      0.93      0.94        81\n",
      "           1       0.92      0.94      0.93        71\n",
      "\n",
      "    accuracy                           0.93       152\n",
      "   macro avg       0.93      0.93      0.93       152\n",
      "weighted avg       0.93      0.93      0.93       152\n",
      "\n"
     ]
    }
   ],
   "source": [
    "print(classification_report(y_test,y_pred))"
   ]
  },
  {
   "cell_type": "code",
   "execution_count": null,
   "metadata": {},
   "outputs": [],
   "source": []
  }
 ],
 "metadata": {
  "kernelspec": {
   "display_name": "Python 3",
   "language": "python",
   "name": "python3"
  },
  "language_info": {
   "codemirror_mode": {
    "name": "ipython",
    "version": 3
   },
   "file_extension": ".py",
   "mimetype": "text/x-python",
   "name": "python",
   "nbconvert_exporter": "python",
   "pygments_lexer": "ipython3",
   "version": "3.8.5"
  }
 },
 "nbformat": 4,
 "nbformat_minor": 4
}
