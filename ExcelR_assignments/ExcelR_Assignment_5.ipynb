{
 "cells": [
  {
   "cell_type": "markdown",
   "metadata": {},
   "source": [
    "# Multi Linear Regression\n",
    "\n",
    "Name: SAI AKHIL SN | Batch Date: 27 Jan 2021"
   ]
  },
  {
   "cell_type": "markdown",
   "metadata": {},
   "source": [
    "#### Business Problem:\n",
    "To prepare a prediction model for profit of 50_startups data.\n",
    "\n",
    "Do transformations for getting better predictions of profit and\n",
    "make a table containing R^2 value for each prepared model"
   ]
  },
  {
   "cell_type": "code",
   "execution_count": 1,
   "metadata": {
    "ExecuteTime": {
     "end_time": "2021-04-11T16:56:58.774453Z",
     "start_time": "2021-04-11T16:56:58.751830Z"
    }
   },
   "outputs": [],
   "source": [
    "# Importing necessary libraries\n",
    "import pandas as pd\n",
    "import numpy as np\n",
    "import statsmodels.formula.api as smf\n",
    "import statsmodels.api as sn\n",
    "from statsmodels.graphics.regressionplots import influence_plot\n",
    "from sklearn.linear_model import LinearRegression\n",
    "from sklearn.model_selection import train_test_split\n",
    "import matplotlib.pyplot as plt\n",
    "import seaborn as sns\n",
    "from sklearn.preprocessing import StandardScaler\n",
    "from sklearn.preprocessing import scale\n",
    "from sklearn.preprocessing import PowerTransformer\n",
    "from sklearn.metrics import r2_score\n",
    "from sklearn.preprocessing import quantile_transform"
   ]
  },
  {
   "cell_type": "code",
   "execution_count": 2,
   "metadata": {
    "ExecuteTime": {
     "end_time": "2021-04-11T17:05:11.610818Z",
     "start_time": "2021-04-11T17:05:11.590212Z"
    }
   },
   "outputs": [],
   "source": [
    "data=pd.read_csv(\"C://Users/oftog/Downloads/50_Startups.csv\")"
   ]
  },
  {
   "cell_type": "code",
   "execution_count": 61,
   "metadata": {
    "ExecuteTime": {
     "end_time": "2021-04-11T17:05:12.038158Z",
     "start_time": "2021-04-11T17:05:12.013029Z"
    }
   },
   "outputs": [
    {
     "data": {
      "text/html": [
       "<div>\n",
       "<style scoped>\n",
       "    .dataframe tbody tr th:only-of-type {\n",
       "        vertical-align: middle;\n",
       "    }\n",
       "\n",
       "    .dataframe tbody tr th {\n",
       "        vertical-align: top;\n",
       "    }\n",
       "\n",
       "    .dataframe thead th {\n",
       "        text-align: right;\n",
       "    }\n",
       "</style>\n",
       "<table border=\"1\" class=\"dataframe\">\n",
       "  <thead>\n",
       "    <tr style=\"text-align: right;\">\n",
       "      <th></th>\n",
       "      <th>R&amp;D Spend</th>\n",
       "      <th>Administration</th>\n",
       "      <th>Marketing Spend</th>\n",
       "      <th>State</th>\n",
       "      <th>Profit</th>\n",
       "    </tr>\n",
       "  </thead>\n",
       "  <tbody>\n",
       "    <tr>\n",
       "      <th>0</th>\n",
       "      <td>165349.20</td>\n",
       "      <td>136897.80</td>\n",
       "      <td>471784.10</td>\n",
       "      <td>New York</td>\n",
       "      <td>192261.83</td>\n",
       "    </tr>\n",
       "    <tr>\n",
       "      <th>1</th>\n",
       "      <td>162597.70</td>\n",
       "      <td>151377.59</td>\n",
       "      <td>443898.53</td>\n",
       "      <td>California</td>\n",
       "      <td>191792.06</td>\n",
       "    </tr>\n",
       "    <tr>\n",
       "      <th>2</th>\n",
       "      <td>153441.51</td>\n",
       "      <td>101145.55</td>\n",
       "      <td>407934.54</td>\n",
       "      <td>Florida</td>\n",
       "      <td>191050.39</td>\n",
       "    </tr>\n",
       "    <tr>\n",
       "      <th>3</th>\n",
       "      <td>144372.41</td>\n",
       "      <td>118671.85</td>\n",
       "      <td>383199.62</td>\n",
       "      <td>New York</td>\n",
       "      <td>182901.99</td>\n",
       "    </tr>\n",
       "    <tr>\n",
       "      <th>4</th>\n",
       "      <td>142107.34</td>\n",
       "      <td>91391.77</td>\n",
       "      <td>366168.42</td>\n",
       "      <td>Florida</td>\n",
       "      <td>166187.94</td>\n",
       "    </tr>\n",
       "    <tr>\n",
       "      <th>5</th>\n",
       "      <td>131876.90</td>\n",
       "      <td>99814.71</td>\n",
       "      <td>362861.36</td>\n",
       "      <td>New York</td>\n",
       "      <td>156991.12</td>\n",
       "    </tr>\n",
       "    <tr>\n",
       "      <th>6</th>\n",
       "      <td>134615.46</td>\n",
       "      <td>147198.87</td>\n",
       "      <td>127716.82</td>\n",
       "      <td>California</td>\n",
       "      <td>156122.51</td>\n",
       "    </tr>\n",
       "    <tr>\n",
       "      <th>7</th>\n",
       "      <td>130298.13</td>\n",
       "      <td>145530.06</td>\n",
       "      <td>323876.68</td>\n",
       "      <td>Florida</td>\n",
       "      <td>155752.60</td>\n",
       "    </tr>\n",
       "    <tr>\n",
       "      <th>8</th>\n",
       "      <td>120542.52</td>\n",
       "      <td>148718.95</td>\n",
       "      <td>311613.29</td>\n",
       "      <td>New York</td>\n",
       "      <td>152211.77</td>\n",
       "    </tr>\n",
       "    <tr>\n",
       "      <th>9</th>\n",
       "      <td>123334.88</td>\n",
       "      <td>108679.17</td>\n",
       "      <td>304981.62</td>\n",
       "      <td>California</td>\n",
       "      <td>149759.96</td>\n",
       "    </tr>\n",
       "  </tbody>\n",
       "</table>\n",
       "</div>"
      ],
      "text/plain": [
       "   R&D Spend  Administration  Marketing Spend       State     Profit\n",
       "0  165349.20       136897.80        471784.10    New York  192261.83\n",
       "1  162597.70       151377.59        443898.53  California  191792.06\n",
       "2  153441.51       101145.55        407934.54     Florida  191050.39\n",
       "3  144372.41       118671.85        383199.62    New York  182901.99\n",
       "4  142107.34        91391.77        366168.42     Florida  166187.94\n",
       "5  131876.90        99814.71        362861.36    New York  156991.12\n",
       "6  134615.46       147198.87        127716.82  California  156122.51\n",
       "7  130298.13       145530.06        323876.68     Florida  155752.60\n",
       "8  120542.52       148718.95        311613.29    New York  152211.77\n",
       "9  123334.88       108679.17        304981.62  California  149759.96"
      ]
     },
     "execution_count": 61,
     "metadata": {},
     "output_type": "execute_result"
    }
   ],
   "source": [
    "data.head(10)"
   ]
  },
  {
   "cell_type": "code",
   "execution_count": 62,
   "metadata": {
    "ExecuteTime": {
     "end_time": "2021-04-11T17:05:12.774017Z",
     "start_time": "2021-04-11T17:05:12.760022Z"
    }
   },
   "outputs": [],
   "source": [
    "cdata=data.copy()"
   ]
  },
  {
   "cell_type": "code",
   "execution_count": 63,
   "metadata": {
    "ExecuteTime": {
     "end_time": "2021-04-11T17:05:13.656213Z",
     "start_time": "2021-04-11T17:05:13.648114Z"
    }
   },
   "outputs": [],
   "source": [
    "logdata=data.copy()"
   ]
  },
  {
   "cell_type": "code",
   "execution_count": 64,
   "metadata": {
    "ExecuteTime": {
     "end_time": "2021-04-11T17:05:15.004581Z",
     "start_time": "2021-04-11T17:05:14.992238Z"
    },
    "scrolled": true
   },
   "outputs": [
    {
     "data": {
      "text/plain": [
       "R&D Spend          0\n",
       "Administration     0\n",
       "Marketing Spend    0\n",
       "State              0\n",
       "Profit             0\n",
       "dtype: int64"
      ]
     },
     "execution_count": 64,
     "metadata": {},
     "output_type": "execute_result"
    }
   ],
   "source": [
    "data.isna().sum()"
   ]
  },
  {
   "cell_type": "code",
   "execution_count": 65,
   "metadata": {
    "ExecuteTime": {
     "end_time": "2021-04-11T17:05:15.989403Z",
     "start_time": "2021-04-11T17:05:15.962488Z"
    },
    "scrolled": false
   },
   "outputs": [
    {
     "data": {
      "text/html": [
       "<div>\n",
       "<style scoped>\n",
       "    .dataframe tbody tr th:only-of-type {\n",
       "        vertical-align: middle;\n",
       "    }\n",
       "\n",
       "    .dataframe tbody tr th {\n",
       "        vertical-align: top;\n",
       "    }\n",
       "\n",
       "    .dataframe thead th {\n",
       "        text-align: right;\n",
       "    }\n",
       "</style>\n",
       "<table border=\"1\" class=\"dataframe\">\n",
       "  <thead>\n",
       "    <tr style=\"text-align: right;\">\n",
       "      <th></th>\n",
       "      <th>R&amp;D Spend</th>\n",
       "      <th>Administration</th>\n",
       "      <th>Marketing Spend</th>\n",
       "      <th>Profit</th>\n",
       "    </tr>\n",
       "  </thead>\n",
       "  <tbody>\n",
       "    <tr>\n",
       "      <th>R&amp;D Spend</th>\n",
       "      <td>1.000000</td>\n",
       "      <td>0.241955</td>\n",
       "      <td>0.724248</td>\n",
       "      <td>0.972900</td>\n",
       "    </tr>\n",
       "    <tr>\n",
       "      <th>Administration</th>\n",
       "      <td>0.241955</td>\n",
       "      <td>1.000000</td>\n",
       "      <td>-0.032154</td>\n",
       "      <td>0.200717</td>\n",
       "    </tr>\n",
       "    <tr>\n",
       "      <th>Marketing Spend</th>\n",
       "      <td>0.724248</td>\n",
       "      <td>-0.032154</td>\n",
       "      <td>1.000000</td>\n",
       "      <td>0.747766</td>\n",
       "    </tr>\n",
       "    <tr>\n",
       "      <th>Profit</th>\n",
       "      <td>0.972900</td>\n",
       "      <td>0.200717</td>\n",
       "      <td>0.747766</td>\n",
       "      <td>1.000000</td>\n",
       "    </tr>\n",
       "  </tbody>\n",
       "</table>\n",
       "</div>"
      ],
      "text/plain": [
       "                 R&D Spend  Administration  Marketing Spend    Profit\n",
       "R&D Spend         1.000000        0.241955         0.724248  0.972900\n",
       "Administration    0.241955        1.000000        -0.032154  0.200717\n",
       "Marketing Spend   0.724248       -0.032154         1.000000  0.747766\n",
       "Profit            0.972900        0.200717         0.747766  1.000000"
      ]
     },
     "execution_count": 65,
     "metadata": {},
     "output_type": "execute_result"
    }
   ],
   "source": [
    "data.corr()"
   ]
  },
  {
   "cell_type": "code",
   "execution_count": 36,
   "metadata": {
    "ExecuteTime": {
     "end_time": "2021-04-11T16:57:03.912289Z",
     "start_time": "2021-04-11T16:57:03.412262Z"
    }
   },
   "outputs": [
    {
     "data": {
      "text/plain": [
       "<matplotlib.axes._subplots.AxesSubplot at 0x29f56ee0df0>"
      ]
     },
     "execution_count": 36,
     "metadata": {},
     "output_type": "execute_result"
    },
    {
     "data": {
      "image/png": "[encoded data removed]",
      "text/plain": [
       "<Figure size 1080x576 with 2 Axes>"
      ]
     },
     "metadata": {},
     "output_type": "display_data"
    }
   ],
   "source": [
    "plt.figure(figsize=(15,8))\n",
    "sns.heatmap(data=data.corr(), annot=True, cmap='cubehelix')"
   ]
  },
  {
   "cell_type": "code",
   "execution_count": 16,
   "metadata": {
    "ExecuteTime": {
     "end_time": "2021-04-11T16:53:29.246832Z",
     "start_time": "2021-04-11T16:53:21.017472Z"
    },
    "scrolled": false
   },
   "outputs": [
    {
     "data": {
      "text/plain": [
       "<seaborn.axisgrid.PairGrid at 0x29f5638b130>"
      ]
     },
     "execution_count": 16,
     "metadata": {},
     "output_type": "execute_result"
    },
    {
     "data": {
      "text/plain": [
       "<Figure size 1008x576 with 0 Axes>"
      ]
     },
     "metadata": {},
     "output_type": "display_data"
    },
    {
     "data": {
      "image/png": "[encoded data removed]",
      "text/plain": [
       "<Figure size 720x720 with 20 Axes>"
      ]
     },
     "metadata": {},
     "output_type": "display_data"
    }
   ],
   "source": [
    "plt.figure(figsize=(14,8))\n",
    "sns.set_style(style='darkgrid')\n",
    "sns.pairplot(data)"
   ]
  },
  {
   "cell_type": "code",
   "execution_count": 37,
   "metadata": {
    "ExecuteTime": {
     "end_time": "2021-04-11T16:57:08.091611Z",
     "start_time": "2021-04-11T16:57:07.550173Z"
    },
    "scrolled": false
   },
   "outputs": [
    {
     "data": {
      "text/plain": [
       "<matplotlib.axes._subplots.AxesSubplot at 0x29f58d09040>"
      ]
     },
     "execution_count": 37,
     "metadata": {},
     "output_type": "execute_result"
    },
    {
     "data": {
      "image/png": "[encoded data removed]",
      "text/plain": [
       "<Figure size 432x288 with 1 Axes>"
      ]
     },
     "metadata": {},
     "output_type": "display_data"
    }
   ],
   "source": [
    "sns.distplot(data.Profit, bins = 10) "
   ]
  },
  {
   "cell_type": "code",
   "execution_count": 138,
   "metadata": {
    "ExecuteTime": {
     "end_time": "2021-04-11T17:24:57.905573Z",
     "start_time": "2021-04-11T17:24:57.392395Z"
    },
    "scrolled": false
   },
   "outputs": [
    {
     "data": {
      "text/html": [
       "<div>\n",
       "<style scoped>\n",
       "    .dataframe tbody tr th:only-of-type {\n",
       "        vertical-align: middle;\n",
       "    }\n",
       "\n",
       "    .dataframe tbody tr th {\n",
       "        vertical-align: top;\n",
       "    }\n",
       "\n",
       "    .dataframe thead th {\n",
       "        text-align: right;\n",
       "    }\n",
       "</style>\n",
       "<table border=\"1\" class=\"dataframe\">\n",
       "  <thead>\n",
       "    <tr style=\"text-align: right;\">\n",
       "      <th></th>\n",
       "      <th>Var</th>\n",
       "      <th>Vif</th>\n",
       "    </tr>\n",
       "  </thead>\n",
       "  <tbody>\n",
       "    <tr>\n",
       "      <th>0</th>\n",
       "      <td>R&amp;D</td>\n",
       "      <td>9.05</td>\n",
       "    </tr>\n",
       "    <tr>\n",
       "      <th>2</th>\n",
       "      <td>MS</td>\n",
       "      <td>7.61</td>\n",
       "    </tr>\n",
       "    <tr>\n",
       "      <th>1</th>\n",
       "      <td>Administration</td>\n",
       "      <td>2.96</td>\n",
       "    </tr>\n",
       "    <tr>\n",
       "      <th>3</th>\n",
       "      <td>Florida</td>\n",
       "      <td>1.86</td>\n",
       "    </tr>\n",
       "    <tr>\n",
       "      <th>4</th>\n",
       "      <td>New York</td>\n",
       "      <td>1.80</td>\n",
       "    </tr>\n",
       "  </tbody>\n",
       "</table>\n",
       "</div>"
      ],
      "text/plain": [
       "              Var   Vif\n",
       "0             R&D  9.05\n",
       "2              MS  7.61\n",
       "1  Administration  2.96\n",
       "3         Florida  1.86\n",
       "4        New York  1.80"
      ]
     },
     "execution_count": 138,
     "metadata": {},
     "output_type": "execute_result"
    },
    {
     "data": {
      "image/png": "[encoded data removed]",
      "text/plain": [
       "<Figure size 432x288 with 1 Axes>"
      ]
     },
     "metadata": {},
     "output_type": "display_data"
    }
   ],
   "source": [
    "def calculate_vif(renameddata2):\n",
    "    vif_df = pd.DataFrame(columns = ['Var', 'Vif'])\n",
    "    x_var_names = renameddata2.columns\n",
    "    for i in range(0, x_var_names.shape[0]):\n",
    "        y = renameddata2[x_var_names[i]]\n",
    "        x = renameddata2[x_var_names.drop([x_var_names[i]])]\n",
    "        r_squared = sm.OLS(y,x).fit().rsquared\n",
    "        vif = round(1/(1-r_squared),2)\n",
    "        vif_df.loc[i] = [x_var_names[i], vif]\n",
    "        sns.barplot(x=\"Var\", y=\"Vif\", data=vif_df)\n",
    "    return vif_df.sort_values(by = 'Vif', axis = 0, ascending=False, inplace=False)\n",
    "\n",
    "#X=df.drop(['Salary'],axis=1)\n",
    "calculate_vif(X)"
   ]
  },
  {
   "cell_type": "code",
   "execution_count": 66,
   "metadata": {
    "ExecuteTime": {
     "end_time": "2021-04-11T17:05:20.660407Z",
     "start_time": "2021-04-11T17:05:20.634401Z"
    },
    "scrolled": false
   },
   "outputs": [
    {
     "data": {
      "text/html": [
       "<div>\n",
       "<style scoped>\n",
       "    .dataframe tbody tr th:only-of-type {\n",
       "        vertical-align: middle;\n",
       "    }\n",
       "\n",
       "    .dataframe tbody tr th {\n",
       "        vertical-align: top;\n",
       "    }\n",
       "\n",
       "    .dataframe thead th {\n",
       "        text-align: right;\n",
       "    }\n",
       "</style>\n",
       "<table border=\"1\" class=\"dataframe\">\n",
       "  <thead>\n",
       "    <tr style=\"text-align: right;\">\n",
       "      <th></th>\n",
       "      <th>R&amp;D Spend</th>\n",
       "      <th>Administration</th>\n",
       "      <th>Marketing Spend</th>\n",
       "      <th>State</th>\n",
       "      <th>Profit</th>\n",
       "    </tr>\n",
       "  </thead>\n",
       "  <tbody>\n",
       "    <tr>\n",
       "      <th>0</th>\n",
       "      <td>165349.20</td>\n",
       "      <td>136897.80</td>\n",
       "      <td>471784.10</td>\n",
       "      <td>New York</td>\n",
       "      <td>192261.83</td>\n",
       "    </tr>\n",
       "    <tr>\n",
       "      <th>1</th>\n",
       "      <td>162597.70</td>\n",
       "      <td>151377.59</td>\n",
       "      <td>443898.53</td>\n",
       "      <td>California</td>\n",
       "      <td>191792.06</td>\n",
       "    </tr>\n",
       "    <tr>\n",
       "      <th>2</th>\n",
       "      <td>153441.51</td>\n",
       "      <td>101145.55</td>\n",
       "      <td>407934.54</td>\n",
       "      <td>Florida</td>\n",
       "      <td>191050.39</td>\n",
       "    </tr>\n",
       "    <tr>\n",
       "      <th>3</th>\n",
       "      <td>144372.41</td>\n",
       "      <td>118671.85</td>\n",
       "      <td>383199.62</td>\n",
       "      <td>New York</td>\n",
       "      <td>182901.99</td>\n",
       "    </tr>\n",
       "    <tr>\n",
       "      <th>4</th>\n",
       "      <td>142107.34</td>\n",
       "      <td>91391.77</td>\n",
       "      <td>366168.42</td>\n",
       "      <td>Florida</td>\n",
       "      <td>166187.94</td>\n",
       "    </tr>\n",
       "  </tbody>\n",
       "</table>\n",
       "</div>"
      ],
      "text/plain": [
       "   R&D Spend  Administration  Marketing Spend       State     Profit\n",
       "0  165349.20       136897.80        471784.10    New York  192261.83\n",
       "1  162597.70       151377.59        443898.53  California  191792.06\n",
       "2  153441.51       101145.55        407934.54     Florida  191050.39\n",
       "3  144372.41       118671.85        383199.62    New York  182901.99\n",
       "4  142107.34        91391.77        366168.42     Florida  166187.94"
      ]
     },
     "execution_count": 66,
     "metadata": {},
     "output_type": "execute_result"
    }
   ],
   "source": [
    "cdata.head()"
   ]
  },
  {
   "cell_type": "code",
   "execution_count": 67,
   "metadata": {
    "ExecuteTime": {
     "end_time": "2021-04-11T17:05:23.077975Z",
     "start_time": "2021-04-11T17:05:23.056319Z"
    }
   },
   "outputs": [
    {
     "data": {
      "text/html": [
       "<div>\n",
       "<style scoped>\n",
       "    .dataframe tbody tr th:only-of-type {\n",
       "        vertical-align: middle;\n",
       "    }\n",
       "\n",
       "    .dataframe tbody tr th {\n",
       "        vertical-align: top;\n",
       "    }\n",
       "\n",
       "    .dataframe thead th {\n",
       "        text-align: right;\n",
       "    }\n",
       "</style>\n",
       "<table border=\"1\" class=\"dataframe\">\n",
       "  <thead>\n",
       "    <tr style=\"text-align: right;\">\n",
       "      <th></th>\n",
       "      <th>Florida</th>\n",
       "      <th>New York</th>\n",
       "    </tr>\n",
       "  </thead>\n",
       "  <tbody>\n",
       "    <tr>\n",
       "      <th>0</th>\n",
       "      <td>0</td>\n",
       "      <td>1</td>\n",
       "    </tr>\n",
       "    <tr>\n",
       "      <th>1</th>\n",
       "      <td>0</td>\n",
       "      <td>0</td>\n",
       "    </tr>\n",
       "    <tr>\n",
       "      <th>2</th>\n",
       "      <td>1</td>\n",
       "      <td>0</td>\n",
       "    </tr>\n",
       "    <tr>\n",
       "      <th>3</th>\n",
       "      <td>0</td>\n",
       "      <td>1</td>\n",
       "    </tr>\n",
       "    <tr>\n",
       "      <th>4</th>\n",
       "      <td>1</td>\n",
       "      <td>0</td>\n",
       "    </tr>\n",
       "  </tbody>\n",
       "</table>\n",
       "</div>"
      ],
      "text/plain": [
       "   Florida  New York\n",
       "0        0         1\n",
       "1        0         0\n",
       "2        1         0\n",
       "3        0         1\n",
       "4        1         0"
      ]
     },
     "execution_count": 67,
     "metadata": {},
     "output_type": "execute_result"
    }
   ],
   "source": [
    "state=pd.get_dummies(data['State'],drop_first=True)\n",
    "state.head()"
   ]
  },
  {
   "cell_type": "code",
   "execution_count": 68,
   "metadata": {
    "ExecuteTime": {
     "end_time": "2021-04-11T17:05:33.305729Z",
     "start_time": "2021-04-11T17:05:33.282422Z"
    },
    "scrolled": true
   },
   "outputs": [
    {
     "data": {
      "text/html": [
       "<div>\n",
       "<style scoped>\n",
       "    .dataframe tbody tr th:only-of-type {\n",
       "        vertical-align: middle;\n",
       "    }\n",
       "\n",
       "    .dataframe tbody tr th {\n",
       "        vertical-align: top;\n",
       "    }\n",
       "\n",
       "    .dataframe thead th {\n",
       "        text-align: right;\n",
       "    }\n",
       "</style>\n",
       "<table border=\"1\" class=\"dataframe\">\n",
       "  <thead>\n",
       "    <tr style=\"text-align: right;\">\n",
       "      <th></th>\n",
       "      <th>R&amp;D Spend</th>\n",
       "      <th>Administration</th>\n",
       "      <th>Marketing Spend</th>\n",
       "      <th>State</th>\n",
       "      <th>Profit</th>\n",
       "      <th>Florida</th>\n",
       "      <th>New York</th>\n",
       "    </tr>\n",
       "  </thead>\n",
       "  <tbody>\n",
       "    <tr>\n",
       "      <th>0</th>\n",
       "      <td>165349.20</td>\n",
       "      <td>136897.80</td>\n",
       "      <td>471784.10</td>\n",
       "      <td>New York</td>\n",
       "      <td>192261.83</td>\n",
       "      <td>0</td>\n",
       "      <td>1</td>\n",
       "    </tr>\n",
       "    <tr>\n",
       "      <th>1</th>\n",
       "      <td>162597.70</td>\n",
       "      <td>151377.59</td>\n",
       "      <td>443898.53</td>\n",
       "      <td>California</td>\n",
       "      <td>191792.06</td>\n",
       "      <td>0</td>\n",
       "      <td>0</td>\n",
       "    </tr>\n",
       "    <tr>\n",
       "      <th>2</th>\n",
       "      <td>153441.51</td>\n",
       "      <td>101145.55</td>\n",
       "      <td>407934.54</td>\n",
       "      <td>Florida</td>\n",
       "      <td>191050.39</td>\n",
       "      <td>1</td>\n",
       "      <td>0</td>\n",
       "    </tr>\n",
       "    <tr>\n",
       "      <th>3</th>\n",
       "      <td>144372.41</td>\n",
       "      <td>118671.85</td>\n",
       "      <td>383199.62</td>\n",
       "      <td>New York</td>\n",
       "      <td>182901.99</td>\n",
       "      <td>0</td>\n",
       "      <td>1</td>\n",
       "    </tr>\n",
       "    <tr>\n",
       "      <th>4</th>\n",
       "      <td>142107.34</td>\n",
       "      <td>91391.77</td>\n",
       "      <td>366168.42</td>\n",
       "      <td>Florida</td>\n",
       "      <td>166187.94</td>\n",
       "      <td>1</td>\n",
       "      <td>0</td>\n",
       "    </tr>\n",
       "  </tbody>\n",
       "</table>\n",
       "</div>"
      ],
      "text/plain": [
       "   R&D Spend  Administration  Marketing Spend       State     Profit  Florida  \\\n",
       "0  165349.20       136897.80        471784.10    New York  192261.83        0   \n",
       "1  162597.70       151377.59        443898.53  California  191792.06        0   \n",
       "2  153441.51       101145.55        407934.54     Florida  191050.39        1   \n",
       "3  144372.41       118671.85        383199.62    New York  182901.99        0   \n",
       "4  142107.34        91391.77        366168.42     Florida  166187.94        1   \n",
       "\n",
       "   New York  \n",
       "0         1  \n",
       "1         0  \n",
       "2         0  \n",
       "3         1  \n",
       "4         0  "
      ]
     },
     "execution_count": 68,
     "metadata": {},
     "output_type": "execute_result"
    }
   ],
   "source": [
    "cdata=pd.concat([cdata,state],axis=1)\n",
    "cdata.head()"
   ]
  },
  {
   "cell_type": "code",
   "execution_count": 69,
   "metadata": {
    "ExecuteTime": {
     "end_time": "2021-04-11T17:06:04.280334Z",
     "start_time": "2021-04-11T17:06:04.264314Z"
    }
   },
   "outputs": [],
   "source": [
    "cdata.drop(['State'],axis=1,inplace=True)"
   ]
  },
  {
   "cell_type": "code",
   "execution_count": 70,
   "metadata": {
    "ExecuteTime": {
     "end_time": "2021-04-11T17:06:14.206784Z",
     "start_time": "2021-04-11T17:06:14.178503Z"
    }
   },
   "outputs": [
    {
     "data": {
      "text/html": [
       "<div>\n",
       "<style scoped>\n",
       "    .dataframe tbody tr th:only-of-type {\n",
       "        vertical-align: middle;\n",
       "    }\n",
       "\n",
       "    .dataframe tbody tr th {\n",
       "        vertical-align: top;\n",
       "    }\n",
       "\n",
       "    .dataframe thead th {\n",
       "        text-align: right;\n",
       "    }\n",
       "</style>\n",
       "<table border=\"1\" class=\"dataframe\">\n",
       "  <thead>\n",
       "    <tr style=\"text-align: right;\">\n",
       "      <th></th>\n",
       "      <th>R&amp;D Spend</th>\n",
       "      <th>Administration</th>\n",
       "      <th>Marketing Spend</th>\n",
       "      <th>Profit</th>\n",
       "      <th>Florida</th>\n",
       "      <th>New York</th>\n",
       "    </tr>\n",
       "  </thead>\n",
       "  <tbody>\n",
       "    <tr>\n",
       "      <th>0</th>\n",
       "      <td>165349.2</td>\n",
       "      <td>136897.80</td>\n",
       "      <td>471784.10</td>\n",
       "      <td>192261.83</td>\n",
       "      <td>0</td>\n",
       "      <td>1</td>\n",
       "    </tr>\n",
       "    <tr>\n",
       "      <th>1</th>\n",
       "      <td>162597.7</td>\n",
       "      <td>151377.59</td>\n",
       "      <td>443898.53</td>\n",
       "      <td>191792.06</td>\n",
       "      <td>0</td>\n",
       "      <td>0</td>\n",
       "    </tr>\n",
       "  </tbody>\n",
       "</table>\n",
       "</div>"
      ],
      "text/plain": [
       "   R&D Spend  Administration  Marketing Spend     Profit  Florida  New York\n",
       "0   165349.2       136897.80        471784.10  192261.83        0         1\n",
       "1   162597.7       151377.59        443898.53  191792.06        0         0"
      ]
     },
     "execution_count": 70,
     "metadata": {},
     "output_type": "execute_result"
    }
   ],
   "source": [
    "cdata.head(2)"
   ]
  },
  {
   "cell_type": "code",
   "execution_count": 72,
   "metadata": {
    "ExecuteTime": {
     "end_time": "2021-04-11T17:07:19.584284Z",
     "start_time": "2021-04-11T17:07:19.553723Z"
    },
    "scrolled": false
   },
   "outputs": [
    {
     "data": {
      "text/html": [
       "<div>\n",
       "<style scoped>\n",
       "    .dataframe tbody tr th:only-of-type {\n",
       "        vertical-align: middle;\n",
       "    }\n",
       "\n",
       "    .dataframe tbody tr th {\n",
       "        vertical-align: top;\n",
       "    }\n",
       "\n",
       "    .dataframe thead th {\n",
       "        text-align: right;\n",
       "    }\n",
       "</style>\n",
       "<table border=\"1\" class=\"dataframe\">\n",
       "  <thead>\n",
       "    <tr style=\"text-align: right;\">\n",
       "      <th></th>\n",
       "      <th>RDS</th>\n",
       "      <th>Administration</th>\n",
       "      <th>MS</th>\n",
       "      <th>Profit</th>\n",
       "      <th>Florida</th>\n",
       "      <th>NY</th>\n",
       "    </tr>\n",
       "  </thead>\n",
       "  <tbody>\n",
       "    <tr>\n",
       "      <th>0</th>\n",
       "      <td>165349.20</td>\n",
       "      <td>136897.80</td>\n",
       "      <td>471784.10</td>\n",
       "      <td>192261.83</td>\n",
       "      <td>0</td>\n",
       "      <td>1</td>\n",
       "    </tr>\n",
       "    <tr>\n",
       "      <th>1</th>\n",
       "      <td>162597.70</td>\n",
       "      <td>151377.59</td>\n",
       "      <td>443898.53</td>\n",
       "      <td>191792.06</td>\n",
       "      <td>0</td>\n",
       "      <td>0</td>\n",
       "    </tr>\n",
       "    <tr>\n",
       "      <th>2</th>\n",
       "      <td>153441.51</td>\n",
       "      <td>101145.55</td>\n",
       "      <td>407934.54</td>\n",
       "      <td>191050.39</td>\n",
       "      <td>1</td>\n",
       "      <td>0</td>\n",
       "    </tr>\n",
       "    <tr>\n",
       "      <th>3</th>\n",
       "      <td>144372.41</td>\n",
       "      <td>118671.85</td>\n",
       "      <td>383199.62</td>\n",
       "      <td>182901.99</td>\n",
       "      <td>0</td>\n",
       "      <td>1</td>\n",
       "    </tr>\n",
       "    <tr>\n",
       "      <th>4</th>\n",
       "      <td>142107.34</td>\n",
       "      <td>91391.77</td>\n",
       "      <td>366168.42</td>\n",
       "      <td>166187.94</td>\n",
       "      <td>1</td>\n",
       "      <td>0</td>\n",
       "    </tr>\n",
       "  </tbody>\n",
       "</table>\n",
       "</div>"
      ],
      "text/plain": [
       "         RDS  Administration         MS     Profit  Florida  NY\n",
       "0  165349.20       136897.80  471784.10  192261.83        0   1\n",
       "1  162597.70       151377.59  443898.53  191792.06        0   0\n",
       "2  153441.51       101145.55  407934.54  191050.39        1   0\n",
       "3  144372.41       118671.85  383199.62  182901.99        0   1\n",
       "4  142107.34        91391.77  366168.42  166187.94        1   0"
      ]
     },
     "execution_count": 72,
     "metadata": {},
     "output_type": "execute_result"
    }
   ],
   "source": [
    "renameddata=cdata.rename(columns={\"R&D Spend\":\"RDS\",\"Marketing Spend\":\"MS\",\"New York\":\"NY\"})\n",
    "renameddata.head()"
   ]
  },
  {
   "cell_type": "code",
   "execution_count": 74,
   "metadata": {
    "ExecuteTime": {
     "end_time": "2021-04-11T17:07:34.070072Z",
     "start_time": "2021-04-11T17:07:34.047427Z"
    }
   },
   "outputs": [
    {
     "data": {
      "text/plain": [
       "(50, 6)"
      ]
     },
     "execution_count": 74,
     "metadata": {},
     "output_type": "execute_result"
    }
   ],
   "source": [
    "renameddata.shape"
   ]
  },
  {
   "cell_type": "markdown",
   "metadata": {},
   "source": [
    "### Standardizing the dataset"
   ]
  },
  {
   "cell_type": "code",
   "execution_count": 75,
   "metadata": {
    "ExecuteTime": {
     "end_time": "2021-04-11T17:07:58.688570Z",
     "start_time": "2021-04-11T17:07:58.670533Z"
    }
   },
   "outputs": [],
   "source": [
    "renameddata.iloc[:,0:4]=StandardScaler().fit_transform(renameddata.iloc[:,0:4])"
   ]
  },
  {
   "cell_type": "code",
   "execution_count": 76,
   "metadata": {
    "ExecuteTime": {
     "end_time": "2021-04-11T17:08:01.421028Z",
     "start_time": "2021-04-11T17:08:01.394620Z"
    }
   },
   "outputs": [
    {
     "data": {
      "text/html": [
       "<div>\n",
       "<style scoped>\n",
       "    .dataframe tbody tr th:only-of-type {\n",
       "        vertical-align: middle;\n",
       "    }\n",
       "\n",
       "    .dataframe tbody tr th {\n",
       "        vertical-align: top;\n",
       "    }\n",
       "\n",
       "    .dataframe thead th {\n",
       "        text-align: right;\n",
       "    }\n",
       "</style>\n",
       "<table border=\"1\" class=\"dataframe\">\n",
       "  <thead>\n",
       "    <tr style=\"text-align: right;\">\n",
       "      <th></th>\n",
       "      <th>RDS</th>\n",
       "      <th>Administration</th>\n",
       "      <th>MS</th>\n",
       "      <th>Profit</th>\n",
       "      <th>Florida</th>\n",
       "      <th>NY</th>\n",
       "    </tr>\n",
       "  </thead>\n",
       "  <tbody>\n",
       "    <tr>\n",
       "      <th>0</th>\n",
       "      <td>2.016411</td>\n",
       "      <td>0.560753</td>\n",
       "      <td>2.153943</td>\n",
       "      <td>2.011203</td>\n",
       "      <td>0</td>\n",
       "      <td>1</td>\n",
       "    </tr>\n",
       "    <tr>\n",
       "      <th>1</th>\n",
       "      <td>1.955860</td>\n",
       "      <td>1.082807</td>\n",
       "      <td>1.923600</td>\n",
       "      <td>1.999430</td>\n",
       "      <td>0</td>\n",
       "      <td>0</td>\n",
       "    </tr>\n",
       "    <tr>\n",
       "      <th>2</th>\n",
       "      <td>1.754364</td>\n",
       "      <td>-0.728257</td>\n",
       "      <td>1.626528</td>\n",
       "      <td>1.980842</td>\n",
       "      <td>1</td>\n",
       "      <td>0</td>\n",
       "    </tr>\n",
       "    <tr>\n",
       "      <th>3</th>\n",
       "      <td>1.554784</td>\n",
       "      <td>-0.096365</td>\n",
       "      <td>1.422210</td>\n",
       "      <td>1.776627</td>\n",
       "      <td>0</td>\n",
       "      <td>1</td>\n",
       "    </tr>\n",
       "    <tr>\n",
       "      <th>4</th>\n",
       "      <td>1.504937</td>\n",
       "      <td>-1.079919</td>\n",
       "      <td>1.281528</td>\n",
       "      <td>1.357740</td>\n",
       "      <td>1</td>\n",
       "      <td>0</td>\n",
       "    </tr>\n",
       "  </tbody>\n",
       "</table>\n",
       "</div>"
      ],
      "text/plain": [
       "        RDS  Administration        MS    Profit  Florida  NY\n",
       "0  2.016411        0.560753  2.153943  2.011203        0   1\n",
       "1  1.955860        1.082807  1.923600  1.999430        0   0\n",
       "2  1.754364       -0.728257  1.626528  1.980842        1   0\n",
       "3  1.554784       -0.096365  1.422210  1.776627        0   1\n",
       "4  1.504937       -1.079919  1.281528  1.357740        1   0"
      ]
     },
     "execution_count": 76,
     "metadata": {},
     "output_type": "execute_result"
    }
   ],
   "source": [
    "renameddata.head()"
   ]
  },
  {
   "cell_type": "code",
   "execution_count": 77,
   "metadata": {
    "ExecuteTime": {
     "end_time": "2021-04-11T17:08:23.715025Z",
     "start_time": "2021-04-11T17:08:23.621239Z"
    }
   },
   "outputs": [],
   "source": [
    "model=smf.ols('Profit~RDS+Administration+MS+Florida+NY',data=renameddata).fit()"
   ]
  },
  {
   "cell_type": "code",
   "execution_count": 78,
   "metadata": {
    "ExecuteTime": {
     "end_time": "2021-04-11T17:08:25.578947Z",
     "start_time": "2021-04-11T17:08:24.924299Z"
    }
   },
   "outputs": [
    {
     "data": {
      "image/png": "[encoded data removed]",
      "text/plain": [
       "<Figure size 432x288 with 1 Axes>"
      ]
     },
     "metadata": {},
     "output_type": "display_data"
    }
   ],
   "source": [
    "import statsmodels.api as sm\n",
    "qqplot=sm.qqplot(model.resid,line='q')\n",
    "plt.title(\"Normal Q-Q plot of residuals\")\n",
    "plt.show()"
   ]
  },
  {
   "cell_type": "code",
   "execution_count": 79,
   "metadata": {
    "ExecuteTime": {
     "end_time": "2021-04-11T17:08:27.980647Z",
     "start_time": "2021-04-11T17:08:27.967057Z"
    }
   },
   "outputs": [
    {
     "data": {
      "text/plain": [
       "Intercept        -0.001237\n",
       "RDS               0.917931\n",
       "Administration   -0.018771\n",
       "MS                0.081858\n",
       "Florida           0.004982\n",
       "NY               -0.001050\n",
       "dtype: float64"
      ]
     },
     "execution_count": 79,
     "metadata": {},
     "output_type": "execute_result"
    }
   ],
   "source": [
    "model.params"
   ]
  },
  {
   "cell_type": "code",
   "execution_count": 80,
   "metadata": {
    "ExecuteTime": {
     "end_time": "2021-04-11T17:08:30.254174Z",
     "start_time": "2021-04-11T17:08:30.241252Z"
    }
   },
   "outputs": [
    {
     "data": {
      "text/plain": [
       "(Intercept         9.830641e-01\n",
       " RDS               2.578772e-21\n",
       " Administration    6.077373e-01\n",
       " MS                1.226769e-01\n",
       " Florida           9.532429e-01\n",
       " NY                9.897941e-01\n",
       " dtype: float64,\n",
       " Intercept         -0.021349\n",
       " RDS               17.368580\n",
       " Administration    -0.517012\n",
       " MS                 1.573889\n",
       " Florida            0.058970\n",
       " NY                -0.012864\n",
       " dtype: float64)"
      ]
     },
     "execution_count": 80,
     "metadata": {},
     "output_type": "execute_result"
    }
   ],
   "source": [
    "model.pvalues,model.tvalues"
   ]
  },
  {
   "cell_type": "code",
   "execution_count": 81,
   "metadata": {
    "ExecuteTime": {
     "end_time": "2021-04-11T17:08:34.802219Z",
     "start_time": "2021-04-11T17:08:34.789546Z"
    }
   },
   "outputs": [
    {
     "data": {
      "text/plain": [
       "0.9507524843355148"
      ]
     },
     "execution_count": 81,
     "metadata": {},
     "output_type": "execute_result"
    }
   ],
   "source": [
    "#Standardized Model R squared value\n",
    "model.rsquared"
   ]
  },
  {
   "cell_type": "code",
   "execution_count": 82,
   "metadata": {
    "ExecuteTime": {
     "end_time": "2021-04-11T17:08:37.013457Z",
     "start_time": "2021-04-11T17:08:36.976835Z"
    },
    "scrolled": false
   },
   "outputs": [
    {
     "data": {
      "text/html": [
       "<table class=\"simpletable\">\n",
       "<caption>OLS Regression Results</caption>\n",
       "<tr>\n",
       "  <th>Dep. Variable:</th>         <td>Profit</td>      <th>  R-squared:         </th> <td>   0.951</td>\n",
       "</tr>\n",
       "<tr>\n",
       "  <th>Model:</th>                   <td>OLS</td>       <th>  Adj. R-squared:    </th> <td>   0.945</td>\n",
       "</tr>\n",
       "<tr>\n",
       "  <th>Method:</th>             <td>Least Squares</td>  <th>  F-statistic:       </th> <td>   169.9</td>\n",
       "</tr>\n",
       "<tr>\n",
       "  <th>Date:</th>             <td>Sun, 11 Apr 2021</td> <th>  Prob (F-statistic):</th> <td>1.34e-27</td>\n",
       "</tr>\n",
       "<tr>\n",
       "  <th>Time:</th>                 <td>22:38:36</td>     <th>  Log-Likelihood:    </th> <td>  4.3255</td>\n",
       "</tr>\n",
       "<tr>\n",
       "  <th>No. Observations:</th>      <td>    50</td>      <th>  AIC:               </th> <td>   3.349</td>\n",
       "</tr>\n",
       "<tr>\n",
       "  <th>Df Residuals:</th>          <td>    44</td>      <th>  BIC:               </th> <td>   14.82</td>\n",
       "</tr>\n",
       "<tr>\n",
       "  <th>Df Model:</th>              <td>     5</td>      <th>                     </th>     <td> </td>   \n",
       "</tr>\n",
       "<tr>\n",
       "  <th>Covariance Type:</th>      <td>nonrobust</td>    <th>                     </th>     <td> </td>   \n",
       "</tr>\n",
       "</table>\n",
       "<table class=\"simpletable\">\n",
       "<tr>\n",
       "         <td></td>           <th>coef</th>     <th>std err</th>      <th>t</th>      <th>P>|t|</th>  <th>[0.025</th>    <th>0.975]</th>  \n",
       "</tr>\n",
       "<tr>\n",
       "  <th>Intercept</th>      <td>   -0.0012</td> <td>    0.058</td> <td>   -0.021</td> <td> 0.983</td> <td>   -0.118</td> <td>    0.116</td>\n",
       "</tr>\n",
       "<tr>\n",
       "  <th>RDS</th>            <td>    0.9179</td> <td>    0.053</td> <td>   17.369</td> <td> 0.000</td> <td>    0.811</td> <td>    1.024</td>\n",
       "</tr>\n",
       "<tr>\n",
       "  <th>Administration</th> <td>   -0.0188</td> <td>    0.036</td> <td>   -0.517</td> <td> 0.608</td> <td>   -0.092</td> <td>    0.054</td>\n",
       "</tr>\n",
       "<tr>\n",
       "  <th>MS</th>             <td>    0.0819</td> <td>    0.052</td> <td>    1.574</td> <td> 0.123</td> <td>   -0.023</td> <td>    0.187</td>\n",
       "</tr>\n",
       "<tr>\n",
       "  <th>Florida</th>        <td>    0.0050</td> <td>    0.084</td> <td>    0.059</td> <td> 0.953</td> <td>   -0.165</td> <td>    0.175</td>\n",
       "</tr>\n",
       "<tr>\n",
       "  <th>NY</th>             <td>   -0.0010</td> <td>    0.082</td> <td>   -0.013</td> <td> 0.990</td> <td>   -0.166</td> <td>    0.163</td>\n",
       "</tr>\n",
       "</table>\n",
       "<table class=\"simpletable\">\n",
       "<tr>\n",
       "  <th>Omnibus:</th>       <td>14.782</td> <th>  Durbin-Watson:     </th> <td>   1.283</td>\n",
       "</tr>\n",
       "<tr>\n",
       "  <th>Prob(Omnibus):</th> <td> 0.001</td> <th>  Jarque-Bera (JB):  </th> <td>  21.266</td>\n",
       "</tr>\n",
       "<tr>\n",
       "  <th>Skew:</th>          <td>-0.948</td> <th>  Prob(JB):          </th> <td>2.41e-05</td>\n",
       "</tr>\n",
       "<tr>\n",
       "  <th>Kurtosis:</th>      <td> 5.572</td> <th>  Cond. No.          </th> <td>    4.49</td>\n",
       "</tr>\n",
       "</table><br/><br/>Warnings:<br/>[1] Standard Errors assume that the covariance matrix of the errors is correctly specified."
      ],
      "text/plain": [
       "<class 'statsmodels.iolib.summary.Summary'>\n",
       "\"\"\"\n",
       "                            OLS Regression Results                            \n",
       "==============================================================================\n",
       "Dep. Variable:                 Profit   R-squared:                       0.951\n",
       "Model:                            OLS   Adj. R-squared:                  0.945\n",
       "Method:                 Least Squares   F-statistic:                     169.9\n",
       "Date:                Sun, 11 Apr 2021   Prob (F-statistic):           1.34e-27\n",
       "Time:                        22:38:36   Log-Likelihood:                 4.3255\n",
       "No. Observations:                  50   AIC:                             3.349\n",
       "Df Residuals:                      44   BIC:                             14.82\n",
       "Df Model:                           5                                         \n",
       "Covariance Type:            nonrobust                                         \n",
       "==================================================================================\n",
       "                     coef    std err          t      P>|t|      [0.025      0.975]\n",
       "----------------------------------------------------------------------------------\n",
       "Intercept         -0.0012      0.058     -0.021      0.983      -0.118       0.116\n",
       "RDS                0.9179      0.053     17.369      0.000       0.811       1.024\n",
       "Administration    -0.0188      0.036     -0.517      0.608      -0.092       0.054\n",
       "MS                 0.0819      0.052      1.574      0.123      -0.023       0.187\n",
       "Florida            0.0050      0.084      0.059      0.953      -0.165       0.175\n",
       "NY                -0.0010      0.082     -0.013      0.990      -0.166       0.163\n",
       "==============================================================================\n",
       "Omnibus:                       14.782   Durbin-Watson:                   1.283\n",
       "Prob(Omnibus):                  0.001   Jarque-Bera (JB):               21.266\n",
       "Skew:                          -0.948   Prob(JB):                     2.41e-05\n",
       "Kurtosis:                       5.572   Cond. No.                         4.49\n",
       "==============================================================================\n",
       "\n",
       "Warnings:\n",
       "[1] Standard Errors assume that the covariance matrix of the errors is correctly specified.\n",
       "\"\"\""
      ]
     },
     "execution_count": 82,
     "metadata": {},
     "output_type": "execute_result"
    }
   ],
   "source": [
    "model.summary()"
   ]
  },
  {
   "cell_type": "markdown",
   "metadata": {},
   "source": [
    "### Applying power transformation"
   ]
  },
  {
   "cell_type": "code",
   "execution_count": 83,
   "metadata": {
    "ExecuteTime": {
     "end_time": "2021-04-11T17:08:47.856453Z",
     "start_time": "2021-04-11T17:08:47.826688Z"
    },
    "scrolled": false
   },
   "outputs": [
    {
     "data": {
      "text/html": [
       "<div>\n",
       "<style scoped>\n",
       "    .dataframe tbody tr th:only-of-type {\n",
       "        vertical-align: middle;\n",
       "    }\n",
       "\n",
       "    .dataframe tbody tr th {\n",
       "        vertical-align: top;\n",
       "    }\n",
       "\n",
       "    .dataframe thead th {\n",
       "        text-align: right;\n",
       "    }\n",
       "</style>\n",
       "<table border=\"1\" class=\"dataframe\">\n",
       "  <thead>\n",
       "    <tr style=\"text-align: right;\">\n",
       "      <th></th>\n",
       "      <th>RDS</th>\n",
       "      <th>Administration</th>\n",
       "      <th>MS</th>\n",
       "      <th>Profit</th>\n",
       "      <th>Florida</th>\n",
       "      <th>NY</th>\n",
       "    </tr>\n",
       "  </thead>\n",
       "  <tbody>\n",
       "    <tr>\n",
       "      <th>0</th>\n",
       "      <td>165349.20</td>\n",
       "      <td>136897.80</td>\n",
       "      <td>471784.10</td>\n",
       "      <td>192261.83</td>\n",
       "      <td>0</td>\n",
       "      <td>1</td>\n",
       "    </tr>\n",
       "    <tr>\n",
       "      <th>1</th>\n",
       "      <td>162597.70</td>\n",
       "      <td>151377.59</td>\n",
       "      <td>443898.53</td>\n",
       "      <td>191792.06</td>\n",
       "      <td>0</td>\n",
       "      <td>0</td>\n",
       "    </tr>\n",
       "    <tr>\n",
       "      <th>2</th>\n",
       "      <td>153441.51</td>\n",
       "      <td>101145.55</td>\n",
       "      <td>407934.54</td>\n",
       "      <td>191050.39</td>\n",
       "      <td>1</td>\n",
       "      <td>0</td>\n",
       "    </tr>\n",
       "    <tr>\n",
       "      <th>3</th>\n",
       "      <td>144372.41</td>\n",
       "      <td>118671.85</td>\n",
       "      <td>383199.62</td>\n",
       "      <td>182901.99</td>\n",
       "      <td>0</td>\n",
       "      <td>1</td>\n",
       "    </tr>\n",
       "    <tr>\n",
       "      <th>4</th>\n",
       "      <td>142107.34</td>\n",
       "      <td>91391.77</td>\n",
       "      <td>366168.42</td>\n",
       "      <td>166187.94</td>\n",
       "      <td>1</td>\n",
       "      <td>0</td>\n",
       "    </tr>\n",
       "  </tbody>\n",
       "</table>\n",
       "</div>"
      ],
      "text/plain": [
       "         RDS  Administration         MS     Profit  Florida  NY\n",
       "0  165349.20       136897.80  471784.10  192261.83        0   1\n",
       "1  162597.70       151377.59  443898.53  191792.06        0   0\n",
       "2  153441.51       101145.55  407934.54  191050.39        1   0\n",
       "3  144372.41       118671.85  383199.62  182901.99        0   1\n",
       "4  142107.34        91391.77  366168.42  166187.94        1   0"
      ]
     },
     "execution_count": 83,
     "metadata": {},
     "output_type": "execute_result"
    }
   ],
   "source": [
    "renameddata1=cdata.rename(columns={\"R&D Spend\":\"RDS\",\"Marketing Spend\":\"MS\",\"New York\":\"NY\"})\n",
    "renameddata1.head()"
   ]
  },
  {
   "cell_type": "code",
   "execution_count": 84,
   "metadata": {
    "ExecuteTime": {
     "end_time": "2021-04-11T17:09:56.153902Z",
     "start_time": "2021-04-11T17:09:56.090275Z"
    }
   },
   "outputs": [
    {
     "data": {
      "text/html": [
       "<div>\n",
       "<style scoped>\n",
       "    .dataframe tbody tr th:only-of-type {\n",
       "        vertical-align: middle;\n",
       "    }\n",
       "\n",
       "    .dataframe tbody tr th {\n",
       "        vertical-align: top;\n",
       "    }\n",
       "\n",
       "    .dataframe thead th {\n",
       "        text-align: right;\n",
       "    }\n",
       "</style>\n",
       "<table border=\"1\" class=\"dataframe\">\n",
       "  <thead>\n",
       "    <tr style=\"text-align: right;\">\n",
       "      <th></th>\n",
       "      <th>RDS</th>\n",
       "      <th>Administration</th>\n",
       "      <th>MS</th>\n",
       "      <th>Profit</th>\n",
       "      <th>Florida</th>\n",
       "      <th>NY</th>\n",
       "    </tr>\n",
       "  </thead>\n",
       "  <tbody>\n",
       "    <tr>\n",
       "      <th>0</th>\n",
       "      <td>1.562570</td>\n",
       "      <td>0.529102</td>\n",
       "      <td>1.580363</td>\n",
       "      <td>1.987125</td>\n",
       "      <td>0</td>\n",
       "      <td>1</td>\n",
       "    </tr>\n",
       "    <tr>\n",
       "      <th>1</th>\n",
       "      <td>1.527028</td>\n",
       "      <td>1.131285</td>\n",
       "      <td>1.451634</td>\n",
       "      <td>1.975666</td>\n",
       "      <td>0</td>\n",
       "      <td>0</td>\n",
       "    </tr>\n",
       "    <tr>\n",
       "      <th>2</th>\n",
       "      <td>1.406784</td>\n",
       "      <td>-0.790378</td>\n",
       "      <td>1.279964</td>\n",
       "      <td>1.957572</td>\n",
       "      <td>1</td>\n",
       "      <td>0</td>\n",
       "    </tr>\n",
       "    <tr>\n",
       "      <th>3</th>\n",
       "      <td>1.284497</td>\n",
       "      <td>-0.174305</td>\n",
       "      <td>1.157809</td>\n",
       "      <td>1.758577</td>\n",
       "      <td>0</td>\n",
       "      <td>1</td>\n",
       "    </tr>\n",
       "    <tr>\n",
       "      <th>4</th>\n",
       "      <td>1.253427</td>\n",
       "      <td>-1.106257</td>\n",
       "      <td>1.071572</td>\n",
       "      <td>1.349158</td>\n",
       "      <td>1</td>\n",
       "      <td>0</td>\n",
       "    </tr>\n",
       "  </tbody>\n",
       "</table>\n",
       "</div>"
      ],
      "text/plain": [
       "        RDS  Administration        MS    Profit  Florida  NY\n",
       "0  1.562570        0.529102  1.580363  1.987125        0   1\n",
       "1  1.527028        1.131285  1.451634  1.975666        0   0\n",
       "2  1.406784       -0.790378  1.279964  1.957572        1   0\n",
       "3  1.284497       -0.174305  1.157809  1.758577        0   1\n",
       "4  1.253427       -1.106257  1.071572  1.349158        1   0"
      ]
     },
     "execution_count": 84,
     "metadata": {},
     "output_type": "execute_result"
    }
   ],
   "source": [
    "renameddata1.iloc[:,0:4]=PowerTransformer().fit_transform(renameddata1.iloc[:,0:4])\n",
    "renameddata1.head()"
   ]
  },
  {
   "cell_type": "code",
   "execution_count": 85,
   "metadata": {
    "ExecuteTime": {
     "end_time": "2021-04-11T17:09:58.459611Z",
     "start_time": "2021-04-11T17:09:58.420922Z"
    }
   },
   "outputs": [],
   "source": [
    "model1=smf.ols('Profit~RDS+Administration+MS+Florida+NY',data=renameddata1).fit()"
   ]
  },
  {
   "cell_type": "code",
   "execution_count": 86,
   "metadata": {
    "ExecuteTime": {
     "end_time": "2021-04-11T17:09:59.422521Z",
     "start_time": "2021-04-11T17:09:58.873102Z"
    }
   },
   "outputs": [
    {
     "data": {
      "image/png": "[encoded data removed]",
      "text/plain": [
       "<Figure size 432x288 with 1 Axes>"
      ]
     },
     "metadata": {},
     "output_type": "display_data"
    }
   ],
   "source": [
    "import statsmodels.api as sm\n",
    "qqplot=sm.qqplot(model1.resid,line='q')\n",
    "plt.title(\"Normal Q-Q plot of residuals\")\n",
    "plt.show()"
   ]
  },
  {
   "cell_type": "code",
   "execution_count": 87,
   "metadata": {
    "ExecuteTime": {
     "end_time": "2021-04-11T17:10:01.363360Z",
     "start_time": "2021-04-11T17:10:01.348035Z"
    },
    "scrolled": true
   },
   "outputs": [
    {
     "data": {
      "text/plain": [
       "Intercept        -0.008429\n",
       "RDS               0.927153\n",
       "Administration   -0.033967\n",
       "MS                0.060187\n",
       "Florida          -0.013188\n",
       "NY                0.037204\n",
       "dtype: float64"
      ]
     },
     "execution_count": 87,
     "metadata": {},
     "output_type": "execute_result"
    }
   ],
   "source": [
    "model1.params"
   ]
  },
  {
   "cell_type": "code",
   "execution_count": 88,
   "metadata": {
    "ExecuteTime": {
     "end_time": "2021-04-11T17:10:13.484827Z",
     "start_time": "2021-04-11T17:10:13.470608Z"
    }
   },
   "outputs": [
    {
     "data": {
      "text/plain": [
       "0.9261238528744843"
      ]
     },
     "execution_count": 88,
     "metadata": {},
     "output_type": "execute_result"
    }
   ],
   "source": [
    "#Rsquared values for Power transformed data\n",
    "model1.rsquared"
   ]
  },
  {
   "cell_type": "code",
   "execution_count": 89,
   "metadata": {
    "ExecuteTime": {
     "end_time": "2021-04-11T17:10:14.772742Z",
     "start_time": "2021-04-11T17:10:14.739538Z"
    },
    "scrolled": true
   },
   "outputs": [
    {
     "data": {
      "text/html": [
       "<table class=\"simpletable\">\n",
       "<caption>OLS Regression Results</caption>\n",
       "<tr>\n",
       "  <th>Dep. Variable:</th>         <td>Profit</td>      <th>  R-squared:         </th> <td>   0.926</td>\n",
       "</tr>\n",
       "<tr>\n",
       "  <th>Model:</th>                   <td>OLS</td>       <th>  Adj. R-squared:    </th> <td>   0.918</td>\n",
       "</tr>\n",
       "<tr>\n",
       "  <th>Method:</th>             <td>Least Squares</td>  <th>  F-statistic:       </th> <td>   110.3</td>\n",
       "</tr>\n",
       "<tr>\n",
       "  <th>Date:</th>             <td>Sun, 11 Apr 2021</td> <th>  Prob (F-statistic):</th> <td>9.67e-24</td>\n",
       "</tr>\n",
       "<tr>\n",
       "  <th>Time:</th>                 <td>22:40:14</td>     <th>  Log-Likelihood:    </th> <td> -5.8128</td>\n",
       "</tr>\n",
       "<tr>\n",
       "  <th>No. Observations:</th>      <td>    50</td>      <th>  AIC:               </th> <td>   23.63</td>\n",
       "</tr>\n",
       "<tr>\n",
       "  <th>Df Residuals:</th>          <td>    44</td>      <th>  BIC:               </th> <td>   35.10</td>\n",
       "</tr>\n",
       "<tr>\n",
       "  <th>Df Model:</th>              <td>     5</td>      <th>                     </th>     <td> </td>   \n",
       "</tr>\n",
       "<tr>\n",
       "  <th>Covariance Type:</th>      <td>nonrobust</td>    <th>                     </th>     <td> </td>   \n",
       "</tr>\n",
       "</table>\n",
       "<table class=\"simpletable\">\n",
       "<tr>\n",
       "         <td></td>           <th>coef</th>     <th>std err</th>      <th>t</th>      <th>P>|t|</th>  <th>[0.025</th>    <th>0.975]</th>  \n",
       "</tr>\n",
       "<tr>\n",
       "  <th>Intercept</th>      <td>   -0.0084</td> <td>    0.071</td> <td>   -0.119</td> <td> 0.906</td> <td>   -0.151</td> <td>    0.134</td>\n",
       "</tr>\n",
       "<tr>\n",
       "  <th>RDS</th>            <td>    0.9272</td> <td>    0.062</td> <td>   14.890</td> <td> 0.000</td> <td>    0.802</td> <td>    1.053</td>\n",
       "</tr>\n",
       "<tr>\n",
       "  <th>Administration</th> <td>   -0.0340</td> <td>    0.045</td> <td>   -0.761</td> <td> 0.451</td> <td>   -0.124</td> <td>    0.056</td>\n",
       "</tr>\n",
       "<tr>\n",
       "  <th>MS</th>             <td>    0.0602</td> <td>    0.062</td> <td>    0.975</td> <td> 0.335</td> <td>   -0.064</td> <td>    0.185</td>\n",
       "</tr>\n",
       "<tr>\n",
       "  <th>Florida</th>        <td>   -0.0132</td> <td>    0.104</td> <td>   -0.127</td> <td> 0.899</td> <td>   -0.222</td> <td>    0.196</td>\n",
       "</tr>\n",
       "<tr>\n",
       "  <th>NY</th>             <td>    0.0372</td> <td>    0.100</td> <td>    0.372</td> <td> 0.712</td> <td>   -0.165</td> <td>    0.239</td>\n",
       "</tr>\n",
       "</table>\n",
       "<table class=\"simpletable\">\n",
       "<tr>\n",
       "  <th>Omnibus:</th>       <td> 7.209</td> <th>  Durbin-Watson:     </th> <td>   1.003</td>\n",
       "</tr>\n",
       "<tr>\n",
       "  <th>Prob(Omnibus):</th> <td> 0.027</td> <th>  Jarque-Bera (JB):  </th> <td>   6.489</td>\n",
       "</tr>\n",
       "<tr>\n",
       "  <th>Skew:</th>          <td> 0.865</td> <th>  Prob(JB):          </th> <td>  0.0390</td>\n",
       "</tr>\n",
       "<tr>\n",
       "  <th>Kurtosis:</th>      <td> 3.348</td> <th>  Cond. No.          </th> <td>    4.42</td>\n",
       "</tr>\n",
       "</table><br/><br/>Warnings:<br/>[1] Standard Errors assume that the covariance matrix of the errors is correctly specified."
      ],
      "text/plain": [
       "<class 'statsmodels.iolib.summary.Summary'>\n",
       "\"\"\"\n",
       "                            OLS Regression Results                            \n",
       "==============================================================================\n",
       "Dep. Variable:                 Profit   R-squared:                       0.926\n",
       "Model:                            OLS   Adj. R-squared:                  0.918\n",
       "Method:                 Least Squares   F-statistic:                     110.3\n",
       "Date:                Sun, 11 Apr 2021   Prob (F-statistic):           9.67e-24\n",
       "Time:                        22:40:14   Log-Likelihood:                -5.8128\n",
       "No. Observations:                  50   AIC:                             23.63\n",
       "Df Residuals:                      44   BIC:                             35.10\n",
       "Df Model:                           5                                         \n",
       "Covariance Type:            nonrobust                                         \n",
       "==================================================================================\n",
       "                     coef    std err          t      P>|t|      [0.025      0.975]\n",
       "----------------------------------------------------------------------------------\n",
       "Intercept         -0.0084      0.071     -0.119      0.906      -0.151       0.134\n",
       "RDS                0.9272      0.062     14.890      0.000       0.802       1.053\n",
       "Administration    -0.0340      0.045     -0.761      0.451      -0.124       0.056\n",
       "MS                 0.0602      0.062      0.975      0.335      -0.064       0.185\n",
       "Florida           -0.0132      0.104     -0.127      0.899      -0.222       0.196\n",
       "NY                 0.0372      0.100      0.372      0.712      -0.165       0.239\n",
       "==============================================================================\n",
       "Omnibus:                        7.209   Durbin-Watson:                   1.003\n",
       "Prob(Omnibus):                  0.027   Jarque-Bera (JB):                6.489\n",
       "Skew:                           0.865   Prob(JB):                       0.0390\n",
       "Kurtosis:                       3.348   Cond. No.                         4.42\n",
       "==============================================================================\n",
       "\n",
       "Warnings:\n",
       "[1] Standard Errors assume that the covariance matrix of the errors is correctly specified.\n",
       "\"\"\""
      ]
     },
     "execution_count": 89,
     "metadata": {},
     "output_type": "execute_result"
    }
   ],
   "source": [
    "model1.summary()"
   ]
  },
  {
   "cell_type": "markdown",
   "metadata": {},
   "source": [
    "### Applying Quantile Transformation"
   ]
  },
  {
   "cell_type": "code",
   "execution_count": 90,
   "metadata": {
    "ExecuteTime": {
     "end_time": "2021-04-11T17:11:06.532456Z",
     "start_time": "2021-04-11T17:11:06.505975Z"
    }
   },
   "outputs": [
    {
     "data": {
      "text/html": [
       "<div>\n",
       "<style scoped>\n",
       "    .dataframe tbody tr th:only-of-type {\n",
       "        vertical-align: middle;\n",
       "    }\n",
       "\n",
       "    .dataframe tbody tr th {\n",
       "        vertical-align: top;\n",
       "    }\n",
       "\n",
       "    .dataframe thead th {\n",
       "        text-align: right;\n",
       "    }\n",
       "</style>\n",
       "<table border=\"1\" class=\"dataframe\">\n",
       "  <thead>\n",
       "    <tr style=\"text-align: right;\">\n",
       "      <th></th>\n",
       "      <th>RDS</th>\n",
       "      <th>Administration</th>\n",
       "      <th>MS</th>\n",
       "      <th>Profit</th>\n",
       "      <th>Florida</th>\n",
       "      <th>NY</th>\n",
       "    </tr>\n",
       "  </thead>\n",
       "  <tbody>\n",
       "    <tr>\n",
       "      <th>0</th>\n",
       "      <td>165349.20</td>\n",
       "      <td>136897.80</td>\n",
       "      <td>471784.10</td>\n",
       "      <td>192261.83</td>\n",
       "      <td>0</td>\n",
       "      <td>1</td>\n",
       "    </tr>\n",
       "    <tr>\n",
       "      <th>1</th>\n",
       "      <td>162597.70</td>\n",
       "      <td>151377.59</td>\n",
       "      <td>443898.53</td>\n",
       "      <td>191792.06</td>\n",
       "      <td>0</td>\n",
       "      <td>0</td>\n",
       "    </tr>\n",
       "    <tr>\n",
       "      <th>2</th>\n",
       "      <td>153441.51</td>\n",
       "      <td>101145.55</td>\n",
       "      <td>407934.54</td>\n",
       "      <td>191050.39</td>\n",
       "      <td>1</td>\n",
       "      <td>0</td>\n",
       "    </tr>\n",
       "    <tr>\n",
       "      <th>3</th>\n",
       "      <td>144372.41</td>\n",
       "      <td>118671.85</td>\n",
       "      <td>383199.62</td>\n",
       "      <td>182901.99</td>\n",
       "      <td>0</td>\n",
       "      <td>1</td>\n",
       "    </tr>\n",
       "    <tr>\n",
       "      <th>4</th>\n",
       "      <td>142107.34</td>\n",
       "      <td>91391.77</td>\n",
       "      <td>366168.42</td>\n",
       "      <td>166187.94</td>\n",
       "      <td>1</td>\n",
       "      <td>0</td>\n",
       "    </tr>\n",
       "  </tbody>\n",
       "</table>\n",
       "</div>"
      ],
      "text/plain": [
       "         RDS  Administration         MS     Profit  Florida  NY\n",
       "0  165349.20       136897.80  471784.10  192261.83        0   1\n",
       "1  162597.70       151377.59  443898.53  191792.06        0   0\n",
       "2  153441.51       101145.55  407934.54  191050.39        1   0\n",
       "3  144372.41       118671.85  383199.62  182901.99        0   1\n",
       "4  142107.34        91391.77  366168.42  166187.94        1   0"
      ]
     },
     "execution_count": 90,
     "metadata": {},
     "output_type": "execute_result"
    }
   ],
   "source": [
    "renameddata2=cdata.rename(columns={\"R&D Spend\":\"RDS\",\"Marketing Spend\":\"MS\",\"New York\":\"NY\"})\n",
    "renameddata2.head()"
   ]
  },
  {
   "cell_type": "code",
   "execution_count": 91,
   "metadata": {
    "ExecuteTime": {
     "end_time": "2021-04-11T17:11:11.307296Z",
     "start_time": "2021-04-11T17:11:11.258720Z"
    }
   },
   "outputs": [
    {
     "name": "stderr",
     "output_type": "stream",
     "text": [
      "C:\\Users\\Public\\anacon\\lib\\site-packages\\sklearn\\preprocessing\\_data.py:2354: UserWarning: n_quantiles (1000) is greater than the total number of samples (50). n_quantiles is set to n_samples.\n",
      "  warnings.warn(\"n_quantiles (%s) is greater than the total number \"\n"
     ]
    },
    {
     "data": {
      "text/html": [
       "<div>\n",
       "<style scoped>\n",
       "    .dataframe tbody tr th:only-of-type {\n",
       "        vertical-align: middle;\n",
       "    }\n",
       "\n",
       "    .dataframe tbody tr th {\n",
       "        vertical-align: top;\n",
       "    }\n",
       "\n",
       "    .dataframe thead th {\n",
       "        text-align: right;\n",
       "    }\n",
       "</style>\n",
       "<table border=\"1\" class=\"dataframe\">\n",
       "  <thead>\n",
       "    <tr style=\"text-align: right;\">\n",
       "      <th></th>\n",
       "      <th>RDS</th>\n",
       "      <th>Administration</th>\n",
       "      <th>MS</th>\n",
       "      <th>Profit</th>\n",
       "      <th>Florida</th>\n",
       "      <th>NY</th>\n",
       "    </tr>\n",
       "  </thead>\n",
       "  <tbody>\n",
       "    <tr>\n",
       "      <th>0</th>\n",
       "      <td>1.000000</td>\n",
       "      <td>0.693878</td>\n",
       "      <td>1.000000</td>\n",
       "      <td>1.000000</td>\n",
       "      <td>0.0</td>\n",
       "      <td>1.0</td>\n",
       "    </tr>\n",
       "    <tr>\n",
       "      <th>1</th>\n",
       "      <td>0.979592</td>\n",
       "      <td>0.836735</td>\n",
       "      <td>0.979592</td>\n",
       "      <td>0.979592</td>\n",
       "      <td>0.0</td>\n",
       "      <td>0.0</td>\n",
       "    </tr>\n",
       "    <tr>\n",
       "      <th>2</th>\n",
       "      <td>0.959184</td>\n",
       "      <td>0.224490</td>\n",
       "      <td>0.959184</td>\n",
       "      <td>0.959184</td>\n",
       "      <td>1.0</td>\n",
       "      <td>0.0</td>\n",
       "    </tr>\n",
       "    <tr>\n",
       "      <th>3</th>\n",
       "      <td>0.938776</td>\n",
       "      <td>0.448980</td>\n",
       "      <td>0.938776</td>\n",
       "      <td>0.938776</td>\n",
       "      <td>0.0</td>\n",
       "      <td>1.0</td>\n",
       "    </tr>\n",
       "    <tr>\n",
       "      <th>4</th>\n",
       "      <td>0.918367</td>\n",
       "      <td>0.122449</td>\n",
       "      <td>0.918367</td>\n",
       "      <td>0.918367</td>\n",
       "      <td>1.0</td>\n",
       "      <td>0.0</td>\n",
       "    </tr>\n",
       "  </tbody>\n",
       "</table>\n",
       "</div>"
      ],
      "text/plain": [
       "        RDS  Administration        MS    Profit  Florida   NY\n",
       "0  1.000000        0.693878  1.000000  1.000000      0.0  1.0\n",
       "1  0.979592        0.836735  0.979592  0.979592      0.0  0.0\n",
       "2  0.959184        0.224490  0.959184  0.959184      1.0  0.0\n",
       "3  0.938776        0.448980  0.938776  0.938776      0.0  1.0\n",
       "4  0.918367        0.122449  0.918367  0.918367      1.0  0.0"
      ]
     },
     "execution_count": 91,
     "metadata": {},
     "output_type": "execute_result"
    }
   ],
   "source": [
    "from sklearn.preprocessing import QuantileTransformer\n",
    "qt = QuantileTransformer(random_state=0)\n",
    "qtdf = qt.fit_transform(renameddata2)\n",
    "qtdf = qt.transform(renameddata2)\n",
    "df_qtdata = pd.DataFrame(data=qtdf, columns=['RDS','Administration','MS','Profit','Florida','NY'])\n",
    "df_qtdata.head()"
   ]
  },
  {
   "cell_type": "code",
   "execution_count": 92,
   "metadata": {
    "ExecuteTime": {
     "end_time": "2021-04-11T17:11:14.199716Z",
     "start_time": "2021-04-11T17:11:14.145895Z"
    }
   },
   "outputs": [],
   "source": [
    "model2=smf.ols('Profit~RDS+Administration+MS+Florida+NY',data=df_qtdata).fit()"
   ]
  },
  {
   "cell_type": "code",
   "execution_count": 93,
   "metadata": {
    "ExecuteTime": {
     "end_time": "2021-04-11T17:11:15.274794Z",
     "start_time": "2021-04-11T17:11:14.691450Z"
    },
    "scrolled": true
   },
   "outputs": [
    {
     "data": {
      "image/png": "[encoded data removed]",
      "text/plain": [
       "<Figure size 432x288 with 1 Axes>"
      ]
     },
     "metadata": {},
     "output_type": "display_data"
    }
   ],
   "source": [
    "import matplotlib.pyplot as plt\n",
    "import statsmodels.api as sm\n",
    "qqplot=sm.qqplot(model2.resid,line='q')\n",
    "plt.title(\"Normal Q-Q plot of residuals\")\n",
    "plt.show()"
   ]
  },
  {
   "cell_type": "markdown",
   "metadata": {},
   "source": [
    "### Prediction\n"
   ]
  },
  {
   "cell_type": "code",
   "execution_count": 94,
   "metadata": {
    "ExecuteTime": {
     "end_time": "2021-04-11T17:11:24.428101Z",
     "start_time": "2021-04-11T17:11:24.383250Z"
    }
   },
   "outputs": [
    {
     "data": {
      "text/plain": [
       "0     0.990379\n",
       "1     0.981483\n",
       "2     0.965330\n",
       "3     0.932541\n",
       "4     0.925919\n",
       "5     0.875303\n",
       "6     0.881170\n",
       "7     0.855575\n",
       "8     0.805528\n",
       "9     0.845642\n",
       "10    0.753425\n",
       "11    0.740746\n",
       "12    0.691484\n",
       "13    0.675110\n",
       "14    0.786364\n",
       "15    0.764438\n",
       "16    0.600491\n",
       "17    0.702498\n",
       "18    0.658582\n",
       "19    0.601428\n",
       "20    0.565251\n",
       "21    0.603547\n",
       "22    0.520000\n",
       "23    0.484379\n",
       "24    0.560935\n",
       "25    0.407929\n",
       "26    0.521677\n",
       "27    0.492519\n",
       "28    0.437518\n",
       "29    0.409560\n",
       "30    0.365864\n",
       "31    0.329380\n",
       "32    0.385047\n",
       "33    0.337546\n",
       "34    0.311161\n",
       "35    0.289455\n",
       "36    0.212587\n",
       "37    0.283369\n",
       "38    0.129980\n",
       "39    0.261500\n",
       "40    0.235968\n",
       "41    0.196305\n",
       "42    0.179014\n",
       "43    0.093484\n",
       "44    0.141193\n",
       "45    0.053504\n",
       "46    0.103772\n",
       "47    0.004059\n",
       "48    0.038991\n",
       "49    0.011073\n",
       "dtype: float64"
      ]
     },
     "execution_count": 94,
     "metadata": {},
     "output_type": "execute_result"
    }
   ],
   "source": [
    "model2.predict(df_qtdata)"
   ]
  },
  {
   "cell_type": "code",
   "execution_count": 95,
   "metadata": {
    "ExecuteTime": {
     "end_time": "2021-04-11T17:11:27.570879Z",
     "start_time": "2021-04-11T17:11:27.558231Z"
    }
   },
   "outputs": [
    {
     "data": {
      "text/plain": [
       "0.9809278743307759"
      ]
     },
     "execution_count": 95,
     "metadata": {},
     "output_type": "execute_result"
    }
   ],
   "source": [
    "model2.rsquared"
   ]
  },
  {
   "cell_type": "code",
   "execution_count": 96,
   "metadata": {
    "ExecuteTime": {
     "end_time": "2021-04-11T17:12:21.392292Z",
     "start_time": "2021-04-11T17:12:21.360499Z"
    },
    "scrolled": true
   },
   "outputs": [
    {
     "data": {
      "text/html": [
       "<div>\n",
       "<style scoped>\n",
       "    .dataframe tbody tr th:only-of-type {\n",
       "        vertical-align: middle;\n",
       "    }\n",
       "\n",
       "    .dataframe tbody tr th {\n",
       "        vertical-align: top;\n",
       "    }\n",
       "\n",
       "    .dataframe thead th {\n",
       "        text-align: right;\n",
       "    }\n",
       "</style>\n",
       "<table border=\"1\" class=\"dataframe\">\n",
       "  <thead>\n",
       "    <tr style=\"text-align: right;\">\n",
       "      <th></th>\n",
       "      <th>RDS</th>\n",
       "      <th>Administration</th>\n",
       "      <th>MS</th>\n",
       "      <th>Profit</th>\n",
       "      <th>Florida</th>\n",
       "      <th>NY</th>\n",
       "    </tr>\n",
       "  </thead>\n",
       "  <tbody>\n",
       "    <tr>\n",
       "      <th>0</th>\n",
       "      <td>165349.20</td>\n",
       "      <td>136897.80</td>\n",
       "      <td>471784.10</td>\n",
       "      <td>192261.83</td>\n",
       "      <td>0</td>\n",
       "      <td>1</td>\n",
       "    </tr>\n",
       "    <tr>\n",
       "      <th>1</th>\n",
       "      <td>162597.70</td>\n",
       "      <td>151377.59</td>\n",
       "      <td>443898.53</td>\n",
       "      <td>191792.06</td>\n",
       "      <td>0</td>\n",
       "      <td>0</td>\n",
       "    </tr>\n",
       "    <tr>\n",
       "      <th>2</th>\n",
       "      <td>153441.51</td>\n",
       "      <td>101145.55</td>\n",
       "      <td>407934.54</td>\n",
       "      <td>191050.39</td>\n",
       "      <td>1</td>\n",
       "      <td>0</td>\n",
       "    </tr>\n",
       "    <tr>\n",
       "      <th>3</th>\n",
       "      <td>144372.41</td>\n",
       "      <td>118671.85</td>\n",
       "      <td>383199.62</td>\n",
       "      <td>182901.99</td>\n",
       "      <td>0</td>\n",
       "      <td>1</td>\n",
       "    </tr>\n",
       "    <tr>\n",
       "      <th>4</th>\n",
       "      <td>142107.34</td>\n",
       "      <td>91391.77</td>\n",
       "      <td>366168.42</td>\n",
       "      <td>166187.94</td>\n",
       "      <td>1</td>\n",
       "      <td>0</td>\n",
       "    </tr>\n",
       "  </tbody>\n",
       "</table>\n",
       "</div>"
      ],
      "text/plain": [
       "         RDS  Administration         MS     Profit  Florida  NY\n",
       "0  165349.20       136897.80  471784.10  192261.83        0   1\n",
       "1  162597.70       151377.59  443898.53  191792.06        0   0\n",
       "2  153441.51       101145.55  407934.54  191050.39        1   0\n",
       "3  144372.41       118671.85  383199.62  182901.99        0   1\n",
       "4  142107.34        91391.77  366168.42  166187.94        1   0"
      ]
     },
     "execution_count": 96,
     "metadata": {},
     "output_type": "execute_result"
    }
   ],
   "source": [
    "renameddata3=cdata.rename(columns={\"R&D Spend\":\"RDS\",\"Marketing Spend\":\"MS\",\"New York\":\"NY\"})\n",
    "renameddata3.head()"
   ]
  },
  {
   "cell_type": "markdown",
   "metadata": {},
   "source": [
    "### Applying Logarithmic Transformation"
   ]
  },
  {
   "cell_type": "code",
   "execution_count": 97,
   "metadata": {
    "ExecuteTime": {
     "end_time": "2021-04-11T17:12:40.998961Z",
     "start_time": "2021-04-11T17:12:40.952536Z"
    }
   },
   "outputs": [],
   "source": [
    "logdata=renameddata3[['RDS','Administration','MS','Profit']].apply(np.log)"
   ]
  },
  {
   "cell_type": "code",
   "execution_count": 99,
   "metadata": {
    "ExecuteTime": {
     "end_time": "2021-04-11T17:13:10.154492Z",
     "start_time": "2021-04-11T17:13:10.132459Z"
    }
   },
   "outputs": [],
   "source": [
    "logdata=pd.concat([logdata,state],axis=1)"
   ]
  },
  {
   "cell_type": "code",
   "execution_count": 103,
   "metadata": {
    "ExecuteTime": {
     "end_time": "2021-04-11T17:13:56.861562Z",
     "start_time": "2021-04-11T17:13:56.815433Z"
    },
    "scrolled": false
   },
   "outputs": [
    {
     "data": {
      "text/html": [
       "<div>\n",
       "<style scoped>\n",
       "    .dataframe tbody tr th:only-of-type {\n",
       "        vertical-align: middle;\n",
       "    }\n",
       "\n",
       "    .dataframe tbody tr th {\n",
       "        vertical-align: top;\n",
       "    }\n",
       "\n",
       "    .dataframe thead th {\n",
       "        text-align: right;\n",
       "    }\n",
       "</style>\n",
       "<table border=\"1\" class=\"dataframe\">\n",
       "  <thead>\n",
       "    <tr style=\"text-align: right;\">\n",
       "      <th></th>\n",
       "      <th>RDS</th>\n",
       "      <th>Administration</th>\n",
       "      <th>MS</th>\n",
       "      <th>Profit</th>\n",
       "      <th>Florida</th>\n",
       "      <th>NY</th>\n",
       "    </tr>\n",
       "  </thead>\n",
       "  <tbody>\n",
       "    <tr>\n",
       "      <th>0</th>\n",
       "      <td>12.015815</td>\n",
       "      <td>11.826990</td>\n",
       "      <td>13.064277</td>\n",
       "      <td>12.166613</td>\n",
       "      <td>0</td>\n",
       "      <td>1</td>\n",
       "    </tr>\n",
       "    <tr>\n",
       "      <th>1</th>\n",
       "      <td>11.999034</td>\n",
       "      <td>11.927533</td>\n",
       "      <td>13.003351</td>\n",
       "      <td>12.164167</td>\n",
       "      <td>0</td>\n",
       "      <td>0</td>\n",
       "    </tr>\n",
       "    <tr>\n",
       "      <th>2</th>\n",
       "      <td>11.941075</td>\n",
       "      <td>11.524316</td>\n",
       "      <td>12.918862</td>\n",
       "      <td>12.160292</td>\n",
       "      <td>1</td>\n",
       "      <td>0</td>\n",
       "    </tr>\n",
       "    <tr>\n",
       "      <th>3</th>\n",
       "      <td>11.880151</td>\n",
       "      <td>11.684117</td>\n",
       "      <td>12.856311</td>\n",
       "      <td>12.116706</td>\n",
       "      <td>0</td>\n",
       "      <td>1</td>\n",
       "    </tr>\n",
       "    <tr>\n",
       "      <th>4</th>\n",
       "      <td>11.864338</td>\n",
       "      <td>11.422911</td>\n",
       "      <td>12.810849</td>\n",
       "      <td>12.020875</td>\n",
       "      <td>1</td>\n",
       "      <td>0</td>\n",
       "    </tr>\n",
       "    <tr>\n",
       "      <th>5</th>\n",
       "      <td>11.789624</td>\n",
       "      <td>11.511071</td>\n",
       "      <td>12.801776</td>\n",
       "      <td>11.963945</td>\n",
       "      <td>0</td>\n",
       "      <td>1</td>\n",
       "    </tr>\n",
       "    <tr>\n",
       "      <th>6</th>\n",
       "      <td>11.810178</td>\n",
       "      <td>11.899540</td>\n",
       "      <td>11.757571</td>\n",
       "      <td>11.958396</td>\n",
       "      <td>0</td>\n",
       "      <td>0</td>\n",
       "    </tr>\n",
       "    <tr>\n",
       "      <th>7</th>\n",
       "      <td>11.777580</td>\n",
       "      <td>11.888138</td>\n",
       "      <td>12.688118</td>\n",
       "      <td>11.956024</td>\n",
       "      <td>1</td>\n",
       "      <td>0</td>\n",
       "    </tr>\n",
       "    <tr>\n",
       "      <th>8</th>\n",
       "      <td>11.699758</td>\n",
       "      <td>11.909814</td>\n",
       "      <td>12.649518</td>\n",
       "      <td>11.933028</td>\n",
       "      <td>0</td>\n",
       "      <td>1</td>\n",
       "    </tr>\n",
       "    <tr>\n",
       "      <th>9</th>\n",
       "      <td>11.722659</td>\n",
       "      <td>11.596155</td>\n",
       "      <td>12.628007</td>\n",
       "      <td>11.916789</td>\n",
       "      <td>0</td>\n",
       "      <td>0</td>\n",
       "    </tr>\n",
       "    <tr>\n",
       "      <th>10</th>\n",
       "      <td>11.531876</td>\n",
       "      <td>11.613622</td>\n",
       "      <td>12.342180</td>\n",
       "      <td>11.892197</td>\n",
       "      <td>1</td>\n",
       "      <td>0</td>\n",
       "    </tr>\n",
       "    <tr>\n",
       "      <th>11</th>\n",
       "      <td>11.519623</td>\n",
       "      <td>11.427265</td>\n",
       "      <td>12.428194</td>\n",
       "      <td>11.879368</td>\n",
       "      <td>0</td>\n",
       "      <td>0</td>\n",
       "    </tr>\n",
       "    <tr>\n",
       "      <th>12</th>\n",
       "      <td>11.449600</td>\n",
       "      <td>11.754462</td>\n",
       "      <td>12.428574</td>\n",
       "      <td>11.860659</td>\n",
       "      <td>1</td>\n",
       "      <td>0</td>\n",
       "    </tr>\n",
       "    <tr>\n",
       "      <th>13</th>\n",
       "      <td>11.429461</td>\n",
       "      <td>11.816691</td>\n",
       "      <td>12.439820</td>\n",
       "      <td>11.807886</td>\n",
       "      <td>0</td>\n",
       "      <td>0</td>\n",
       "    </tr>\n",
       "    <tr>\n",
       "      <th>14</th>\n",
       "      <td>11.694774</td>\n",
       "      <td>11.961114</td>\n",
       "      <td>12.454934</td>\n",
       "      <td>11.795112</td>\n",
       "      <td>1</td>\n",
       "      <td>0</td>\n",
       "    </tr>\n",
       "    <tr>\n",
       "      <th>15</th>\n",
       "      <td>11.648536</td>\n",
       "      <td>11.716820</td>\n",
       "      <td>12.475245</td>\n",
       "      <td>11.774651</td>\n",
       "      <td>0</td>\n",
       "      <td>1</td>\n",
       "    </tr>\n",
       "    <tr>\n",
       "      <th>16</th>\n",
       "      <td>11.264632</td>\n",
       "      <td>11.708472</td>\n",
       "      <td>12.485014</td>\n",
       "      <td>11.751887</td>\n",
       "      <td>0</td>\n",
       "      <td>0</td>\n",
       "    </tr>\n",
       "    <tr>\n",
       "      <th>17</th>\n",
       "      <td>11.458017</td>\n",
       "      <td>11.885024</td>\n",
       "      <td>12.551697</td>\n",
       "      <td>11.739028</td>\n",
       "      <td>0</td>\n",
       "      <td>1</td>\n",
       "    </tr>\n",
       "    <tr>\n",
       "      <th>18</th>\n",
       "      <td>11.426814</td>\n",
       "      <td>11.645495</td>\n",
       "      <td>12.594458</td>\n",
       "      <td>11.730187</td>\n",
       "      <td>1</td>\n",
       "      <td>0</td>\n",
       "    </tr>\n",
       "    <tr>\n",
       "      <th>19</th>\n",
       "      <td>11.366971</td>\n",
       "      <td>11.941548</td>\n",
       "      <td>-inf</td>\n",
       "      <td>11.718124</td>\n",
       "      <td>0</td>\n",
       "      <td>1</td>\n",
       "    </tr>\n",
       "    <tr>\n",
       "      <th>20</th>\n",
       "      <td>11.241823</td>\n",
       "      <td>11.642789</td>\n",
       "      <td>12.607076</td>\n",
       "      <td>11.682449</td>\n",
       "      <td>0</td>\n",
       "      <td>0</td>\n",
       "    </tr>\n",
       "    <tr>\n",
       "      <th>21</th>\n",
       "      <td>11.269445</td>\n",
       "      <td>11.943236</td>\n",
       "      <td>12.610662</td>\n",
       "      <td>11.620102</td>\n",
       "      <td>0</td>\n",
       "      <td>1</td>\n",
       "    </tr>\n",
       "    <tr>\n",
       "      <th>22</th>\n",
       "      <td>11.211747</td>\n",
       "      <td>11.718172</td>\n",
       "      <td>12.622541</td>\n",
       "      <td>11.611433</td>\n",
       "      <td>1</td>\n",
       "      <td>0</td>\n",
       "    </tr>\n",
       "    <tr>\n",
       "      <th>23</th>\n",
       "      <td>11.120365</td>\n",
       "      <td>11.568843</td>\n",
       "      <td>12.627309</td>\n",
       "      <td>11.596660</td>\n",
       "      <td>1</td>\n",
       "      <td>0</td>\n",
       "    </tr>\n",
       "    <tr>\n",
       "      <th>24</th>\n",
       "      <td>11.252132</td>\n",
       "      <td>11.505713</td>\n",
       "      <td>11.853495</td>\n",
       "      <td>11.594985</td>\n",
       "      <td>0</td>\n",
       "      <td>1</td>\n",
       "    </tr>\n",
       "    <tr>\n",
       "      <th>25</th>\n",
       "      <td>11.076971</td>\n",
       "      <td>11.846201</td>\n",
       "      <td>11.834738</td>\n",
       "      <td>11.584356</td>\n",
       "      <td>0</td>\n",
       "      <td>0</td>\n",
       "    </tr>\n",
       "    <tr>\n",
       "      <th>26</th>\n",
       "      <td>11.229619</td>\n",
       "      <td>11.878512</td>\n",
       "      <td>11.805969</td>\n",
       "      <td>11.568677</td>\n",
       "      <td>1</td>\n",
       "      <td>0</td>\n",
       "    </tr>\n",
       "    <tr>\n",
       "      <th>27</th>\n",
       "      <td>11.185915</td>\n",
       "      <td>11.758727</td>\n",
       "      <td>12.774744</td>\n",
       "      <td>11.561795</td>\n",
       "      <td>0</td>\n",
       "      <td>1</td>\n",
       "    </tr>\n",
       "    <tr>\n",
       "      <th>28</th>\n",
       "      <td>11.098190</td>\n",
       "      <td>12.115303</td>\n",
       "      <td>11.679695</td>\n",
       "      <td>11.545222</td>\n",
       "      <td>1</td>\n",
       "      <td>0</td>\n",
       "    </tr>\n",
       "    <tr>\n",
       "      <th>29</th>\n",
       "      <td>11.091415</td>\n",
       "      <td>11.938403</td>\n",
       "      <td>11.581877</td>\n",
       "      <td>11.522922</td>\n",
       "      <td>0</td>\n",
       "      <td>1</td>\n",
       "    </tr>\n",
       "    <tr>\n",
       "      <th>30</th>\n",
       "      <td>11.034801</td>\n",
       "      <td>11.658248</td>\n",
       "      <td>11.420056</td>\n",
       "      <td>11.512301</td>\n",
       "      <td>1</td>\n",
       "      <td>0</td>\n",
       "    </tr>\n",
       "    <tr>\n",
       "      <th>31</th>\n",
       "      <td>11.020862</td>\n",
       "      <td>11.936243</td>\n",
       "      <td>11.387569</td>\n",
       "      <td>11.487439</td>\n",
       "      <td>0</td>\n",
       "      <td>1</td>\n",
       "    </tr>\n",
       "    <tr>\n",
       "      <th>32</th>\n",
       "      <td>11.057359</td>\n",
       "      <td>11.769269</td>\n",
       "      <td>10.738248</td>\n",
       "      <td>11.486867</td>\n",
       "      <td>0</td>\n",
       "      <td>0</td>\n",
       "    </tr>\n",
       "    <tr>\n",
       "      <th>33</th>\n",
       "      <td>10.924029</td>\n",
       "      <td>11.543042</td>\n",
       "      <td>12.276693</td>\n",
       "      <td>11.480184</td>\n",
       "      <td>1</td>\n",
       "      <td>0</td>\n",
       "    </tr>\n",
       "    <tr>\n",
       "      <th>34</th>\n",
       "      <td>10.745616</td>\n",
       "      <td>11.968411</td>\n",
       "      <td>12.258654</td>\n",
       "      <td>11.479501</td>\n",
       "      <td>0</td>\n",
       "      <td>0</td>\n",
       "    </tr>\n",
       "    <tr>\n",
       "      <th>35</th>\n",
       "      <td>10.736701</td>\n",
       "      <td>11.350964</td>\n",
       "      <td>12.233287</td>\n",
       "      <td>11.477086</td>\n",
       "      <td>0</td>\n",
       "      <td>1</td>\n",
       "    </tr>\n",
       "    <tr>\n",
       "      <th>36</th>\n",
       "      <td>10.263389</td>\n",
       "      <td>11.752385</td>\n",
       "      <td>12.211691</td>\n",
       "      <td>11.415403</td>\n",
       "      <td>1</td>\n",
       "      <td>0</td>\n",
       "    </tr>\n",
       "    <tr>\n",
       "      <th>37</th>\n",
       "      <td>10.693533</td>\n",
       "      <td>10.845117</td>\n",
       "      <td>12.191108</td>\n",
       "      <td>11.407000</td>\n",
       "      <td>0</td>\n",
       "      <td>0</td>\n",
       "    </tr>\n",
       "    <tr>\n",
       "      <th>38</th>\n",
       "      <td>9.914902</td>\n",
       "      <td>11.096621</td>\n",
       "      <td>12.129543</td>\n",
       "      <td>11.305028</td>\n",
       "      <td>0</td>\n",
       "      <td>1</td>\n",
       "    </tr>\n",
       "    <tr>\n",
       "      <th>39</th>\n",
       "      <td>10.559932</td>\n",
       "      <td>11.326380</td>\n",
       "      <td>12.072537</td>\n",
       "      <td>11.302276</td>\n",
       "      <td>0</td>\n",
       "      <td>0</td>\n",
       "    </tr>\n",
       "    <tr>\n",
       "      <th>40</th>\n",
       "      <td>10.266544</td>\n",
       "      <td>11.683057</td>\n",
       "      <td>12.059865</td>\n",
       "      <td>11.267535</td>\n",
       "      <td>0</td>\n",
       "      <td>0</td>\n",
       "    </tr>\n",
       "    <tr>\n",
       "      <th>41</th>\n",
       "      <td>10.236128</td>\n",
       "      <td>11.346998</td>\n",
       "      <td>12.010488</td>\n",
       "      <td>11.261882</td>\n",
       "      <td>1</td>\n",
       "      <td>0</td>\n",
       "    </tr>\n",
       "    <tr>\n",
       "      <th>42</th>\n",
       "      <td>10.070735</td>\n",
       "      <td>11.474077</td>\n",
       "      <td>11.904975</td>\n",
       "      <td>11.177432</td>\n",
       "      <td>0</td>\n",
       "      <td>0</td>\n",
       "    </tr>\n",
       "    <tr>\n",
       "      <th>43</th>\n",
       "      <td>9.648965</td>\n",
       "      <td>11.754948</td>\n",
       "      <td>10.478250</td>\n",
       "      <td>11.152801</td>\n",
       "      <td>0</td>\n",
       "      <td>1</td>\n",
       "    </tr>\n",
       "    <tr>\n",
       "      <th>44</th>\n",
       "      <td>10.006844</td>\n",
       "      <td>11.949929</td>\n",
       "      <td>10.251843</td>\n",
       "      <td>11.085220</td>\n",
       "      <td>0</td>\n",
       "      <td>0</td>\n",
       "    </tr>\n",
       "    <tr>\n",
       "      <th>45</th>\n",
       "      <td>6.907985</td>\n",
       "      <td>11.729270</td>\n",
       "      <td>7.551675</td>\n",
       "      <td>11.081005</td>\n",
       "      <td>0</td>\n",
       "      <td>1</td>\n",
       "    </tr>\n",
       "    <tr>\n",
       "      <th>46</th>\n",
       "      <td>7.181942</td>\n",
       "      <td>11.659760</td>\n",
       "      <td>12.601873</td>\n",
       "      <td>10.809541</td>\n",
       "      <td>1</td>\n",
       "      <td>0</td>\n",
       "    </tr>\n",
       "    <tr>\n",
       "      <th>47</th>\n",
       "      <td>-inf</td>\n",
       "      <td>11.816187</td>\n",
       "      <td>-inf</td>\n",
       "      <td>10.658664</td>\n",
       "      <td>0</td>\n",
       "      <td>0</td>\n",
       "    </tr>\n",
       "    <tr>\n",
       "      <th>48</th>\n",
       "      <td>6.295358</td>\n",
       "      <td>10.854047</td>\n",
       "      <td>-inf</td>\n",
       "      <td>10.482161</td>\n",
       "      <td>0</td>\n",
       "      <td>1</td>\n",
       "    </tr>\n",
       "    <tr>\n",
       "      <th>49</th>\n",
       "      <td>-inf</td>\n",
       "      <td>11.669791</td>\n",
       "      <td>10.718256</td>\n",
       "      <td>9.594337</td>\n",
       "      <td>0</td>\n",
       "      <td>0</td>\n",
       "    </tr>\n",
       "  </tbody>\n",
       "</table>\n",
       "</div>"
      ],
      "text/plain": [
       "          RDS  Administration         MS     Profit  Florida  NY\n",
       "0   12.015815       11.826990  13.064277  12.166613        0   1\n",
       "1   11.999034       11.927533  13.003351  12.164167        0   0\n",
       "2   11.941075       11.524316  12.918862  12.160292        1   0\n",
       "3   11.880151       11.684117  12.856311  12.116706        0   1\n",
       "4   11.864338       11.422911  12.810849  12.020875        1   0\n",
       "5   11.789624       11.511071  12.801776  11.963945        0   1\n",
       "6   11.810178       11.899540  11.757571  11.958396        0   0\n",
       "7   11.777580       11.888138  12.688118  11.956024        1   0\n",
       "8   11.699758       11.909814  12.649518  11.933028        0   1\n",
       "9   11.722659       11.596155  12.628007  11.916789        0   0\n",
       "10  11.531876       11.613622  12.342180  11.892197        1   0\n",
       "11  11.519623       11.427265  12.428194  11.879368        0   0\n",
       "12  11.449600       11.754462  12.428574  11.860659        1   0\n",
       "13  11.429461       11.816691  12.439820  11.807886        0   0\n",
       "14  11.694774       11.961114  12.454934  11.795112        1   0\n",
       "15  11.648536       11.716820  12.475245  11.774651        0   1\n",
       "16  11.264632       11.708472  12.485014  11.751887        0   0\n",
       "17  11.458017       11.885024  12.551697  11.739028        0   1\n",
       "18  11.426814       11.645495  12.594458  11.730187        1   0\n",
       "19  11.366971       11.941548       -inf  11.718124        0   1\n",
       "20  11.241823       11.642789  12.607076  11.682449        0   0\n",
       "21  11.269445       11.943236  12.610662  11.620102        0   1\n",
       "22  11.211747       11.718172  12.622541  11.611433        1   0\n",
       "23  11.120365       11.568843  12.627309  11.596660        1   0\n",
       "24  11.252132       11.505713  11.853495  11.594985        0   1\n",
       "25  11.076971       11.846201  11.834738  11.584356        0   0\n",
       "26  11.229619       11.878512  11.805969  11.568677        1   0\n",
       "27  11.185915       11.758727  12.774744  11.561795        0   1\n",
       "28  11.098190       12.115303  11.679695  11.545222        1   0\n",
       "29  11.091415       11.938403  11.581877  11.522922        0   1\n",
       "30  11.034801       11.658248  11.420056  11.512301        1   0\n",
       "31  11.020862       11.936243  11.387569  11.487439        0   1\n",
       "32  11.057359       11.769269  10.738248  11.486867        0   0\n",
       "33  10.924029       11.543042  12.276693  11.480184        1   0\n",
       "34  10.745616       11.968411  12.258654  11.479501        0   0\n",
       "35  10.736701       11.350964  12.233287  11.477086        0   1\n",
       "36  10.263389       11.752385  12.211691  11.415403        1   0\n",
       "37  10.693533       10.845117  12.191108  11.407000        0   0\n",
       "38   9.914902       11.096621  12.129543  11.305028        0   1\n",
       "39  10.559932       11.326380  12.072537  11.302276        0   0\n",
       "40  10.266544       11.683057  12.059865  11.267535        0   0\n",
       "41  10.236128       11.346998  12.010488  11.261882        1   0\n",
       "42  10.070735       11.474077  11.904975  11.177432        0   0\n",
       "43   9.648965       11.754948  10.478250  11.152801        0   1\n",
       "44  10.006844       11.949929  10.251843  11.085220        0   0\n",
       "45   6.907985       11.729270   7.551675  11.081005        0   1\n",
       "46   7.181942       11.659760  12.601873  10.809541        1   0\n",
       "47       -inf       11.816187       -inf  10.658664        0   0\n",
       "48   6.295358       10.854047       -inf  10.482161        0   1\n",
       "49       -inf       11.669791  10.718256   9.594337        0   0"
      ]
     },
     "execution_count": 103,
     "metadata": {},
     "output_type": "execute_result"
    }
   ],
   "source": [
    "logdata"
   ]
  },
  {
   "cell_type": "code",
   "execution_count": 102,
   "metadata": {
    "ExecuteTime": {
     "end_time": "2021-04-11T17:13:40.452314Z",
     "start_time": "2021-04-11T17:13:40.435899Z"
    }
   },
   "outputs": [],
   "source": [
    "logdata=logdata.rename(columns={\"New York\":\"NY\"})"
   ]
  },
  {
   "cell_type": "code",
   "execution_count": 104,
   "metadata": {
    "ExecuteTime": {
     "end_time": "2021-04-11T17:14:06.286239Z",
     "start_time": "2021-04-11T17:14:06.244678Z"
    }
   },
   "outputs": [
    {
     "data": {
      "text/html": [
       "<div>\n",
       "<style scoped>\n",
       "    .dataframe tbody tr th:only-of-type {\n",
       "        vertical-align: middle;\n",
       "    }\n",
       "\n",
       "    .dataframe tbody tr th {\n",
       "        vertical-align: top;\n",
       "    }\n",
       "\n",
       "    .dataframe thead th {\n",
       "        text-align: right;\n",
       "    }\n",
       "</style>\n",
       "<table border=\"1\" class=\"dataframe\">\n",
       "  <thead>\n",
       "    <tr style=\"text-align: right;\">\n",
       "      <th></th>\n",
       "      <th>RDS</th>\n",
       "      <th>Administration</th>\n",
       "      <th>MS</th>\n",
       "      <th>Profit</th>\n",
       "      <th>Florida</th>\n",
       "      <th>NY</th>\n",
       "    </tr>\n",
       "  </thead>\n",
       "  <tbody>\n",
       "    <tr>\n",
       "      <th>0</th>\n",
       "      <td>12.015815</td>\n",
       "      <td>11.826990</td>\n",
       "      <td>13.064277</td>\n",
       "      <td>12.166613</td>\n",
       "      <td>0</td>\n",
       "      <td>1</td>\n",
       "    </tr>\n",
       "    <tr>\n",
       "      <th>1</th>\n",
       "      <td>11.999034</td>\n",
       "      <td>11.927533</td>\n",
       "      <td>13.003351</td>\n",
       "      <td>12.164167</td>\n",
       "      <td>0</td>\n",
       "      <td>0</td>\n",
       "    </tr>\n",
       "    <tr>\n",
       "      <th>2</th>\n",
       "      <td>11.941075</td>\n",
       "      <td>11.524316</td>\n",
       "      <td>12.918862</td>\n",
       "      <td>12.160292</td>\n",
       "      <td>1</td>\n",
       "      <td>0</td>\n",
       "    </tr>\n",
       "    <tr>\n",
       "      <th>3</th>\n",
       "      <td>11.880151</td>\n",
       "      <td>11.684117</td>\n",
       "      <td>12.856311</td>\n",
       "      <td>12.116706</td>\n",
       "      <td>0</td>\n",
       "      <td>1</td>\n",
       "    </tr>\n",
       "    <tr>\n",
       "      <th>4</th>\n",
       "      <td>11.864338</td>\n",
       "      <td>11.422911</td>\n",
       "      <td>12.810849</td>\n",
       "      <td>12.020875</td>\n",
       "      <td>1</td>\n",
       "      <td>0</td>\n",
       "    </tr>\n",
       "    <tr>\n",
       "      <th>5</th>\n",
       "      <td>11.789624</td>\n",
       "      <td>11.511071</td>\n",
       "      <td>12.801776</td>\n",
       "      <td>11.963945</td>\n",
       "      <td>0</td>\n",
       "      <td>1</td>\n",
       "    </tr>\n",
       "    <tr>\n",
       "      <th>6</th>\n",
       "      <td>11.810178</td>\n",
       "      <td>11.899540</td>\n",
       "      <td>11.757571</td>\n",
       "      <td>11.958396</td>\n",
       "      <td>0</td>\n",
       "      <td>0</td>\n",
       "    </tr>\n",
       "    <tr>\n",
       "      <th>7</th>\n",
       "      <td>11.777580</td>\n",
       "      <td>11.888138</td>\n",
       "      <td>12.688118</td>\n",
       "      <td>11.956024</td>\n",
       "      <td>1</td>\n",
       "      <td>0</td>\n",
       "    </tr>\n",
       "    <tr>\n",
       "      <th>8</th>\n",
       "      <td>11.699758</td>\n",
       "      <td>11.909814</td>\n",
       "      <td>12.649518</td>\n",
       "      <td>11.933028</td>\n",
       "      <td>0</td>\n",
       "      <td>1</td>\n",
       "    </tr>\n",
       "    <tr>\n",
       "      <th>9</th>\n",
       "      <td>11.722659</td>\n",
       "      <td>11.596155</td>\n",
       "      <td>12.628007</td>\n",
       "      <td>11.916789</td>\n",
       "      <td>0</td>\n",
       "      <td>0</td>\n",
       "    </tr>\n",
       "    <tr>\n",
       "      <th>10</th>\n",
       "      <td>11.531876</td>\n",
       "      <td>11.613622</td>\n",
       "      <td>12.342180</td>\n",
       "      <td>11.892197</td>\n",
       "      <td>1</td>\n",
       "      <td>0</td>\n",
       "    </tr>\n",
       "    <tr>\n",
       "      <th>11</th>\n",
       "      <td>11.519623</td>\n",
       "      <td>11.427265</td>\n",
       "      <td>12.428194</td>\n",
       "      <td>11.879368</td>\n",
       "      <td>0</td>\n",
       "      <td>0</td>\n",
       "    </tr>\n",
       "    <tr>\n",
       "      <th>12</th>\n",
       "      <td>11.449600</td>\n",
       "      <td>11.754462</td>\n",
       "      <td>12.428574</td>\n",
       "      <td>11.860659</td>\n",
       "      <td>1</td>\n",
       "      <td>0</td>\n",
       "    </tr>\n",
       "    <tr>\n",
       "      <th>13</th>\n",
       "      <td>11.429461</td>\n",
       "      <td>11.816691</td>\n",
       "      <td>12.439820</td>\n",
       "      <td>11.807886</td>\n",
       "      <td>0</td>\n",
       "      <td>0</td>\n",
       "    </tr>\n",
       "    <tr>\n",
       "      <th>14</th>\n",
       "      <td>11.694774</td>\n",
       "      <td>11.961114</td>\n",
       "      <td>12.454934</td>\n",
       "      <td>11.795112</td>\n",
       "      <td>1</td>\n",
       "      <td>0</td>\n",
       "    </tr>\n",
       "    <tr>\n",
       "      <th>15</th>\n",
       "      <td>11.648536</td>\n",
       "      <td>11.716820</td>\n",
       "      <td>12.475245</td>\n",
       "      <td>11.774651</td>\n",
       "      <td>0</td>\n",
       "      <td>1</td>\n",
       "    </tr>\n",
       "    <tr>\n",
       "      <th>16</th>\n",
       "      <td>11.264632</td>\n",
       "      <td>11.708472</td>\n",
       "      <td>12.485014</td>\n",
       "      <td>11.751887</td>\n",
       "      <td>0</td>\n",
       "      <td>0</td>\n",
       "    </tr>\n",
       "    <tr>\n",
       "      <th>17</th>\n",
       "      <td>11.458017</td>\n",
       "      <td>11.885024</td>\n",
       "      <td>12.551697</td>\n",
       "      <td>11.739028</td>\n",
       "      <td>0</td>\n",
       "      <td>1</td>\n",
       "    </tr>\n",
       "    <tr>\n",
       "      <th>18</th>\n",
       "      <td>11.426814</td>\n",
       "      <td>11.645495</td>\n",
       "      <td>12.594458</td>\n",
       "      <td>11.730187</td>\n",
       "      <td>1</td>\n",
       "      <td>0</td>\n",
       "    </tr>\n",
       "    <tr>\n",
       "      <th>20</th>\n",
       "      <td>11.241823</td>\n",
       "      <td>11.642789</td>\n",
       "      <td>12.607076</td>\n",
       "      <td>11.682449</td>\n",
       "      <td>0</td>\n",
       "      <td>0</td>\n",
       "    </tr>\n",
       "    <tr>\n",
       "      <th>21</th>\n",
       "      <td>11.269445</td>\n",
       "      <td>11.943236</td>\n",
       "      <td>12.610662</td>\n",
       "      <td>11.620102</td>\n",
       "      <td>0</td>\n",
       "      <td>1</td>\n",
       "    </tr>\n",
       "    <tr>\n",
       "      <th>22</th>\n",
       "      <td>11.211747</td>\n",
       "      <td>11.718172</td>\n",
       "      <td>12.622541</td>\n",
       "      <td>11.611433</td>\n",
       "      <td>1</td>\n",
       "      <td>0</td>\n",
       "    </tr>\n",
       "    <tr>\n",
       "      <th>23</th>\n",
       "      <td>11.120365</td>\n",
       "      <td>11.568843</td>\n",
       "      <td>12.627309</td>\n",
       "      <td>11.596660</td>\n",
       "      <td>1</td>\n",
       "      <td>0</td>\n",
       "    </tr>\n",
       "    <tr>\n",
       "      <th>24</th>\n",
       "      <td>11.252132</td>\n",
       "      <td>11.505713</td>\n",
       "      <td>11.853495</td>\n",
       "      <td>11.594985</td>\n",
       "      <td>0</td>\n",
       "      <td>1</td>\n",
       "    </tr>\n",
       "    <tr>\n",
       "      <th>25</th>\n",
       "      <td>11.076971</td>\n",
       "      <td>11.846201</td>\n",
       "      <td>11.834738</td>\n",
       "      <td>11.584356</td>\n",
       "      <td>0</td>\n",
       "      <td>0</td>\n",
       "    </tr>\n",
       "    <tr>\n",
       "      <th>26</th>\n",
       "      <td>11.229619</td>\n",
       "      <td>11.878512</td>\n",
       "      <td>11.805969</td>\n",
       "      <td>11.568677</td>\n",
       "      <td>1</td>\n",
       "      <td>0</td>\n",
       "    </tr>\n",
       "    <tr>\n",
       "      <th>27</th>\n",
       "      <td>11.185915</td>\n",
       "      <td>11.758727</td>\n",
       "      <td>12.774744</td>\n",
       "      <td>11.561795</td>\n",
       "      <td>0</td>\n",
       "      <td>1</td>\n",
       "    </tr>\n",
       "    <tr>\n",
       "      <th>28</th>\n",
       "      <td>11.098190</td>\n",
       "      <td>12.115303</td>\n",
       "      <td>11.679695</td>\n",
       "      <td>11.545222</td>\n",
       "      <td>1</td>\n",
       "      <td>0</td>\n",
       "    </tr>\n",
       "    <tr>\n",
       "      <th>29</th>\n",
       "      <td>11.091415</td>\n",
       "      <td>11.938403</td>\n",
       "      <td>11.581877</td>\n",
       "      <td>11.522922</td>\n",
       "      <td>0</td>\n",
       "      <td>1</td>\n",
       "    </tr>\n",
       "    <tr>\n",
       "      <th>30</th>\n",
       "      <td>11.034801</td>\n",
       "      <td>11.658248</td>\n",
       "      <td>11.420056</td>\n",
       "      <td>11.512301</td>\n",
       "      <td>1</td>\n",
       "      <td>0</td>\n",
       "    </tr>\n",
       "    <tr>\n",
       "      <th>31</th>\n",
       "      <td>11.020862</td>\n",
       "      <td>11.936243</td>\n",
       "      <td>11.387569</td>\n",
       "      <td>11.487439</td>\n",
       "      <td>0</td>\n",
       "      <td>1</td>\n",
       "    </tr>\n",
       "    <tr>\n",
       "      <th>32</th>\n",
       "      <td>11.057359</td>\n",
       "      <td>11.769269</td>\n",
       "      <td>10.738248</td>\n",
       "      <td>11.486867</td>\n",
       "      <td>0</td>\n",
       "      <td>0</td>\n",
       "    </tr>\n",
       "    <tr>\n",
       "      <th>33</th>\n",
       "      <td>10.924029</td>\n",
       "      <td>11.543042</td>\n",
       "      <td>12.276693</td>\n",
       "      <td>11.480184</td>\n",
       "      <td>1</td>\n",
       "      <td>0</td>\n",
       "    </tr>\n",
       "    <tr>\n",
       "      <th>34</th>\n",
       "      <td>10.745616</td>\n",
       "      <td>11.968411</td>\n",
       "      <td>12.258654</td>\n",
       "      <td>11.479501</td>\n",
       "      <td>0</td>\n",
       "      <td>0</td>\n",
       "    </tr>\n",
       "    <tr>\n",
       "      <th>35</th>\n",
       "      <td>10.736701</td>\n",
       "      <td>11.350964</td>\n",
       "      <td>12.233287</td>\n",
       "      <td>11.477086</td>\n",
       "      <td>0</td>\n",
       "      <td>1</td>\n",
       "    </tr>\n",
       "    <tr>\n",
       "      <th>36</th>\n",
       "      <td>10.263389</td>\n",
       "      <td>11.752385</td>\n",
       "      <td>12.211691</td>\n",
       "      <td>11.415403</td>\n",
       "      <td>1</td>\n",
       "      <td>0</td>\n",
       "    </tr>\n",
       "    <tr>\n",
       "      <th>37</th>\n",
       "      <td>10.693533</td>\n",
       "      <td>10.845117</td>\n",
       "      <td>12.191108</td>\n",
       "      <td>11.407000</td>\n",
       "      <td>0</td>\n",
       "      <td>0</td>\n",
       "    </tr>\n",
       "    <tr>\n",
       "      <th>38</th>\n",
       "      <td>9.914902</td>\n",
       "      <td>11.096621</td>\n",
       "      <td>12.129543</td>\n",
       "      <td>11.305028</td>\n",
       "      <td>0</td>\n",
       "      <td>1</td>\n",
       "    </tr>\n",
       "    <tr>\n",
       "      <th>39</th>\n",
       "      <td>10.559932</td>\n",
       "      <td>11.326380</td>\n",
       "      <td>12.072537</td>\n",
       "      <td>11.302276</td>\n",
       "      <td>0</td>\n",
       "      <td>0</td>\n",
       "    </tr>\n",
       "    <tr>\n",
       "      <th>40</th>\n",
       "      <td>10.266544</td>\n",
       "      <td>11.683057</td>\n",
       "      <td>12.059865</td>\n",
       "      <td>11.267535</td>\n",
       "      <td>0</td>\n",
       "      <td>0</td>\n",
       "    </tr>\n",
       "    <tr>\n",
       "      <th>41</th>\n",
       "      <td>10.236128</td>\n",
       "      <td>11.346998</td>\n",
       "      <td>12.010488</td>\n",
       "      <td>11.261882</td>\n",
       "      <td>1</td>\n",
       "      <td>0</td>\n",
       "    </tr>\n",
       "    <tr>\n",
       "      <th>42</th>\n",
       "      <td>10.070735</td>\n",
       "      <td>11.474077</td>\n",
       "      <td>11.904975</td>\n",
       "      <td>11.177432</td>\n",
       "      <td>0</td>\n",
       "      <td>0</td>\n",
       "    </tr>\n",
       "    <tr>\n",
       "      <th>43</th>\n",
       "      <td>9.648965</td>\n",
       "      <td>11.754948</td>\n",
       "      <td>10.478250</td>\n",
       "      <td>11.152801</td>\n",
       "      <td>0</td>\n",
       "      <td>1</td>\n",
       "    </tr>\n",
       "    <tr>\n",
       "      <th>44</th>\n",
       "      <td>10.006844</td>\n",
       "      <td>11.949929</td>\n",
       "      <td>10.251843</td>\n",
       "      <td>11.085220</td>\n",
       "      <td>0</td>\n",
       "      <td>0</td>\n",
       "    </tr>\n",
       "    <tr>\n",
       "      <th>45</th>\n",
       "      <td>6.907985</td>\n",
       "      <td>11.729270</td>\n",
       "      <td>7.551675</td>\n",
       "      <td>11.081005</td>\n",
       "      <td>0</td>\n",
       "      <td>1</td>\n",
       "    </tr>\n",
       "    <tr>\n",
       "      <th>46</th>\n",
       "      <td>7.181942</td>\n",
       "      <td>11.659760</td>\n",
       "      <td>12.601873</td>\n",
       "      <td>10.809541</td>\n",
       "      <td>1</td>\n",
       "      <td>0</td>\n",
       "    </tr>\n",
       "  </tbody>\n",
       "</table>\n",
       "</div>"
      ],
      "text/plain": [
       "          RDS  Administration         MS     Profit  Florida  NY\n",
       "0   12.015815       11.826990  13.064277  12.166613        0   1\n",
       "1   11.999034       11.927533  13.003351  12.164167        0   0\n",
       "2   11.941075       11.524316  12.918862  12.160292        1   0\n",
       "3   11.880151       11.684117  12.856311  12.116706        0   1\n",
       "4   11.864338       11.422911  12.810849  12.020875        1   0\n",
       "5   11.789624       11.511071  12.801776  11.963945        0   1\n",
       "6   11.810178       11.899540  11.757571  11.958396        0   0\n",
       "7   11.777580       11.888138  12.688118  11.956024        1   0\n",
       "8   11.699758       11.909814  12.649518  11.933028        0   1\n",
       "9   11.722659       11.596155  12.628007  11.916789        0   0\n",
       "10  11.531876       11.613622  12.342180  11.892197        1   0\n",
       "11  11.519623       11.427265  12.428194  11.879368        0   0\n",
       "12  11.449600       11.754462  12.428574  11.860659        1   0\n",
       "13  11.429461       11.816691  12.439820  11.807886        0   0\n",
       "14  11.694774       11.961114  12.454934  11.795112        1   0\n",
       "15  11.648536       11.716820  12.475245  11.774651        0   1\n",
       "16  11.264632       11.708472  12.485014  11.751887        0   0\n",
       "17  11.458017       11.885024  12.551697  11.739028        0   1\n",
       "18  11.426814       11.645495  12.594458  11.730187        1   0\n",
       "20  11.241823       11.642789  12.607076  11.682449        0   0\n",
       "21  11.269445       11.943236  12.610662  11.620102        0   1\n",
       "22  11.211747       11.718172  12.622541  11.611433        1   0\n",
       "23  11.120365       11.568843  12.627309  11.596660        1   0\n",
       "24  11.252132       11.505713  11.853495  11.594985        0   1\n",
       "25  11.076971       11.846201  11.834738  11.584356        0   0\n",
       "26  11.229619       11.878512  11.805969  11.568677        1   0\n",
       "27  11.185915       11.758727  12.774744  11.561795        0   1\n",
       "28  11.098190       12.115303  11.679695  11.545222        1   0\n",
       "29  11.091415       11.938403  11.581877  11.522922        0   1\n",
       "30  11.034801       11.658248  11.420056  11.512301        1   0\n",
       "31  11.020862       11.936243  11.387569  11.487439        0   1\n",
       "32  11.057359       11.769269  10.738248  11.486867        0   0\n",
       "33  10.924029       11.543042  12.276693  11.480184        1   0\n",
       "34  10.745616       11.968411  12.258654  11.479501        0   0\n",
       "35  10.736701       11.350964  12.233287  11.477086        0   1\n",
       "36  10.263389       11.752385  12.211691  11.415403        1   0\n",
       "37  10.693533       10.845117  12.191108  11.407000        0   0\n",
       "38   9.914902       11.096621  12.129543  11.305028        0   1\n",
       "39  10.559932       11.326380  12.072537  11.302276        0   0\n",
       "40  10.266544       11.683057  12.059865  11.267535        0   0\n",
       "41  10.236128       11.346998  12.010488  11.261882        1   0\n",
       "42  10.070735       11.474077  11.904975  11.177432        0   0\n",
       "43   9.648965       11.754948  10.478250  11.152801        0   1\n",
       "44  10.006844       11.949929  10.251843  11.085220        0   0\n",
       "45   6.907985       11.729270   7.551675  11.081005        0   1\n",
       "46   7.181942       11.659760  12.601873  10.809541        1   0"
      ]
     },
     "execution_count": 104,
     "metadata": {},
     "output_type": "execute_result"
    }
   ],
   "source": [
    "logdata=logdata.drop([logdata.index[47], logdata.index[48],logdata.index[49],logdata.index[19]])\n",
    "logdata"
   ]
  },
  {
   "cell_type": "code",
   "execution_count": 105,
   "metadata": {
    "ExecuteTime": {
     "end_time": "2021-04-11T17:14:27.507612Z",
     "start_time": "2021-04-11T17:14:27.454956Z"
    }
   },
   "outputs": [
    {
     "data": {
      "text/html": [
       "<div>\n",
       "<style scoped>\n",
       "    .dataframe tbody tr th:only-of-type {\n",
       "        vertical-align: middle;\n",
       "    }\n",
       "\n",
       "    .dataframe tbody tr th {\n",
       "        vertical-align: top;\n",
       "    }\n",
       "\n",
       "    .dataframe thead th {\n",
       "        text-align: right;\n",
       "    }\n",
       "</style>\n",
       "<table border=\"1\" class=\"dataframe\">\n",
       "  <thead>\n",
       "    <tr style=\"text-align: right;\">\n",
       "      <th></th>\n",
       "      <th>RDS</th>\n",
       "      <th>Administration</th>\n",
       "      <th>MS</th>\n",
       "      <th>Profit</th>\n",
       "      <th>Florida</th>\n",
       "      <th>NY</th>\n",
       "    </tr>\n",
       "  </thead>\n",
       "  <tbody>\n",
       "    <tr>\n",
       "      <th>0</th>\n",
       "      <td>12.015815</td>\n",
       "      <td>11.826990</td>\n",
       "      <td>13.064277</td>\n",
       "      <td>12.166613</td>\n",
       "      <td>0</td>\n",
       "      <td>1</td>\n",
       "    </tr>\n",
       "    <tr>\n",
       "      <th>1</th>\n",
       "      <td>11.999034</td>\n",
       "      <td>11.927533</td>\n",
       "      <td>13.003351</td>\n",
       "      <td>12.164167</td>\n",
       "      <td>0</td>\n",
       "      <td>0</td>\n",
       "    </tr>\n",
       "    <tr>\n",
       "      <th>2</th>\n",
       "      <td>11.941075</td>\n",
       "      <td>11.524316</td>\n",
       "      <td>12.918862</td>\n",
       "      <td>12.160292</td>\n",
       "      <td>1</td>\n",
       "      <td>0</td>\n",
       "    </tr>\n",
       "    <tr>\n",
       "      <th>3</th>\n",
       "      <td>11.880151</td>\n",
       "      <td>11.684117</td>\n",
       "      <td>12.856311</td>\n",
       "      <td>12.116706</td>\n",
       "      <td>0</td>\n",
       "      <td>1</td>\n",
       "    </tr>\n",
       "    <tr>\n",
       "      <th>4</th>\n",
       "      <td>11.864338</td>\n",
       "      <td>11.422911</td>\n",
       "      <td>12.810849</td>\n",
       "      <td>12.020875</td>\n",
       "      <td>1</td>\n",
       "      <td>0</td>\n",
       "    </tr>\n",
       "    <tr>\n",
       "      <th>5</th>\n",
       "      <td>11.789624</td>\n",
       "      <td>11.511071</td>\n",
       "      <td>12.801776</td>\n",
       "      <td>11.963945</td>\n",
       "      <td>0</td>\n",
       "      <td>1</td>\n",
       "    </tr>\n",
       "    <tr>\n",
       "      <th>6</th>\n",
       "      <td>11.810178</td>\n",
       "      <td>11.899540</td>\n",
       "      <td>11.757571</td>\n",
       "      <td>11.958396</td>\n",
       "      <td>0</td>\n",
       "      <td>0</td>\n",
       "    </tr>\n",
       "    <tr>\n",
       "      <th>7</th>\n",
       "      <td>11.777580</td>\n",
       "      <td>11.888138</td>\n",
       "      <td>12.688118</td>\n",
       "      <td>11.956024</td>\n",
       "      <td>1</td>\n",
       "      <td>0</td>\n",
       "    </tr>\n",
       "    <tr>\n",
       "      <th>8</th>\n",
       "      <td>11.699758</td>\n",
       "      <td>11.909814</td>\n",
       "      <td>12.649518</td>\n",
       "      <td>11.933028</td>\n",
       "      <td>0</td>\n",
       "      <td>1</td>\n",
       "    </tr>\n",
       "    <tr>\n",
       "      <th>9</th>\n",
       "      <td>11.722659</td>\n",
       "      <td>11.596155</td>\n",
       "      <td>12.628007</td>\n",
       "      <td>11.916789</td>\n",
       "      <td>0</td>\n",
       "      <td>0</td>\n",
       "    </tr>\n",
       "    <tr>\n",
       "      <th>10</th>\n",
       "      <td>11.531876</td>\n",
       "      <td>11.613622</td>\n",
       "      <td>12.342180</td>\n",
       "      <td>11.892197</td>\n",
       "      <td>1</td>\n",
       "      <td>0</td>\n",
       "    </tr>\n",
       "    <tr>\n",
       "      <th>11</th>\n",
       "      <td>11.519623</td>\n",
       "      <td>11.427265</td>\n",
       "      <td>12.428194</td>\n",
       "      <td>11.879368</td>\n",
       "      <td>0</td>\n",
       "      <td>0</td>\n",
       "    </tr>\n",
       "    <tr>\n",
       "      <th>12</th>\n",
       "      <td>11.449600</td>\n",
       "      <td>11.754462</td>\n",
       "      <td>12.428574</td>\n",
       "      <td>11.860659</td>\n",
       "      <td>1</td>\n",
       "      <td>0</td>\n",
       "    </tr>\n",
       "    <tr>\n",
       "      <th>13</th>\n",
       "      <td>11.429461</td>\n",
       "      <td>11.816691</td>\n",
       "      <td>12.439820</td>\n",
       "      <td>11.807886</td>\n",
       "      <td>0</td>\n",
       "      <td>0</td>\n",
       "    </tr>\n",
       "    <tr>\n",
       "      <th>14</th>\n",
       "      <td>11.694774</td>\n",
       "      <td>11.961114</td>\n",
       "      <td>12.454934</td>\n",
       "      <td>11.795112</td>\n",
       "      <td>1</td>\n",
       "      <td>0</td>\n",
       "    </tr>\n",
       "    <tr>\n",
       "      <th>15</th>\n",
       "      <td>11.648536</td>\n",
       "      <td>11.716820</td>\n",
       "      <td>12.475245</td>\n",
       "      <td>11.774651</td>\n",
       "      <td>0</td>\n",
       "      <td>1</td>\n",
       "    </tr>\n",
       "    <tr>\n",
       "      <th>16</th>\n",
       "      <td>11.264632</td>\n",
       "      <td>11.708472</td>\n",
       "      <td>12.485014</td>\n",
       "      <td>11.751887</td>\n",
       "      <td>0</td>\n",
       "      <td>0</td>\n",
       "    </tr>\n",
       "    <tr>\n",
       "      <th>17</th>\n",
       "      <td>11.458017</td>\n",
       "      <td>11.885024</td>\n",
       "      <td>12.551697</td>\n",
       "      <td>11.739028</td>\n",
       "      <td>0</td>\n",
       "      <td>1</td>\n",
       "    </tr>\n",
       "    <tr>\n",
       "      <th>18</th>\n",
       "      <td>11.426814</td>\n",
       "      <td>11.645495</td>\n",
       "      <td>12.594458</td>\n",
       "      <td>11.730187</td>\n",
       "      <td>1</td>\n",
       "      <td>0</td>\n",
       "    </tr>\n",
       "    <tr>\n",
       "      <th>20</th>\n",
       "      <td>11.241823</td>\n",
       "      <td>11.642789</td>\n",
       "      <td>12.607076</td>\n",
       "      <td>11.682449</td>\n",
       "      <td>0</td>\n",
       "      <td>0</td>\n",
       "    </tr>\n",
       "    <tr>\n",
       "      <th>21</th>\n",
       "      <td>11.269445</td>\n",
       "      <td>11.943236</td>\n",
       "      <td>12.610662</td>\n",
       "      <td>11.620102</td>\n",
       "      <td>0</td>\n",
       "      <td>1</td>\n",
       "    </tr>\n",
       "    <tr>\n",
       "      <th>22</th>\n",
       "      <td>11.211747</td>\n",
       "      <td>11.718172</td>\n",
       "      <td>12.622541</td>\n",
       "      <td>11.611433</td>\n",
       "      <td>1</td>\n",
       "      <td>0</td>\n",
       "    </tr>\n",
       "    <tr>\n",
       "      <th>23</th>\n",
       "      <td>11.120365</td>\n",
       "      <td>11.568843</td>\n",
       "      <td>12.627309</td>\n",
       "      <td>11.596660</td>\n",
       "      <td>1</td>\n",
       "      <td>0</td>\n",
       "    </tr>\n",
       "    <tr>\n",
       "      <th>24</th>\n",
       "      <td>11.252132</td>\n",
       "      <td>11.505713</td>\n",
       "      <td>11.853495</td>\n",
       "      <td>11.594985</td>\n",
       "      <td>0</td>\n",
       "      <td>1</td>\n",
       "    </tr>\n",
       "    <tr>\n",
       "      <th>25</th>\n",
       "      <td>11.076971</td>\n",
       "      <td>11.846201</td>\n",
       "      <td>11.834738</td>\n",
       "      <td>11.584356</td>\n",
       "      <td>0</td>\n",
       "      <td>0</td>\n",
       "    </tr>\n",
       "    <tr>\n",
       "      <th>26</th>\n",
       "      <td>11.229619</td>\n",
       "      <td>11.878512</td>\n",
       "      <td>11.805969</td>\n",
       "      <td>11.568677</td>\n",
       "      <td>1</td>\n",
       "      <td>0</td>\n",
       "    </tr>\n",
       "    <tr>\n",
       "      <th>27</th>\n",
       "      <td>11.185915</td>\n",
       "      <td>11.758727</td>\n",
       "      <td>12.774744</td>\n",
       "      <td>11.561795</td>\n",
       "      <td>0</td>\n",
       "      <td>1</td>\n",
       "    </tr>\n",
       "    <tr>\n",
       "      <th>28</th>\n",
       "      <td>11.098190</td>\n",
       "      <td>12.115303</td>\n",
       "      <td>11.679695</td>\n",
       "      <td>11.545222</td>\n",
       "      <td>1</td>\n",
       "      <td>0</td>\n",
       "    </tr>\n",
       "    <tr>\n",
       "      <th>29</th>\n",
       "      <td>11.091415</td>\n",
       "      <td>11.938403</td>\n",
       "      <td>11.581877</td>\n",
       "      <td>11.522922</td>\n",
       "      <td>0</td>\n",
       "      <td>1</td>\n",
       "    </tr>\n",
       "    <tr>\n",
       "      <th>30</th>\n",
       "      <td>11.034801</td>\n",
       "      <td>11.658248</td>\n",
       "      <td>11.420056</td>\n",
       "      <td>11.512301</td>\n",
       "      <td>1</td>\n",
       "      <td>0</td>\n",
       "    </tr>\n",
       "    <tr>\n",
       "      <th>31</th>\n",
       "      <td>11.020862</td>\n",
       "      <td>11.936243</td>\n",
       "      <td>11.387569</td>\n",
       "      <td>11.487439</td>\n",
       "      <td>0</td>\n",
       "      <td>1</td>\n",
       "    </tr>\n",
       "    <tr>\n",
       "      <th>32</th>\n",
       "      <td>11.057359</td>\n",
       "      <td>11.769269</td>\n",
       "      <td>10.738248</td>\n",
       "      <td>11.486867</td>\n",
       "      <td>0</td>\n",
       "      <td>0</td>\n",
       "    </tr>\n",
       "    <tr>\n",
       "      <th>33</th>\n",
       "      <td>10.924029</td>\n",
       "      <td>11.543042</td>\n",
       "      <td>12.276693</td>\n",
       "      <td>11.480184</td>\n",
       "      <td>1</td>\n",
       "      <td>0</td>\n",
       "    </tr>\n",
       "    <tr>\n",
       "      <th>34</th>\n",
       "      <td>10.745616</td>\n",
       "      <td>11.968411</td>\n",
       "      <td>12.258654</td>\n",
       "      <td>11.479501</td>\n",
       "      <td>0</td>\n",
       "      <td>0</td>\n",
       "    </tr>\n",
       "    <tr>\n",
       "      <th>35</th>\n",
       "      <td>10.736701</td>\n",
       "      <td>11.350964</td>\n",
       "      <td>12.233287</td>\n",
       "      <td>11.477086</td>\n",
       "      <td>0</td>\n",
       "      <td>1</td>\n",
       "    </tr>\n",
       "    <tr>\n",
       "      <th>36</th>\n",
       "      <td>10.263389</td>\n",
       "      <td>11.752385</td>\n",
       "      <td>12.211691</td>\n",
       "      <td>11.415403</td>\n",
       "      <td>1</td>\n",
       "      <td>0</td>\n",
       "    </tr>\n",
       "    <tr>\n",
       "      <th>37</th>\n",
       "      <td>10.693533</td>\n",
       "      <td>10.845117</td>\n",
       "      <td>12.191108</td>\n",
       "      <td>11.407000</td>\n",
       "      <td>0</td>\n",
       "      <td>0</td>\n",
       "    </tr>\n",
       "    <tr>\n",
       "      <th>38</th>\n",
       "      <td>9.914902</td>\n",
       "      <td>11.096621</td>\n",
       "      <td>12.129543</td>\n",
       "      <td>11.305028</td>\n",
       "      <td>0</td>\n",
       "      <td>1</td>\n",
       "    </tr>\n",
       "    <tr>\n",
       "      <th>39</th>\n",
       "      <td>10.559932</td>\n",
       "      <td>11.326380</td>\n",
       "      <td>12.072537</td>\n",
       "      <td>11.302276</td>\n",
       "      <td>0</td>\n",
       "      <td>0</td>\n",
       "    </tr>\n",
       "    <tr>\n",
       "      <th>40</th>\n",
       "      <td>10.266544</td>\n",
       "      <td>11.683057</td>\n",
       "      <td>12.059865</td>\n",
       "      <td>11.267535</td>\n",
       "      <td>0</td>\n",
       "      <td>0</td>\n",
       "    </tr>\n",
       "    <tr>\n",
       "      <th>41</th>\n",
       "      <td>10.236128</td>\n",
       "      <td>11.346998</td>\n",
       "      <td>12.010488</td>\n",
       "      <td>11.261882</td>\n",
       "      <td>1</td>\n",
       "      <td>0</td>\n",
       "    </tr>\n",
       "    <tr>\n",
       "      <th>42</th>\n",
       "      <td>10.070735</td>\n",
       "      <td>11.474077</td>\n",
       "      <td>11.904975</td>\n",
       "      <td>11.177432</td>\n",
       "      <td>0</td>\n",
       "      <td>0</td>\n",
       "    </tr>\n",
       "    <tr>\n",
       "      <th>43</th>\n",
       "      <td>9.648965</td>\n",
       "      <td>11.754948</td>\n",
       "      <td>10.478250</td>\n",
       "      <td>11.152801</td>\n",
       "      <td>0</td>\n",
       "      <td>1</td>\n",
       "    </tr>\n",
       "    <tr>\n",
       "      <th>44</th>\n",
       "      <td>10.006844</td>\n",
       "      <td>11.949929</td>\n",
       "      <td>10.251843</td>\n",
       "      <td>11.085220</td>\n",
       "      <td>0</td>\n",
       "      <td>0</td>\n",
       "    </tr>\n",
       "    <tr>\n",
       "      <th>45</th>\n",
       "      <td>6.907985</td>\n",
       "      <td>11.729270</td>\n",
       "      <td>7.551675</td>\n",
       "      <td>11.081005</td>\n",
       "      <td>0</td>\n",
       "      <td>1</td>\n",
       "    </tr>\n",
       "    <tr>\n",
       "      <th>46</th>\n",
       "      <td>7.181942</td>\n",
       "      <td>11.659760</td>\n",
       "      <td>12.601873</td>\n",
       "      <td>10.809541</td>\n",
       "      <td>1</td>\n",
       "      <td>0</td>\n",
       "    </tr>\n",
       "  </tbody>\n",
       "</table>\n",
       "</div>"
      ],
      "text/plain": [
       "          RDS  Administration         MS     Profit  Florida  NY\n",
       "0   12.015815       11.826990  13.064277  12.166613        0   1\n",
       "1   11.999034       11.927533  13.003351  12.164167        0   0\n",
       "2   11.941075       11.524316  12.918862  12.160292        1   0\n",
       "3   11.880151       11.684117  12.856311  12.116706        0   1\n",
       "4   11.864338       11.422911  12.810849  12.020875        1   0\n",
       "5   11.789624       11.511071  12.801776  11.963945        0   1\n",
       "6   11.810178       11.899540  11.757571  11.958396        0   0\n",
       "7   11.777580       11.888138  12.688118  11.956024        1   0\n",
       "8   11.699758       11.909814  12.649518  11.933028        0   1\n",
       "9   11.722659       11.596155  12.628007  11.916789        0   0\n",
       "10  11.531876       11.613622  12.342180  11.892197        1   0\n",
       "11  11.519623       11.427265  12.428194  11.879368        0   0\n",
       "12  11.449600       11.754462  12.428574  11.860659        1   0\n",
       "13  11.429461       11.816691  12.439820  11.807886        0   0\n",
       "14  11.694774       11.961114  12.454934  11.795112        1   0\n",
       "15  11.648536       11.716820  12.475245  11.774651        0   1\n",
       "16  11.264632       11.708472  12.485014  11.751887        0   0\n",
       "17  11.458017       11.885024  12.551697  11.739028        0   1\n",
       "18  11.426814       11.645495  12.594458  11.730187        1   0\n",
       "20  11.241823       11.642789  12.607076  11.682449        0   0\n",
       "21  11.269445       11.943236  12.610662  11.620102        0   1\n",
       "22  11.211747       11.718172  12.622541  11.611433        1   0\n",
       "23  11.120365       11.568843  12.627309  11.596660        1   0\n",
       "24  11.252132       11.505713  11.853495  11.594985        0   1\n",
       "25  11.076971       11.846201  11.834738  11.584356        0   0\n",
       "26  11.229619       11.878512  11.805969  11.568677        1   0\n",
       "27  11.185915       11.758727  12.774744  11.561795        0   1\n",
       "28  11.098190       12.115303  11.679695  11.545222        1   0\n",
       "29  11.091415       11.938403  11.581877  11.522922        0   1\n",
       "30  11.034801       11.658248  11.420056  11.512301        1   0\n",
       "31  11.020862       11.936243  11.387569  11.487439        0   1\n",
       "32  11.057359       11.769269  10.738248  11.486867        0   0\n",
       "33  10.924029       11.543042  12.276693  11.480184        1   0\n",
       "34  10.745616       11.968411  12.258654  11.479501        0   0\n",
       "35  10.736701       11.350964  12.233287  11.477086        0   1\n",
       "36  10.263389       11.752385  12.211691  11.415403        1   0\n",
       "37  10.693533       10.845117  12.191108  11.407000        0   0\n",
       "38   9.914902       11.096621  12.129543  11.305028        0   1\n",
       "39  10.559932       11.326380  12.072537  11.302276        0   0\n",
       "40  10.266544       11.683057  12.059865  11.267535        0   0\n",
       "41  10.236128       11.346998  12.010488  11.261882        1   0\n",
       "42  10.070735       11.474077  11.904975  11.177432        0   0\n",
       "43   9.648965       11.754948  10.478250  11.152801        0   1\n",
       "44  10.006844       11.949929  10.251843  11.085220        0   0\n",
       "45   6.907985       11.729270   7.551675  11.081005        0   1\n",
       "46   7.181942       11.659760  12.601873  10.809541        1   0"
      ]
     },
     "execution_count": 105,
     "metadata": {},
     "output_type": "execute_result"
    }
   ],
   "source": [
    "logdata"
   ]
  },
  {
   "cell_type": "code",
   "execution_count": 106,
   "metadata": {
    "ExecuteTime": {
     "end_time": "2021-04-11T17:14:31.630559Z",
     "start_time": "2021-04-11T17:14:31.586860Z"
    }
   },
   "outputs": [],
   "source": [
    "#Building model on Logtransformed data\n",
    "model3=smf.ols('Profit~RDS+Administration+MS+Florida+NY',data=logdata).fit()"
   ]
  },
  {
   "cell_type": "code",
   "execution_count": 107,
   "metadata": {
    "ExecuteTime": {
     "end_time": "2021-04-11T17:14:32.218639Z",
     "start_time": "2021-04-11T17:14:32.193754Z"
    }
   },
   "outputs": [
    {
     "data": {
      "text/plain": [
       "0.7454854853859432"
      ]
     },
     "execution_count": 107,
     "metadata": {},
     "output_type": "execute_result"
    }
   ],
   "source": [
    "model3.rsquared"
   ]
  },
  {
   "cell_type": "code",
   "execution_count": 108,
   "metadata": {
    "ExecuteTime": {
     "end_time": "2021-04-11T17:14:33.931099Z",
     "start_time": "2021-04-11T17:14:33.880918Z"
    }
   },
   "outputs": [
    {
     "data": {
      "text/html": [
       "<table class=\"simpletable\">\n",
       "<caption>OLS Regression Results</caption>\n",
       "<tr>\n",
       "  <th>Dep. Variable:</th>         <td>Profit</td>      <th>  R-squared:         </th> <td>   0.745</td>\n",
       "</tr>\n",
       "<tr>\n",
       "  <th>Model:</th>                   <td>OLS</td>       <th>  Adj. R-squared:    </th> <td>   0.714</td>\n",
       "</tr>\n",
       "<tr>\n",
       "  <th>Method:</th>             <td>Least Squares</td>  <th>  F-statistic:       </th> <td>   23.43</td>\n",
       "</tr>\n",
       "<tr>\n",
       "  <th>Date:</th>             <td>Sun, 11 Apr 2021</td> <th>  Prob (F-statistic):</th> <td>6.32e-11</td>\n",
       "</tr>\n",
       "<tr>\n",
       "  <th>Time:</th>                 <td>22:44:33</td>     <th>  Log-Likelihood:    </th> <td>  19.770</td>\n",
       "</tr>\n",
       "<tr>\n",
       "  <th>No. Observations:</th>      <td>    46</td>      <th>  AIC:               </th> <td>  -27.54</td>\n",
       "</tr>\n",
       "<tr>\n",
       "  <th>Df Residuals:</th>          <td>    40</td>      <th>  BIC:               </th> <td>  -16.57</td>\n",
       "</tr>\n",
       "<tr>\n",
       "  <th>Df Model:</th>              <td>     5</td>      <th>                     </th>     <td> </td>   \n",
       "</tr>\n",
       "<tr>\n",
       "  <th>Covariance Type:</th>      <td>nonrobust</td>    <th>                     </th>     <td> </td>   \n",
       "</tr>\n",
       "</table>\n",
       "<table class=\"simpletable\">\n",
       "<tr>\n",
       "         <td></td>           <th>coef</th>     <th>std err</th>      <th>t</th>      <th>P>|t|</th>  <th>[0.025</th>    <th>0.975]</th>  \n",
       "</tr>\n",
       "<tr>\n",
       "  <th>Intercept</th>      <td>    7.9282</td> <td>    1.338</td> <td>    5.925</td> <td> 0.000</td> <td>    5.224</td> <td>   10.632</td>\n",
       "</tr>\n",
       "<tr>\n",
       "  <th>RDS</th>            <td>    0.2499</td> <td>    0.034</td> <td>    7.344</td> <td> 0.000</td> <td>    0.181</td> <td>    0.319</td>\n",
       "</tr>\n",
       "<tr>\n",
       "  <th>Administration</th> <td>    0.0598</td> <td>    0.109</td> <td>    0.548</td> <td> 0.587</td> <td>   -0.161</td> <td>    0.280</td>\n",
       "</tr>\n",
       "<tr>\n",
       "  <th>MS</th>             <td>    0.0179</td> <td>    0.039</td> <td>    0.463</td> <td> 0.646</td> <td>   -0.060</td> <td>    0.096</td>\n",
       "</tr>\n",
       "<tr>\n",
       "  <th>Florida</th>        <td>    0.0425</td> <td>    0.062</td> <td>    0.683</td> <td> 0.499</td> <td>   -0.083</td> <td>    0.168</td>\n",
       "</tr>\n",
       "<tr>\n",
       "  <th>NY</th>             <td>    0.0681</td> <td>    0.062</td> <td>    1.100</td> <td> 0.278</td> <td>   -0.057</td> <td>    0.193</td>\n",
       "</tr>\n",
       "</table>\n",
       "<table class=\"simpletable\">\n",
       "<tr>\n",
       "  <th>Omnibus:</th>       <td> 9.500</td> <th>  Durbin-Watson:     </th> <td>   0.814</td>\n",
       "</tr>\n",
       "<tr>\n",
       "  <th>Prob(Omnibus):</th> <td> 0.009</td> <th>  Jarque-Bera (JB):  </th> <td>   8.743</td>\n",
       "</tr>\n",
       "<tr>\n",
       "  <th>Skew:</th>          <td> 0.986</td> <th>  Prob(JB):          </th> <td>  0.0126</td>\n",
       "</tr>\n",
       "<tr>\n",
       "  <th>Kurtosis:</th>      <td> 3.819</td> <th>  Cond. No.          </th> <td>1.09e+03</td>\n",
       "</tr>\n",
       "</table><br/><br/>Warnings:<br/>[1] Standard Errors assume that the covariance matrix of the errors is correctly specified.<br/>[2] The condition number is large, 1.09e+03. This might indicate that there are<br/>strong multicollinearity or other numerical problems."
      ],
      "text/plain": [
       "<class 'statsmodels.iolib.summary.Summary'>\n",
       "\"\"\"\n",
       "                            OLS Regression Results                            \n",
       "==============================================================================\n",
       "Dep. Variable:                 Profit   R-squared:                       0.745\n",
       "Model:                            OLS   Adj. R-squared:                  0.714\n",
       "Method:                 Least Squares   F-statistic:                     23.43\n",
       "Date:                Sun, 11 Apr 2021   Prob (F-statistic):           6.32e-11\n",
       "Time:                        22:44:33   Log-Likelihood:                 19.770\n",
       "No. Observations:                  46   AIC:                            -27.54\n",
       "Df Residuals:                      40   BIC:                            -16.57\n",
       "Df Model:                           5                                         \n",
       "Covariance Type:            nonrobust                                         \n",
       "==================================================================================\n",
       "                     coef    std err          t      P>|t|      [0.025      0.975]\n",
       "----------------------------------------------------------------------------------\n",
       "Intercept          7.9282      1.338      5.925      0.000       5.224      10.632\n",
       "RDS                0.2499      0.034      7.344      0.000       0.181       0.319\n",
       "Administration     0.0598      0.109      0.548      0.587      -0.161       0.280\n",
       "MS                 0.0179      0.039      0.463      0.646      -0.060       0.096\n",
       "Florida            0.0425      0.062      0.683      0.499      -0.083       0.168\n",
       "NY                 0.0681      0.062      1.100      0.278      -0.057       0.193\n",
       "==============================================================================\n",
       "Omnibus:                        9.500   Durbin-Watson:                   0.814\n",
       "Prob(Omnibus):                  0.009   Jarque-Bera (JB):                8.743\n",
       "Skew:                           0.986   Prob(JB):                       0.0126\n",
       "Kurtosis:                       3.819   Cond. No.                     1.09e+03\n",
       "==============================================================================\n",
       "\n",
       "Warnings:\n",
       "[1] Standard Errors assume that the covariance matrix of the errors is correctly specified.\n",
       "[2] The condition number is large, 1.09e+03. This might indicate that there are\n",
       "strong multicollinearity or other numerical problems.\n",
       "\"\"\""
      ]
     },
     "execution_count": 108,
     "metadata": {},
     "output_type": "execute_result"
    }
   ],
   "source": [
    "model3.summary()"
   ]
  },
  {
   "cell_type": "markdown",
   "metadata": {},
   "source": [
    "### Model Building"
   ]
  },
  {
   "cell_type": "code",
   "execution_count": 109,
   "metadata": {
    "ExecuteTime": {
     "end_time": "2021-04-11T17:17:16.430103Z",
     "start_time": "2021-04-11T17:17:16.414443Z"
    }
   },
   "outputs": [],
   "source": [
    "from sklearn.preprocessing import StandardScaler\n",
    "from sklearn.preprocessing import scale"
   ]
  },
  {
   "cell_type": "code",
   "execution_count": 111,
   "metadata": {
    "ExecuteTime": {
     "end_time": "2021-04-11T17:17:47.838925Z",
     "start_time": "2021-04-11T17:17:47.821708Z"
    }
   },
   "outputs": [],
   "source": [
    "Scikitdata=pd.read_csv(\"C:/ExcelrPy/Assignment-5/50_Startups.csv\")"
   ]
  },
  {
   "cell_type": "code",
   "execution_count": 112,
   "metadata": {
    "ExecuteTime": {
     "end_time": "2021-04-11T17:17:49.578955Z",
     "start_time": "2021-04-11T17:17:49.565388Z"
    }
   },
   "outputs": [],
   "source": [
    "cdata=Scikitdata.drop(['State'],axis=1)"
   ]
  },
  {
   "cell_type": "code",
   "execution_count": 113,
   "metadata": {
    "ExecuteTime": {
     "end_time": "2021-04-11T17:17:50.411231Z",
     "start_time": "2021-04-11T17:17:50.282533Z"
    }
   },
   "outputs": [],
   "source": [
    "state=pd.get_dummies(data['State'],drop_first=True)"
   ]
  },
  {
   "cell_type": "markdown",
   "metadata": {},
   "source": [
    "### Standardization"
   ]
  },
  {
   "cell_type": "code",
   "execution_count": 114,
   "metadata": {
    "ExecuteTime": {
     "end_time": "2021-04-11T17:17:52.322664Z",
     "start_time": "2021-04-11T17:17:52.301775Z"
    }
   },
   "outputs": [],
   "source": [
    "cdata.iloc[:,:]=StandardScaler().fit_transform(cdata.iloc[:,0:])"
   ]
  },
  {
   "cell_type": "code",
   "execution_count": 115,
   "metadata": {
    "ExecuteTime": {
     "end_time": "2021-04-11T17:18:03.422867Z",
     "start_time": "2021-04-11T17:18:03.409985Z"
    }
   },
   "outputs": [],
   "source": [
    "cdata\n",
    "X=cdata.iloc[:,:-1]\n",
    "y=cdata.iloc[:,-1]"
   ]
  },
  {
   "cell_type": "code",
   "execution_count": 116,
   "metadata": {
    "ExecuteTime": {
     "end_time": "2021-04-11T17:18:04.572602Z",
     "start_time": "2021-04-11T17:18:03.933190Z"
    }
   },
   "outputs": [],
   "source": [
    "cdata=pd.concat([cdata,state],axis=1)"
   ]
  },
  {
   "cell_type": "code",
   "execution_count": 117,
   "metadata": {
    "ExecuteTime": {
     "end_time": "2021-04-11T17:18:04.606117Z",
     "start_time": "2021-04-11T17:18:04.573603Z"
    }
   },
   "outputs": [],
   "source": [
    "from sklearn.linear_model import LinearRegression\n",
    "from sklearn.model_selection import train_test_split  \n",
    "x_train, x_test, y_train, y_test = train_test_split(X,y,test_size=0.3, random_state=0) "
   ]
  },
  {
   "cell_type": "code",
   "execution_count": 118,
   "metadata": {
    "ExecuteTime": {
     "end_time": "2021-04-11T17:18:05.090796Z",
     "start_time": "2021-04-11T17:18:05.022378Z"
    }
   },
   "outputs": [
    {
     "name": "stdout",
     "output_type": "stream",
     "text": [
      "Training complete.\n"
     ]
    }
   ],
   "source": [
    "regressor = LinearRegression()  \n",
    "a=regressor.fit(x_train, y_train) \n",
    "\n",
    "print(\"Training complete.\")"
   ]
  },
  {
   "cell_type": "code",
   "execution_count": 119,
   "metadata": {
    "ExecuteTime": {
     "end_time": "2021-04-11T17:18:05.413410Z",
     "start_time": "2021-04-11T17:18:05.405527Z"
    }
   },
   "outputs": [],
   "source": [
    "y_pred = regressor.predict(x_test)"
   ]
  },
  {
   "cell_type": "code",
   "execution_count": 120,
   "metadata": {
    "ExecuteTime": {
     "end_time": "2021-04-11T17:18:06.315134Z",
     "start_time": "2021-04-11T17:18:05.737092Z"
    }
   },
   "outputs": [
    {
     "data": {
      "text/html": [
       "<div>\n",
       "<style scoped>\n",
       "    .dataframe tbody tr th:only-of-type {\n",
       "        vertical-align: middle;\n",
       "    }\n",
       "\n",
       "    .dataframe tbody tr th {\n",
       "        vertical-align: top;\n",
       "    }\n",
       "\n",
       "    .dataframe thead th {\n",
       "        text-align: right;\n",
       "    }\n",
       "</style>\n",
       "<table border=\"1\" class=\"dataframe\">\n",
       "  <thead>\n",
       "    <tr style=\"text-align: right;\">\n",
       "      <th></th>\n",
       "      <th>Actual</th>\n",
       "      <th>Predicted</th>\n",
       "    </tr>\n",
       "  </thead>\n",
       "  <tbody>\n",
       "    <tr>\n",
       "      <th>28</th>\n",
       "      <td>-0.218798</td>\n",
       "      <td>-0.199448</td>\n",
       "    </tr>\n",
       "    <tr>\n",
       "      <th>11</th>\n",
       "      <td>0.808168</td>\n",
       "      <td>0.518951</td>\n",
       "    </tr>\n",
       "    <tr>\n",
       "      <th>10</th>\n",
       "      <td>0.854847</td>\n",
       "      <td>0.542031</td>\n",
       "    </tr>\n",
       "    <tr>\n",
       "      <th>41</th>\n",
       "      <td>-0.857466</td>\n",
       "      <td>-0.995408</td>\n",
       "    </tr>\n",
       "    <tr>\n",
       "      <th>2</th>\n",
       "      <td>1.980842</td>\n",
       "      <td>1.696019</td>\n",
       "    </tr>\n",
       "  </tbody>\n",
       "</table>\n",
       "</div>"
      ],
      "text/plain": [
       "      Actual  Predicted\n",
       "28 -0.218798  -0.199448\n",
       "11  0.808168   0.518951\n",
       "10  0.854847   0.542031\n",
       "41 -0.857466  -0.995408\n",
       "2   1.980842   1.696019"
      ]
     },
     "execution_count": 120,
     "metadata": {},
     "output_type": "execute_result"
    }
   ],
   "source": [
    "df = pd.DataFrame({'Actual': y_test, 'Predicted': y_pred})\n",
    "df.head()"
   ]
  },
  {
   "cell_type": "code",
   "execution_count": 121,
   "metadata": {
    "ExecuteTime": {
     "end_time": "2021-04-11T17:18:06.349441Z",
     "start_time": "2021-04-11T17:18:06.327505Z"
    }
   },
   "outputs": [
    {
     "name": "stdout",
     "output_type": "stream",
     "text": [
      "R_Squared score(test): 0.9355188337118217\n"
     ]
    }
   ],
   "source": [
    "from sklearn import metrics  \n",
    "print('R_Squared score(test):',\n",
    "        metrics.r2_score(y_test, y_pred))"
   ]
  },
  {
   "cell_type": "markdown",
   "metadata": {},
   "source": [
    "### Applying Power Transformation"
   ]
  },
  {
   "cell_type": "code",
   "execution_count": 122,
   "metadata": {
    "ExecuteTime": {
     "end_time": "2021-04-11T17:18:07.082362Z",
     "start_time": "2021-04-11T17:18:07.060606Z"
    }
   },
   "outputs": [],
   "source": [
    "Powerdata=Scikitdata.drop(['State'],axis=1)"
   ]
  },
  {
   "cell_type": "code",
   "execution_count": 123,
   "metadata": {
    "ExecuteTime": {
     "end_time": "2021-04-11T17:18:07.456892Z",
     "start_time": "2021-04-11T17:18:07.437873Z"
    }
   },
   "outputs": [],
   "source": [
    "state=pd.get_dummies(data['State'],drop_first=True)"
   ]
  },
  {
   "cell_type": "code",
   "execution_count": 124,
   "metadata": {
    "ExecuteTime": {
     "end_time": "2021-04-11T17:18:08.139755Z",
     "start_time": "2021-04-11T17:18:07.813615Z"
    }
   },
   "outputs": [
    {
     "data": {
      "text/html": [
       "<div>\n",
       "<style scoped>\n",
       "    .dataframe tbody tr th:only-of-type {\n",
       "        vertical-align: middle;\n",
       "    }\n",
       "\n",
       "    .dataframe tbody tr th {\n",
       "        vertical-align: top;\n",
       "    }\n",
       "\n",
       "    .dataframe thead th {\n",
       "        text-align: right;\n",
       "    }\n",
       "</style>\n",
       "<table border=\"1\" class=\"dataframe\">\n",
       "  <thead>\n",
       "    <tr style=\"text-align: right;\">\n",
       "      <th></th>\n",
       "      <th>R&amp;D Spend</th>\n",
       "      <th>Administration</th>\n",
       "      <th>Marketing Spend</th>\n",
       "      <th>Profit</th>\n",
       "      <th>Florida</th>\n",
       "      <th>New York</th>\n",
       "    </tr>\n",
       "  </thead>\n",
       "  <tbody>\n",
       "    <tr>\n",
       "      <th>0</th>\n",
       "      <td>1.562570</td>\n",
       "      <td>0.529102</td>\n",
       "      <td>1.580363</td>\n",
       "      <td>1.987125</td>\n",
       "      <td>0</td>\n",
       "      <td>1</td>\n",
       "    </tr>\n",
       "    <tr>\n",
       "      <th>1</th>\n",
       "      <td>1.527028</td>\n",
       "      <td>1.131285</td>\n",
       "      <td>1.451634</td>\n",
       "      <td>1.975666</td>\n",
       "      <td>0</td>\n",
       "      <td>0</td>\n",
       "    </tr>\n",
       "    <tr>\n",
       "      <th>2</th>\n",
       "      <td>1.406784</td>\n",
       "      <td>-0.790378</td>\n",
       "      <td>1.279964</td>\n",
       "      <td>1.957572</td>\n",
       "      <td>1</td>\n",
       "      <td>0</td>\n",
       "    </tr>\n",
       "    <tr>\n",
       "      <th>3</th>\n",
       "      <td>1.284497</td>\n",
       "      <td>-0.174305</td>\n",
       "      <td>1.157809</td>\n",
       "      <td>1.758577</td>\n",
       "      <td>0</td>\n",
       "      <td>1</td>\n",
       "    </tr>\n",
       "    <tr>\n",
       "      <th>4</th>\n",
       "      <td>1.253427</td>\n",
       "      <td>-1.106257</td>\n",
       "      <td>1.071572</td>\n",
       "      <td>1.349158</td>\n",
       "      <td>1</td>\n",
       "      <td>0</td>\n",
       "    </tr>\n",
       "  </tbody>\n",
       "</table>\n",
       "</div>"
      ],
      "text/plain": [
       "   R&D Spend  Administration  Marketing Spend    Profit  Florida  New York\n",
       "0   1.562570        0.529102         1.580363  1.987125        0         1\n",
       "1   1.527028        1.131285         1.451634  1.975666        0         0\n",
       "2   1.406784       -0.790378         1.279964  1.957572        1         0\n",
       "3   1.284497       -0.174305         1.157809  1.758577        0         1\n",
       "4   1.253427       -1.106257         1.071572  1.349158        1         0"
      ]
     },
     "execution_count": 124,
     "metadata": {},
     "output_type": "execute_result"
    }
   ],
   "source": [
    "pt = PowerTransformer(method='yeo-johnson', standardize=True)\n",
    "skl_yeojohnson = pt.fit(Powerdata)\n",
    "calc_lambdas = skl_yeojohnson.lambdas_\n",
    "skl_yeojohnson = pt.transform(Powerdata)\n",
    "df_ptdata = pd.DataFrame(data=skl_yeojohnson, columns=['R&D Spend','Administration','Marketing Spend','Profit'])\n",
    "df_ptdata\n",
    "df_ptdata = pd.concat([df_ptdata,state],axis=1)\n",
    "df_ptdata.head(5)"
   ]
  },
  {
   "cell_type": "code",
   "execution_count": 125,
   "metadata": {
    "ExecuteTime": {
     "end_time": "2021-04-11T17:18:08.244322Z",
     "start_time": "2021-04-11T17:18:08.225615Z"
    }
   },
   "outputs": [],
   "source": [
    "X=df_ptdata[['R&D Spend','Administration','Marketing Spend','Florida','New York']]\n",
    "y=df_ptdata['Profit']"
   ]
  },
  {
   "cell_type": "code",
   "execution_count": 126,
   "metadata": {
    "ExecuteTime": {
     "end_time": "2021-04-11T17:18:08.704215Z",
     "start_time": "2021-04-11T17:18:08.679925Z"
    }
   },
   "outputs": [],
   "source": [
    "from sklearn.linear_model import LinearRegression\n",
    "from sklearn.model_selection import train_test_split  \n",
    "X_train, X_test, y_train, y_test = train_test_split(X,y,test_size=0.3, random_state=0) "
   ]
  },
  {
   "cell_type": "code",
   "execution_count": 127,
   "metadata": {
    "ExecuteTime": {
     "end_time": "2021-04-11T17:18:10.040038Z",
     "start_time": "2021-04-11T17:18:09.065293Z"
    }
   },
   "outputs": [],
   "source": [
    "model = LinearRegression()\n",
    "model.fit(X_train,y_train)\n",
    "#Prediction\n",
    "y_pred = model.predict(X_test)\n",
    "\n",
    "LR2 = r2_score(y_test,y_pred)"
   ]
  },
  {
   "cell_type": "code",
   "execution_count": 128,
   "metadata": {
    "ExecuteTime": {
     "end_time": "2021-04-11T17:18:10.088467Z",
     "start_time": "2021-04-11T17:18:10.047925Z"
    }
   },
   "outputs": [
    {
     "data": {
      "text/plain": [
       "0.8466151526757889"
      ]
     },
     "execution_count": 128,
     "metadata": {},
     "output_type": "execute_result"
    }
   ],
   "source": [
    "LR2"
   ]
  },
  {
   "cell_type": "markdown",
   "metadata": {},
   "source": [
    "### Applying Quantile Transformation"
   ]
  },
  {
   "cell_type": "code",
   "execution_count": 129,
   "metadata": {
    "ExecuteTime": {
     "end_time": "2021-04-11T17:18:10.855448Z",
     "start_time": "2021-04-11T17:18:10.832668Z"
    }
   },
   "outputs": [],
   "source": [
    "Qdata=Scikitdata.drop(['State'],axis=1)"
   ]
  },
  {
   "cell_type": "code",
   "execution_count": 130,
   "metadata": {
    "ExecuteTime": {
     "end_time": "2021-04-11T17:18:11.522685Z",
     "start_time": "2021-04-11T17:18:11.307192Z"
    }
   },
   "outputs": [],
   "source": [
    "from sklearn.preprocessing import QuantileTransformer"
   ]
  },
  {
   "cell_type": "code",
   "execution_count": 131,
   "metadata": {
    "ExecuteTime": {
     "end_time": "2021-04-11T17:18:11.711529Z",
     "start_time": "2021-04-11T17:18:11.687374Z"
    }
   },
   "outputs": [
    {
     "name": "stderr",
     "output_type": "stream",
     "text": [
      "C:\\Users\\Public\\anacon\\lib\\site-packages\\sklearn\\preprocessing\\_data.py:2354: UserWarning: n_quantiles (1000) is greater than the total number of samples (50). n_quantiles is set to n_samples.\n",
      "  warnings.warn(\"n_quantiles (%s) is greater than the total number \"\n"
     ]
    }
   ],
   "source": [
    "qt = QuantileTransformer(random_state=0)\n",
    "qtdf = qt.fit_transform(Qdata)\n",
    "qtdf = qt.transform(Qdata)\n",
    "df_qtdata = pd.DataFrame(data=qtdf, columns=['R&D','Administration','MS','Profit'])\n",
    "df_qtdata\n",
    "df_qtdata = pd.concat([df_qtdata,state],axis=1)"
   ]
  },
  {
   "cell_type": "code",
   "execution_count": 132,
   "metadata": {
    "ExecuteTime": {
     "end_time": "2021-04-11T17:18:12.212733Z",
     "start_time": "2021-04-11T17:18:12.184385Z"
    }
   },
   "outputs": [
    {
     "data": {
      "text/html": [
       "<div>\n",
       "<style scoped>\n",
       "    .dataframe tbody tr th:only-of-type {\n",
       "        vertical-align: middle;\n",
       "    }\n",
       "\n",
       "    .dataframe tbody tr th {\n",
       "        vertical-align: top;\n",
       "    }\n",
       "\n",
       "    .dataframe thead th {\n",
       "        text-align: right;\n",
       "    }\n",
       "</style>\n",
       "<table border=\"1\" class=\"dataframe\">\n",
       "  <thead>\n",
       "    <tr style=\"text-align: right;\">\n",
       "      <th></th>\n",
       "      <th>R&amp;D</th>\n",
       "      <th>Administration</th>\n",
       "      <th>MS</th>\n",
       "      <th>Profit</th>\n",
       "      <th>Florida</th>\n",
       "      <th>New York</th>\n",
       "    </tr>\n",
       "  </thead>\n",
       "  <tbody>\n",
       "    <tr>\n",
       "      <th>0</th>\n",
       "      <td>1.000000</td>\n",
       "      <td>0.693878</td>\n",
       "      <td>1.000000</td>\n",
       "      <td>1.000000</td>\n",
       "      <td>0</td>\n",
       "      <td>1</td>\n",
       "    </tr>\n",
       "    <tr>\n",
       "      <th>1</th>\n",
       "      <td>0.979592</td>\n",
       "      <td>0.836735</td>\n",
       "      <td>0.979592</td>\n",
       "      <td>0.979592</td>\n",
       "      <td>0</td>\n",
       "      <td>0</td>\n",
       "    </tr>\n",
       "    <tr>\n",
       "      <th>2</th>\n",
       "      <td>0.959184</td>\n",
       "      <td>0.224490</td>\n",
       "      <td>0.959184</td>\n",
       "      <td>0.959184</td>\n",
       "      <td>1</td>\n",
       "      <td>0</td>\n",
       "    </tr>\n",
       "    <tr>\n",
       "      <th>3</th>\n",
       "      <td>0.938776</td>\n",
       "      <td>0.448980</td>\n",
       "      <td>0.938776</td>\n",
       "      <td>0.938776</td>\n",
       "      <td>0</td>\n",
       "      <td>1</td>\n",
       "    </tr>\n",
       "    <tr>\n",
       "      <th>4</th>\n",
       "      <td>0.918367</td>\n",
       "      <td>0.122449</td>\n",
       "      <td>0.918367</td>\n",
       "      <td>0.918367</td>\n",
       "      <td>1</td>\n",
       "      <td>0</td>\n",
       "    </tr>\n",
       "  </tbody>\n",
       "</table>\n",
       "</div>"
      ],
      "text/plain": [
       "        R&D  Administration        MS    Profit  Florida  New York\n",
       "0  1.000000        0.693878  1.000000  1.000000        0         1\n",
       "1  0.979592        0.836735  0.979592  0.979592        0         0\n",
       "2  0.959184        0.224490  0.959184  0.959184        1         0\n",
       "3  0.938776        0.448980  0.938776  0.938776        0         1\n",
       "4  0.918367        0.122449  0.918367  0.918367        1         0"
      ]
     },
     "execution_count": 132,
     "metadata": {},
     "output_type": "execute_result"
    }
   ],
   "source": [
    "df_qtdata.head()"
   ]
  },
  {
   "cell_type": "code",
   "execution_count": 133,
   "metadata": {
    "ExecuteTime": {
     "end_time": "2021-04-11T17:18:12.574338Z",
     "start_time": "2021-04-11T17:18:12.556633Z"
    }
   },
   "outputs": [],
   "source": [
    "X=df_qtdata[['R&D','Administration','MS','Florida','New York']]\n",
    "y=df_qtdata['Profit']"
   ]
  },
  {
   "cell_type": "code",
   "execution_count": 134,
   "metadata": {
    "ExecuteTime": {
     "end_time": "2021-04-11T17:18:12.968662Z",
     "start_time": "2021-04-11T17:18:12.950676Z"
    }
   },
   "outputs": [],
   "source": [
    "from sklearn.linear_model import LinearRegression\n",
    "from sklearn.model_selection import train_test_split  \n",
    "X_train, X_test, y_train, y_test = train_test_split(X,y,test_size=0.3, random_state=0) "
   ]
  },
  {
   "cell_type": "code",
   "execution_count": 135,
   "metadata": {
    "ExecuteTime": {
     "end_time": "2021-04-11T17:18:13.463901Z",
     "start_time": "2021-04-11T17:18:13.433783Z"
    }
   },
   "outputs": [],
   "source": [
    "model = LinearRegression()\n",
    "model.fit(X_train,y_train)\n",
    "#Prediction\n",
    "y_pred = model.predict(X_test)\n",
    "\n",
    "LR2 = r2_score(y_test,y_pred)"
   ]
  },
  {
   "cell_type": "code",
   "execution_count": 136,
   "metadata": {
    "ExecuteTime": {
     "end_time": "2021-04-11T17:18:14.045800Z",
     "start_time": "2021-04-11T17:18:14.023687Z"
    }
   },
   "outputs": [
    {
     "data": {
      "text/plain": [
       "0.9697482460452594"
      ]
     },
     "execution_count": 136,
     "metadata": {},
     "output_type": "execute_result"
    }
   ],
   "source": [
    "LR2"
   ]
  },
  {
   "cell_type": "markdown",
   "metadata": {},
   "source": [
    "#### Outcomes: \n",
    "By Using OLS method and applying Quantile Transformation, we got the best r_squared accuracy of about 98% "
   ]
  },
  {
   "cell_type": "code",
   "execution_count": null,
   "metadata": {},
   "outputs": [],
   "source": []
  }
 ],
 "metadata": {
  "kernelspec": {
   "display_name": "Python 3",
   "language": "python",
   "name": "python3"
  },
  "language_info": {
   "codemirror_mode": {
    "name": "ipython",
    "version": 3
   },
   "file_extension": ".py",
   "mimetype": "text/x-python",
   "name": "python",
   "nbconvert_exporter": "python",
   "pygments_lexer": "ipython3",
   "version": "3.8.5"
  }
 },
 "nbformat": 4,
 "nbformat_minor": 4
}
